{
 "cells": [
  {
   "cell_type": "markdown",
   "metadata": {},
   "source": [
    "# Анализ оттока клиентов банка"
   ]
  },
  {
   "cell_type": "markdown",
   "metadata": {},
   "source": [
    "<b>Цель проекта</b>: Проанализировать отток клиентов банка «Метанпром» и выявить клиентские сегменты, склонные к уходу, с применением методов кластеризации. Результаты анализа могут быть использованы для разработки стратегий удержания клиентов."
   ]
  },
  {
   "cell_type": "markdown",
   "metadata": {},
   "source": [
    "<b>Задачи проекта</b>:\n",
    "1. Загрузка и изучение данных:\n",
    "    - Загрузить данные, положить их в датафрейм.\n",
    "    - Изучить общую информацию, описать. "
   ]
  },
  {
   "cell_type": "markdown",
   "metadata": {},
   "source": [
    "2. Предобработка данных:\n",
    "    - Работа со столбцами (при необходимости).\n",
    "    - Анализ наличия и природы пропущенных значений.\n",
    "    - Обработка пропусков (удаление, заполнение или иные стратегии).\n",
    "    - Кодирование категориальных признаков для дальнейшего анализа.\n",
    "    - Поиск и устранение дублей (если имеются).\n",
    "    - Оценка распределения значений в столбцах, выявление выбросов."
   ]
  },
  {
   "cell_type": "markdown",
   "metadata": {},
   "source": [
    "3. EDA (исследовательский анализ данных):\n",
    "    - Анализ распределения признаков в разрезе оттока.\n",
    "    - Выявление взаимосвязей между churn и другими признаками (корреляционный анализ).\n",
    "    - Построение портретов клиентов, склонных к оттоку."
   ]
  },
  {
   "cell_type": "markdown",
   "metadata": {},
   "source": [
    "4. Статистический анализ:\n",
    "    - Проверка статистических гипотез о различиях между ушедшими и оставшимися клиентами.\n",
    "    - Обоснование выбора статистических тестов.\n",
    "    - Анализ значимости факторов."
   ]
  },
  {
   "cell_type": "markdown",
   "metadata": {},
   "source": [
    "5. Подведение промежуточных итогов."
   ]
  },
  {
   "cell_type": "markdown",
   "metadata": {},
   "source": [
    "6. Кластеризация клиентов:\n",
    "    - Формулировка задачи машинного обучения: Задача кластеризации - выделение сегментов (кластеров) клиентов на основе схожих характеристик.\n",
    "    - Выбор метода кластеризации: K-Means (если данные чётко разделяются, возможна корректировка метода после EDA).\n",
    "    - Выбор метрики для кластеризации: евклидово расстояние (для K-Means).\n",
    "    - Оценка оптимального числа кластеров (метод Elbow).\n",
    "    - Подготовка данных: масштабирование признаков, отбор релевантных характеристик.\n",
    "    - Анализ полученных кластеров: интерпретация характеристик клиентов в каждом сегменте."
   ]
  },
  {
   "cell_type": "markdown",
   "metadata": {},
   "source": [
    "7. Приоритизация сегментов:\n",
    "    - Определение сегментов с наибольшей склонностью к оттоку.\n",
    "    - Выделение ключевых характеристик рисковых клиентов."
   ]
  },
  {
   "cell_type": "markdown",
   "metadata": {},
   "source": [
    "8. Формирование рекомендаций:\n",
    "    - Разработка стратегии взаимодействия с каждым выделенным сегментом.\n",
    "    - Определение потенциальных мер по снижению оттока.\n",
    "    - Выявление возможностей персонализированных предложений клиентам."
   ]
  },
  {
   "cell_type": "markdown",
   "metadata": {},
   "source": [
    "Датасет содержит данные о клиентах банка «Метанпром». Банк располагается в\n",
    "Ярославле и областных городах: Ростов Великий и Рыбинск.\n",
    "\n",
    "Описание столбцов:\n",
    "- `USERID` — идентификатор пользователя,\n",
    "- `score` — баллы кредитного скоринга,\n",
    "- `city` — город,\n",
    "- `gender` — пол,\n",
    "- `age` — возраст,\n",
    "- `equity` — количество баллов собственности\n",
    "- `balance` — баланс на счёте,\n",
    "- `products` — количество продуктов, которыми пользуется клиент,\n",
    "- `credit_card` — есть ли кредитная карта,\n",
    "- `last_activity` — активный клиент,\n",
    "- `EST_SALARY` — оценочный доход клиента,\n",
    "- `сhurn` — признак оттока."
   ]
  },
  {
   "cell_type": "markdown",
   "metadata": {},
   "source": [
    "## Загрузка и изучение данных"
   ]
  },
  {
   "cell_type": "markdown",
   "metadata": {},
   "source": [
    "Загрузим датасет, сохраним его в датафрейм и изучим общую информацию о данных."
   ]
  },
  {
   "cell_type": "code",
   "execution_count": 1,
   "metadata": {},
   "outputs": [],
   "source": [
    "# Подключение всех необходимых библиотек\n",
    "import pandas as pd\n",
    "import numpy as np\n",
    "import matplotlib.pyplot as plt\n",
    "import seaborn as sns\n",
    "\n",
    "# Задаем стиль графиков\n",
    "sns.set(style=\"whitegrid\")\n",
    "\n",
    "# Методы для стат. тестов\n",
    "import scipy.stats as stats\n",
    "from scipy.stats import ttest_ind\n",
    "from scipy.stats import mannwhitneyu\n",
    "from scipy.stats import chi2_contingency\n",
    "\n",
    "# Методы для кластеризации\n",
    "from sklearn.preprocessing import MinMaxScaler\n",
    "from sklearn.cluster import KMeans\n",
    "from sklearn.metrics import silhouette_score\n",
    "\n",
    "# Настройка pandas для отображения полного текста\n",
    "pd.set_option('display.max_colwidth', None)"
   ]
  },
  {
   "cell_type": "code",
   "execution_count": 2,
   "metadata": {},
   "outputs": [
    {
     "data": {
      "text/html": [
       "<div>\n",
       "<style scoped>\n",
       "    .dataframe tbody tr th:only-of-type {\n",
       "        vertical-align: middle;\n",
       "    }\n",
       "\n",
       "    .dataframe tbody tr th {\n",
       "        vertical-align: top;\n",
       "    }\n",
       "\n",
       "    .dataframe thead th {\n",
       "        text-align: right;\n",
       "    }\n",
       "</style>\n",
       "<table border=\"1\" class=\"dataframe\">\n",
       "  <thead>\n",
       "    <tr style=\"text-align: right;\">\n",
       "      <th></th>\n",
       "      <th>USERID</th>\n",
       "      <th>score</th>\n",
       "      <th>city</th>\n",
       "      <th>gender</th>\n",
       "      <th>age</th>\n",
       "      <th>equity</th>\n",
       "      <th>balance</th>\n",
       "      <th>products</th>\n",
       "      <th>credit_card</th>\n",
       "      <th>last_activity</th>\n",
       "      <th>EST_SALARY</th>\n",
       "      <th>churn</th>\n",
       "    </tr>\n",
       "  </thead>\n",
       "  <tbody>\n",
       "    <tr>\n",
       "      <th>634</th>\n",
       "      <td>141301</td>\n",
       "      <td>952.0</td>\n",
       "      <td>Ярославль</td>\n",
       "      <td>М</td>\n",
       "      <td>35.0</td>\n",
       "      <td>5</td>\n",
       "      <td>6673219.33</td>\n",
       "      <td>4</td>\n",
       "      <td>1</td>\n",
       "      <td>0</td>\n",
       "      <td>406287.12</td>\n",
       "      <td>1</td>\n",
       "    </tr>\n",
       "    <tr>\n",
       "      <th>7810</th>\n",
       "      <td>215319</td>\n",
       "      <td>950.0</td>\n",
       "      <td>Ярославль</td>\n",
       "      <td>М</td>\n",
       "      <td>42.0</td>\n",
       "      <td>3</td>\n",
       "      <td>1440397.46</td>\n",
       "      <td>1</td>\n",
       "      <td>1</td>\n",
       "      <td>0</td>\n",
       "      <td>311130.64</td>\n",
       "      <td>0</td>\n",
       "    </tr>\n",
       "    <tr>\n",
       "      <th>3702</th>\n",
       "      <td>200644</td>\n",
       "      <td>752.0</td>\n",
       "      <td>Ярославль</td>\n",
       "      <td>М</td>\n",
       "      <td>32.0</td>\n",
       "      <td>2</td>\n",
       "      <td>102215.71</td>\n",
       "      <td>1</td>\n",
       "      <td>1</td>\n",
       "      <td>0</td>\n",
       "      <td>62498.47</td>\n",
       "      <td>0</td>\n",
       "    </tr>\n",
       "    <tr>\n",
       "      <th>841</th>\n",
       "      <td>197887</td>\n",
       "      <td>721.0</td>\n",
       "      <td>Ярославль</td>\n",
       "      <td>М</td>\n",
       "      <td>42.0</td>\n",
       "      <td>0</td>\n",
       "      <td>NaN</td>\n",
       "      <td>1</td>\n",
       "      <td>1</td>\n",
       "      <td>1</td>\n",
       "      <td>180702.97</td>\n",
       "      <td>0</td>\n",
       "    </tr>\n",
       "    <tr>\n",
       "      <th>4742</th>\n",
       "      <td>208660</td>\n",
       "      <td>776.0</td>\n",
       "      <td>Ростов</td>\n",
       "      <td>Ж</td>\n",
       "      <td>53.0</td>\n",
       "      <td>3</td>\n",
       "      <td>484506.27</td>\n",
       "      <td>3</td>\n",
       "      <td>1</td>\n",
       "      <td>0</td>\n",
       "      <td>106797.50</td>\n",
       "      <td>0</td>\n",
       "    </tr>\n",
       "  </tbody>\n",
       "</table>\n",
       "</div>"
      ],
      "text/plain": [
       "      USERID  score       city gender   age  equity     balance  products  \\\n",
       "634   141301  952.0  Ярославль      М  35.0       5  6673219.33         4   \n",
       "7810  215319  950.0  Ярославль      М  42.0       3  1440397.46         1   \n",
       "3702  200644  752.0  Ярославль      М  32.0       2   102215.71         1   \n",
       "841   197887  721.0  Ярославль      М  42.0       0         NaN         1   \n",
       "4742  208660  776.0     Ростов      Ж  53.0       3   484506.27         3   \n",
       "\n",
       "      credit_card  last_activity  EST_SALARY  churn  \n",
       "634             1              0   406287.12      1  \n",
       "7810            1              0   311130.64      0  \n",
       "3702            1              0    62498.47      0  \n",
       "841             1              1   180702.97      0  \n",
       "4742            1              0   106797.50      0  "
      ]
     },
     "execution_count": 2,
     "metadata": {},
     "output_type": "execute_result"
    }
   ],
   "source": [
    "data = pd.read_csv('https://code.s3.yandex.net/datasets/bank_scrooge.csv')\n",
    "data.sample(5)"
   ]
  },
  {
   "cell_type": "code",
   "execution_count": 3,
   "metadata": {},
   "outputs": [
    {
     "name": "stdout",
     "output_type": "stream",
     "text": [
      "<class 'pandas.core.frame.DataFrame'>\n",
      "RangeIndex: 10000 entries, 0 to 9999\n",
      "Data columns (total 12 columns):\n",
      " #   Column         Non-Null Count  Dtype  \n",
      "---  ------         --------------  -----  \n",
      " 0   USERID         10000 non-null  int64  \n",
      " 1   score          10000 non-null  float64\n",
      " 2   city           10000 non-null  object \n",
      " 3   gender         10000 non-null  object \n",
      " 4   age            9974 non-null   float64\n",
      " 5   equity         10000 non-null  int64  \n",
      " 6   balance        7705 non-null   float64\n",
      " 7   products       10000 non-null  int64  \n",
      " 8   credit_card    10000 non-null  int64  \n",
      " 9   last_activity  10000 non-null  int64  \n",
      " 10  EST_SALARY     10000 non-null  float64\n",
      " 11  churn          10000 non-null  int64  \n",
      "dtypes: float64(4), int64(6), object(2)\n",
      "memory usage: 937.6+ KB\n"
     ]
    }
   ],
   "source": [
    "data.info()"
   ]
  },
  {
   "cell_type": "markdown",
   "metadata": {},
   "source": [
    "В предоставленном датасете содержится информация о 10 000 клиентах банка «Метанпром», включая демографические и финансовые характеристики, а также признак оттока (`churn`). Данные представлены в 12 столбцах, среди которых числовые, категориальные и бинарные признаки. Числовые характеристики включают баллы кредитного скоринга (`score`), возраст (`age`), количество баллов собственности (`equity`), баланс на счете (`balance`), количество используемых банковских продуктов (`products`), оценочный доход (`EST_SALARY`). Категориальные признаки – это город проживания (`city`) и пол (`gender`). Бинарные признаки включают наличие кредитной карты (`credit_card`), активность клиента (`last_activity`) и сам признак оттока (`churn`). В данных присутствуют пропуски: 26 значений отсутствуют в столбце возраста (`age`), а в столбце баланса (`balance`) пропущено 2 295 значений, что составляет значительную долю данных. Остальные столбцы не содержат пропусков. "
   ]
  },
  {
   "cell_type": "markdown",
   "metadata": {},
   "source": [
    "Проверим корректность значений (уникальные значения) по столбцам."
   ]
  },
  {
   "cell_type": "code",
   "execution_count": 4,
   "metadata": {},
   "outputs": [
    {
     "name": "stdout",
     "output_type": "stream",
     "text": [
      "Unique values in city: ['Рыбинск' 'Ярославль' 'Ростов']\n",
      "Unique values in gender: ['Ж' 'М']\n",
      "Unique values in score: [ 850.  861.  892.  866.  730.  856.  807.  825.  923.  906.  927.  921.\n",
      "  845.  837.  815.  731.  829.  793.  876.  922.  772.  896.  871.  732.\n",
      "  898.  806.  766.  776.  868.  946.  828.  786.  944.  863.  822.  794.\n",
      "  924.  811.  814.  956.  935.  826.  849.  901.  893.  792.  888.  831.\n",
      "  748.  820.  860.  914.  930.  948.  789.  737.  812.  933.  809.  749.\n",
      "  873.  859.  950.  937.  835.  768.  767.  785.  846.  750.  816.  894.\n",
      "  891.  788.  758.  787.  821.  855.  779.  791.  838.  971.  797.  841.\n",
      "  915.  985.  870.  897.  763.  774.  686. 1000.  875.  819.  869.  854.\n",
      "  810.  761.  802.  958.  917.  745.  736.  908.  928.  884.  853.  780.\n",
      "  726.  881.  975.  852.  965.  899.  890.  836.  818.  880.  795.  916.\n",
      "  775.  902.  918.  842.  771.  895.  801.  721.  966.  804.  885.  986.\n",
      "  753.  832.  979.  798.  754.  756.  823.  658.  734.  954.  827.  929.\n",
      "  760.  688.  659.  817.  718.  705.  920.  652.  649.  862.  770.  824.\n",
      "  934.  952.  977.  840.  709.  878.  808.  900.  778.  800.  813.  905.\n",
      "  925.  697.  942.  848.  717.  712.  973.  879.  987.  805.  872.  904.\n",
      "  939.  993.  790.  799.  943.  903.  839.  882.  765.  883.  964.  833.\n",
      "  739.  911.  926.  751.  803.  762.  907.  910.  694.  867.  877.  706.\n",
      "  708.  691.  742.  889.  919.  864.  663.  913.  940.  887.  953.  746.\n",
      "  699.  858.  834.  847.  727.  782.  720.  938.  711.  725.  912.  851.\n",
      "  743.  685.  830.  701.  733.  777.  784.  949.  724.  769.  687.  773.\n",
      "  857.  963.  741.  931.  974.  764.  886.  844.  874.  909.  951.  947.\n",
      "  689.  715.  865.  945.  796.  682.  714.  976.  992.  707.  713.  781.\n",
      "  668.  843.  932.  752.  962.  759.  757.  967.  646.  738.  722.  936.\n",
      "  664.  661.  728.  997.  755.  673.  703.  941.  988.  695.  961.  960.\n",
      "  651.  696.  653.  983.  972.  716.  692.  959.  783.  735.  968.  702.\n",
      "  740.  747.  955.  970.  990.  681.  744.  729.  982.  969.  980.  978.\n",
      "  710.  719.  655.  650.  991.  642.  700.  981.  657.  996.  669.  999.\n",
      "  698.  989.  957.  666.  671.  678.  693.  648.  690.  684.  994.  984.\n",
      "  723.  667.  654.  680.  998.  660.  670.  656.  665.  662.  704.  995.]\n",
      "Unique values in age: [25. 37. 30. 51. 34. 56. 39. 38. 54. 67. 52. 41. 31. 28. 35. 42. 45. 53.\n",
      " 40. 43. 47. 48. 61. 62. 36. 26. 27. 60. 72. 50. 46. 55. 58. 71. 44. 49.\n",
      " 33. 32. 66. 29. 68. 73. 69. 59. 21. 65. 57. 63. 80. 24. 70. 77. 64. 23.\n",
      " 20. 18. 19. 78. 74. 76. 22. 75. nan 83. 82. 81. 84. 79. 86.]\n",
      "Unique values in equity: [1 5 0 4 3 2 6 7 8 9]\n",
      "Unique values in products: [2 3 1 4 5 0]\n",
      "Unique values in credit_card: [0 1]\n",
      "Unique values in last_activity: [1 0]\n",
      "Unique values in churn: [1 0]\n"
     ]
    }
   ],
   "source": [
    "# Вывод уникальных значений в столбцах\n",
    "columns = ['city', 'gender', 'score', 'age', 'equity', 'products', 'credit_card', 'last_activity', 'churn']\n",
    "for col in columns:\n",
    "    print(f\"Unique values in {col}:\", data[col].unique())"
   ]
  },
  {
   "cell_type": "markdown",
   "metadata": {},
   "source": [
    "В столбце `products` не должно быть значения `0`. Посмотрим, сколько в датафрейме таких строк."
   ]
  },
  {
   "cell_type": "code",
   "execution_count": 5,
   "metadata": {},
   "outputs": [
    {
     "data": {
      "text/html": [
       "<div>\n",
       "<style scoped>\n",
       "    .dataframe tbody tr th:only-of-type {\n",
       "        vertical-align: middle;\n",
       "    }\n",
       "\n",
       "    .dataframe tbody tr th {\n",
       "        vertical-align: top;\n",
       "    }\n",
       "\n",
       "    .dataframe thead th {\n",
       "        text-align: right;\n",
       "    }\n",
       "</style>\n",
       "<table border=\"1\" class=\"dataframe\">\n",
       "  <thead>\n",
       "    <tr style=\"text-align: right;\">\n",
       "      <th></th>\n",
       "      <th>USERID</th>\n",
       "      <th>score</th>\n",
       "      <th>city</th>\n",
       "      <th>gender</th>\n",
       "      <th>age</th>\n",
       "      <th>equity</th>\n",
       "      <th>balance</th>\n",
       "      <th>products</th>\n",
       "      <th>credit_card</th>\n",
       "      <th>last_activity</th>\n",
       "      <th>EST_SALARY</th>\n",
       "      <th>churn</th>\n",
       "    </tr>\n",
       "  </thead>\n",
       "  <tbody>\n",
       "    <tr>\n",
       "      <th>8957</th>\n",
       "      <td>147837</td>\n",
       "      <td>962.0</td>\n",
       "      <td>Рыбинск</td>\n",
       "      <td>Ж</td>\n",
       "      <td>79.0</td>\n",
       "      <td>3</td>\n",
       "      <td>NaN</td>\n",
       "      <td>0</td>\n",
       "      <td>0</td>\n",
       "      <td>0</td>\n",
       "      <td>25063.96</td>\n",
       "      <td>1</td>\n",
       "    </tr>\n",
       "  </tbody>\n",
       "</table>\n",
       "</div>"
      ],
      "text/plain": [
       "      USERID  score     city gender   age  equity  balance  products  \\\n",
       "8957  147837  962.0  Рыбинск      Ж  79.0       3      NaN         0   \n",
       "\n",
       "      credit_card  last_activity  EST_SALARY  churn  \n",
       "8957            0              0    25063.96      1  "
      ]
     },
     "execution_count": 5,
     "metadata": {},
     "output_type": "execute_result"
    }
   ],
   "source": [
    "# Поиск строк, где products == 0\n",
    "data.query('products == 0')"
   ]
  },
  {
   "cell_type": "markdown",
   "metadata": {},
   "source": [
    "Скорее всего, это ошибка ведения данных. Чтобы оставить эту строку, заменим значение на `1`."
   ]
  },
  {
   "cell_type": "code",
   "execution_count": 6,
   "metadata": {},
   "outputs": [
    {
     "data": {
      "text/html": [
       "<div>\n",
       "<style scoped>\n",
       "    .dataframe tbody tr th:only-of-type {\n",
       "        vertical-align: middle;\n",
       "    }\n",
       "\n",
       "    .dataframe tbody tr th {\n",
       "        vertical-align: top;\n",
       "    }\n",
       "\n",
       "    .dataframe thead th {\n",
       "        text-align: right;\n",
       "    }\n",
       "</style>\n",
       "<table border=\"1\" class=\"dataframe\">\n",
       "  <thead>\n",
       "    <tr style=\"text-align: right;\">\n",
       "      <th></th>\n",
       "      <th>USERID</th>\n",
       "      <th>score</th>\n",
       "      <th>city</th>\n",
       "      <th>gender</th>\n",
       "      <th>age</th>\n",
       "      <th>equity</th>\n",
       "      <th>balance</th>\n",
       "      <th>products</th>\n",
       "      <th>credit_card</th>\n",
       "      <th>last_activity</th>\n",
       "      <th>EST_SALARY</th>\n",
       "      <th>churn</th>\n",
       "    </tr>\n",
       "  </thead>\n",
       "  <tbody>\n",
       "  </tbody>\n",
       "</table>\n",
       "</div>"
      ],
      "text/plain": [
       "Empty DataFrame\n",
       "Columns: [USERID, score, city, gender, age, equity, balance, products, credit_card, last_activity, EST_SALARY, churn]\n",
       "Index: []"
      ]
     },
     "execution_count": 6,
     "metadata": {},
     "output_type": "execute_result"
    }
   ],
   "source": [
    "# Замена значения\n",
    "data.loc[data['products'] == 0, 'products'] = 1\n",
    "\n",
    "# Проверка\n",
    "data.query('products == 0')"
   ]
  },
  {
   "cell_type": "markdown",
   "metadata": {},
   "source": [
    "Теперь все значения выглядят корректно.\n",
    "\n",
    "Как уже сказали выше, столбцы `city` и `gender` можно считать категориальными, поэтому позже можем их закодировать для удобства. <br>\n",
    "А столбцы `score` и `age` можем привести к целочисленному виду."
   ]
  },
  {
   "cell_type": "markdown",
   "metadata": {},
   "source": [
    "Таким образом, мы загрузили и изучили исходные данные."
   ]
  },
  {
   "cell_type": "markdown",
   "metadata": {},
   "source": [
    "## Предобработка данных"
   ]
  },
  {
   "cell_type": "markdown",
   "metadata": {},
   "source": [
    "### Работа со столбцами"
   ]
  },
  {
   "cell_type": "markdown",
   "metadata": {},
   "source": [
    "Для начала приведем названия столбцов к змеиному формату."
   ]
  },
  {
   "cell_type": "code",
   "execution_count": 7,
   "metadata": {},
   "outputs": [
    {
     "data": {
      "text/html": [
       "<div>\n",
       "<style scoped>\n",
       "    .dataframe tbody tr th:only-of-type {\n",
       "        vertical-align: middle;\n",
       "    }\n",
       "\n",
       "    .dataframe tbody tr th {\n",
       "        vertical-align: top;\n",
       "    }\n",
       "\n",
       "    .dataframe thead th {\n",
       "        text-align: right;\n",
       "    }\n",
       "</style>\n",
       "<table border=\"1\" class=\"dataframe\">\n",
       "  <thead>\n",
       "    <tr style=\"text-align: right;\">\n",
       "      <th></th>\n",
       "      <th>user_id</th>\n",
       "      <th>score</th>\n",
       "      <th>city</th>\n",
       "      <th>gender</th>\n",
       "      <th>age</th>\n",
       "      <th>equity</th>\n",
       "      <th>balance</th>\n",
       "      <th>products</th>\n",
       "      <th>credit_card</th>\n",
       "      <th>last_activity</th>\n",
       "      <th>est_salary</th>\n",
       "      <th>churn</th>\n",
       "    </tr>\n",
       "  </thead>\n",
       "  <tbody>\n",
       "    <tr>\n",
       "      <th>8748</th>\n",
       "      <td>174193</td>\n",
       "      <td>788.0</td>\n",
       "      <td>Ярославль</td>\n",
       "      <td>Ж</td>\n",
       "      <td>32.0</td>\n",
       "      <td>3</td>\n",
       "      <td>251092.49</td>\n",
       "      <td>3</td>\n",
       "      <td>1</td>\n",
       "      <td>0</td>\n",
       "      <td>89966.17</td>\n",
       "      <td>0</td>\n",
       "    </tr>\n",
       "  </tbody>\n",
       "</table>\n",
       "</div>"
      ],
      "text/plain": [
       "      user_id  score       city gender   age  equity    balance  products  \\\n",
       "8748   174193  788.0  Ярославль      Ж  32.0       3  251092.49         3   \n",
       "\n",
       "      credit_card  last_activity  est_salary  churn  \n",
       "8748            1              0    89966.17      0  "
      ]
     },
     "execution_count": 7,
     "metadata": {},
     "output_type": "execute_result"
    }
   ],
   "source": [
    "# Преобразование\n",
    "data.rename(columns={'USERID': 'user_id', 'EST_SALARY': 'est_salary'}, inplace=True)\n",
    "\n",
    "# Проверка\n",
    "data.sample()"
   ]
  },
  {
   "cell_type": "markdown",
   "metadata": {},
   "source": [
    "Преобразуем данные в нужные типы. Опишем, в каких столбцах заменили тип данных и почему.\n",
    "\n",
    "- Столбцы `score` и `age` перевести в `int` (предварительно заполнив пропуски в `age`). Поскольку пропусков в этом столбце меньше 1%, заполним их медианой, это не нарушит распределение. Но предварительно посмотрим корреляцию с другими признаками. Если корреляция заметная, заполним пропуски по сегментам, если нет - оставим медиану.\n",
    "- Город (`city`) – используем One-Hot Encoding, так как городов немного, и они не имеют явного порядка.\n",
    "- Пол (`gender`) – заменим `Ж` на `0`, `М` на `1`, так как это бинарная категория.\n",
    "\n",
    "Остальные столбцы уже имеют корректные типы."
   ]
  },
  {
   "cell_type": "code",
   "execution_count": 8,
   "metadata": {},
   "outputs": [
    {
     "name": "stdout",
     "output_type": "stream",
     "text": [
      "is_female    4995\n",
      "is_male      5005\n",
      "dtype: int64\n"
     ]
    }
   ],
   "source": [
    "# Преобразование столбца score в целочисленный формат\n",
    "data['score'] = data['score'].astype(int)\n",
    "\n",
    "# Кодирование пола с помощью get_dummies\n",
    "data = pd.get_dummies(data, columns=['gender'], dtype=int)\n",
    "\n",
    "# Переименование колонок для удобства\n",
    "data.rename(columns={'gender_Ж': 'is_female', 'gender_М': 'is_male'}, inplace=True)\n",
    "\n",
    "# Проверка корректности кодировки\n",
    "print(data[['is_female', 'is_male']].sum())"
   ]
  },
  {
   "cell_type": "code",
   "execution_count": 9,
   "metadata": {},
   "outputs": [
    {
     "name": "stdout",
     "output_type": "stream",
     "text": [
      "<class 'pandas.core.frame.DataFrame'>\n",
      "RangeIndex: 10000 entries, 0 to 9999\n",
      "Data columns (total 15 columns):\n",
      " #   Column          Non-Null Count  Dtype  \n",
      "---  ------          --------------  -----  \n",
      " 0   user_id         10000 non-null  int64  \n",
      " 1   score           10000 non-null  int64  \n",
      " 2   age             9974 non-null   float64\n",
      " 3   equity          10000 non-null  int64  \n",
      " 4   balance         7705 non-null   float64\n",
      " 5   products        10000 non-null  int64  \n",
      " 6   credit_card     10000 non-null  int64  \n",
      " 7   last_activity   10000 non-null  int64  \n",
      " 8   est_salary      10000 non-null  float64\n",
      " 9   churn           10000 non-null  int64  \n",
      " 10  is_female       10000 non-null  int64  \n",
      " 11  is_male         10000 non-null  int64  \n",
      " 12  city_Ростов     10000 non-null  int64  \n",
      " 13  city_Рыбинск    10000 non-null  int64  \n",
      " 14  city_Ярославль  10000 non-null  int64  \n",
      "dtypes: float64(3), int64(12)\n",
      "memory usage: 1.1 MB\n"
     ]
    },
    {
     "data": {
      "text/html": [
       "<div>\n",
       "<style scoped>\n",
       "    .dataframe tbody tr th:only-of-type {\n",
       "        vertical-align: middle;\n",
       "    }\n",
       "\n",
       "    .dataframe tbody tr th {\n",
       "        vertical-align: top;\n",
       "    }\n",
       "\n",
       "    .dataframe thead th {\n",
       "        text-align: right;\n",
       "    }\n",
       "</style>\n",
       "<table border=\"1\" class=\"dataframe\">\n",
       "  <thead>\n",
       "    <tr style=\"text-align: right;\">\n",
       "      <th></th>\n",
       "      <th>user_id</th>\n",
       "      <th>score</th>\n",
       "      <th>age</th>\n",
       "      <th>equity</th>\n",
       "      <th>balance</th>\n",
       "      <th>products</th>\n",
       "      <th>credit_card</th>\n",
       "      <th>last_activity</th>\n",
       "      <th>est_salary</th>\n",
       "      <th>churn</th>\n",
       "      <th>is_female</th>\n",
       "      <th>is_male</th>\n",
       "      <th>city_Ростов</th>\n",
       "      <th>city_Рыбинск</th>\n",
       "      <th>city_Ярославль</th>\n",
       "    </tr>\n",
       "  </thead>\n",
       "  <tbody>\n",
       "    <tr>\n",
       "      <th>0</th>\n",
       "      <td>183012</td>\n",
       "      <td>850</td>\n",
       "      <td>25.0</td>\n",
       "      <td>1</td>\n",
       "      <td>59214.82</td>\n",
       "      <td>2</td>\n",
       "      <td>0</td>\n",
       "      <td>1</td>\n",
       "      <td>75719.14</td>\n",
       "      <td>1</td>\n",
       "      <td>1</td>\n",
       "      <td>0</td>\n",
       "      <td>0</td>\n",
       "      <td>1</td>\n",
       "      <td>0</td>\n",
       "    </tr>\n",
       "    <tr>\n",
       "      <th>1</th>\n",
       "      <td>146556</td>\n",
       "      <td>861</td>\n",
       "      <td>37.0</td>\n",
       "      <td>5</td>\n",
       "      <td>850594.33</td>\n",
       "      <td>3</td>\n",
       "      <td>1</td>\n",
       "      <td>0</td>\n",
       "      <td>86621.77</td>\n",
       "      <td>0</td>\n",
       "      <td>1</td>\n",
       "      <td>0</td>\n",
       "      <td>0</td>\n",
       "      <td>1</td>\n",
       "      <td>0</td>\n",
       "    </tr>\n",
       "    <tr>\n",
       "      <th>2</th>\n",
       "      <td>120722</td>\n",
       "      <td>892</td>\n",
       "      <td>30.0</td>\n",
       "      <td>0</td>\n",
       "      <td>NaN</td>\n",
       "      <td>1</td>\n",
       "      <td>1</td>\n",
       "      <td>1</td>\n",
       "      <td>107683.34</td>\n",
       "      <td>0</td>\n",
       "      <td>1</td>\n",
       "      <td>0</td>\n",
       "      <td>0</td>\n",
       "      <td>1</td>\n",
       "      <td>0</td>\n",
       "    </tr>\n",
       "    <tr>\n",
       "      <th>3</th>\n",
       "      <td>225363</td>\n",
       "      <td>866</td>\n",
       "      <td>51.0</td>\n",
       "      <td>5</td>\n",
       "      <td>1524746.26</td>\n",
       "      <td>2</td>\n",
       "      <td>0</td>\n",
       "      <td>1</td>\n",
       "      <td>174423.53</td>\n",
       "      <td>1</td>\n",
       "      <td>1</td>\n",
       "      <td>0</td>\n",
       "      <td>0</td>\n",
       "      <td>0</td>\n",
       "      <td>1</td>\n",
       "    </tr>\n",
       "    <tr>\n",
       "      <th>4</th>\n",
       "      <td>157978</td>\n",
       "      <td>730</td>\n",
       "      <td>34.0</td>\n",
       "      <td>5</td>\n",
       "      <td>174.00</td>\n",
       "      <td>1</td>\n",
       "      <td>1</td>\n",
       "      <td>0</td>\n",
       "      <td>67353.16</td>\n",
       "      <td>1</td>\n",
       "      <td>0</td>\n",
       "      <td>1</td>\n",
       "      <td>0</td>\n",
       "      <td>0</td>\n",
       "      <td>1</td>\n",
       "    </tr>\n",
       "  </tbody>\n",
       "</table>\n",
       "</div>"
      ],
      "text/plain": [
       "   user_id  score   age  equity     balance  products  credit_card  \\\n",
       "0   183012    850  25.0       1    59214.82         2            0   \n",
       "1   146556    861  37.0       5   850594.33         3            1   \n",
       "2   120722    892  30.0       0         NaN         1            1   \n",
       "3   225363    866  51.0       5  1524746.26         2            0   \n",
       "4   157978    730  34.0       5      174.00         1            1   \n",
       "\n",
       "   last_activity  est_salary  churn  is_female  is_male  city_Ростов  \\\n",
       "0              1    75719.14      1          1        0            0   \n",
       "1              0    86621.77      0          1        0            0   \n",
       "2              1   107683.34      0          1        0            0   \n",
       "3              1   174423.53      1          1        0            0   \n",
       "4              0    67353.16      1          0        1            0   \n",
       "\n",
       "   city_Рыбинск  city_Ярославль  \n",
       "0             1               0  \n",
       "1             1               0  \n",
       "2             1               0  \n",
       "3             0               1  \n",
       "4             0               1  "
      ]
     },
     "execution_count": 9,
     "metadata": {},
     "output_type": "execute_result"
    }
   ],
   "source": [
    "# One-Hot Encoding для города\n",
    "data = pd.get_dummies(data, columns=['city'], dtype=int)\n",
    "\n",
    "# Проверим результат\n",
    "data.info()\n",
    "data.head()"
   ]
  },
  {
   "cell_type": "code",
   "execution_count": 10,
   "metadata": {},
   "outputs": [
    {
     "name": "stdout",
     "output_type": "stream",
     "text": [
      "Корреляция наличия пропусков в возрасте с другими признаками:\n"
     ]
    },
    {
     "data": {
      "text/plain": [
       "last_activity     0.025120\n",
       "city_Рыбинск      0.022098\n",
       "est_salary        0.011252\n",
       "credit_card       0.009726\n",
       "balance           0.007686\n",
       "score             0.005035\n",
       "is_male           0.003876\n",
       "is_female        -0.003876\n",
       "city_Ярославль   -0.009214\n",
       "city_Ростов      -0.015114\n",
       "churn            -0.018994\n",
       "equity           -0.032040\n",
       "products         -0.033764\n",
       "age                    NaN\n",
       "Name: age_missing, dtype: float64"
      ]
     },
     "execution_count": 10,
     "metadata": {},
     "output_type": "execute_result"
    }
   ],
   "source": [
    "# Исключаем user_id из данных перед расчетом корреляции\n",
    "data_corr = data.drop(columns=['user_id'])\n",
    "\n",
    "# Создаем индикатор пропусков\n",
    "data_corr['age_missing'] = data_corr['age'].isna().astype(int)\n",
    "\n",
    "# Вычисляем корреляцию наличия пропусков с другими признаками\n",
    "correlation_with_missing = data_corr.corr()['age_missing'].drop('age_missing')\n",
    "\n",
    "# Выводим корреляции\n",
    "print(\"Корреляция наличия пропусков в возрасте с другими признаками:\")\n",
    "correlation_with_missing.sort_values(ascending=False)"
   ]
  },
  {
   "cell_type": "markdown",
   "metadata": {},
   "source": [
    "Корреляция пропусков в `age` со всеми признаками близка к нулю, что говорит о случайном характере пропусков. Это означает, что заполнять их на основе сегментов (например, по активности или количеству продуктов) не имеет смысла, так как нет явной зависимости. Заполним эти пропуски медианой. Согласно классификации пропусков, такие данные относятся к `MCAR` (отсутствуют совершенно случайно), поэтому их заполнение медианным значением не приведет к искажению структуры данных."
   ]
  },
  {
   "cell_type": "code",
   "execution_count": 11,
   "metadata": {},
   "outputs": [
    {
     "name": "stdout",
     "output_type": "stream",
     "text": [
      "<class 'pandas.core.frame.DataFrame'>\n",
      "RangeIndex: 10000 entries, 0 to 9999\n",
      "Data columns (total 15 columns):\n",
      " #   Column          Non-Null Count  Dtype  \n",
      "---  ------          --------------  -----  \n",
      " 0   user_id         10000 non-null  int64  \n",
      " 1   score           10000 non-null  int64  \n",
      " 2   age             10000 non-null  int64  \n",
      " 3   equity          10000 non-null  int64  \n",
      " 4   balance         7705 non-null   float64\n",
      " 5   products        10000 non-null  int64  \n",
      " 6   credit_card     10000 non-null  int64  \n",
      " 7   last_activity   10000 non-null  int64  \n",
      " 8   est_salary      10000 non-null  float64\n",
      " 9   churn           10000 non-null  int64  \n",
      " 10  is_female       10000 non-null  int64  \n",
      " 11  is_male         10000 non-null  int64  \n",
      " 12  city_Ростов     10000 non-null  int64  \n",
      " 13  city_Рыбинск    10000 non-null  int64  \n",
      " 14  city_Ярославль  10000 non-null  int64  \n",
      "dtypes: float64(2), int64(13)\n",
      "memory usage: 1.1 MB\n"
     ]
    }
   ],
   "source": [
    "# Заполнение пропусков в возрасте медианным значением\n",
    "data['age'].fillna(data['age'].median(), inplace=True)\n",
    "# Преобразование в int \n",
    "data['age'] = data['age'].astype(int)\n",
    "\n",
    "# Проверка результата\n",
    "data.info()"
   ]
  },
  {
   "cell_type": "markdown",
   "metadata": {},
   "source": [
    "Работу со столбцами выполнили."
   ]
  },
  {
   "cell_type": "markdown",
   "metadata": {},
   "source": [
    "### Работа с пропусками"
   ]
  },
  {
   "cell_type": "markdown",
   "metadata": {},
   "source": [
    "Посмотрим, в каких столбцах остались пропуски и решим, как их обработаем."
   ]
  },
  {
   "cell_type": "code",
   "execution_count": 12,
   "metadata": {},
   "outputs": [
    {
     "data": {
      "text/html": [
       "<div>\n",
       "<style scoped>\n",
       "    .dataframe tbody tr th:only-of-type {\n",
       "        vertical-align: middle;\n",
       "    }\n",
       "\n",
       "    .dataframe tbody tr th {\n",
       "        vertical-align: top;\n",
       "    }\n",
       "\n",
       "    .dataframe thead th {\n",
       "        text-align: right;\n",
       "    }\n",
       "</style>\n",
       "<table border=\"1\" class=\"dataframe\">\n",
       "  <thead>\n",
       "    <tr style=\"text-align: right;\">\n",
       "      <th></th>\n",
       "      <th>Пропуски</th>\n",
       "      <th>Процент</th>\n",
       "    </tr>\n",
       "  </thead>\n",
       "  <tbody>\n",
       "    <tr>\n",
       "      <th>balance</th>\n",
       "      <td>2295</td>\n",
       "      <td>22.95</td>\n",
       "    </tr>\n",
       "  </tbody>\n",
       "</table>\n",
       "</div>"
      ],
      "text/plain": [
       "         Пропуски  Процент\n",
       "balance      2295    22.95"
      ]
     },
     "execution_count": 12,
     "metadata": {},
     "output_type": "execute_result"
    }
   ],
   "source": [
    "# Подсчёт пропусков\n",
    "missing_values = data.isnull().sum()\n",
    "missing_percent = (missing_values / len(data)) * 100\n",
    "\n",
    "# Оставляем только столбцы с пропусками\n",
    "missing_data = missing_values[missing_values > 0].to_frame(name='Пропуски')\n",
    "missing_data['Процент'] = missing_percent[missing_percent > 0]\n",
    "\n",
    "# Вывод\n",
    "missing_data"
   ]
  },
  {
   "cell_type": "markdown",
   "metadata": {},
   "source": [
    "Пропуски в `balance` (22.95%) - довольно значительная доля данных, поэтому их удаление может привести к потере полезной информации. Нужно понять их природу. Проверим, с какими характеристиками клиентов чаще всего связаны эти пропуски.\n",
    "\n",
    "Попробуем:\n",
    "- Посмотреть корреляцию с другими признаками.\n",
    "- Посмотреть распределение `balance`, включая пропущенные значения.\n",
    "- Проверить, зависят ли пропуски от других признаков (например, активности клиента или количества продуктов).\n",
    "- Вывести статистику по `balance` для клиентов с пропущенными значениями."
   ]
  },
  {
   "cell_type": "code",
   "execution_count": 13,
   "metadata": {},
   "outputs": [
    {
     "name": "stdout",
     "output_type": "stream",
     "text": [
      "Корреляция наличия пропусков в balance с другими признаками:\n"
     ]
    },
    {
     "data": {
      "text/plain": [
       "est_salary        0.307154\n",
       "credit_card       0.158334\n",
       "score             0.138871\n",
       "is_male           0.063424\n",
       "city_Ярославль    0.055919\n",
       "last_activity     0.028362\n",
       "city_Рыбинск     -0.013668\n",
       "age              -0.029112\n",
       "city_Ростов      -0.061508\n",
       "is_female        -0.063424\n",
       "churn            -0.249421\n",
       "products         -0.487387\n",
       "equity           -0.709951\n",
       "balance                NaN\n",
       "Name: balance_missing, dtype: float64"
      ]
     },
     "execution_count": 13,
     "metadata": {},
     "output_type": "execute_result"
    }
   ],
   "source": [
    "# Исключаем user_id из данных перед расчетом корреляции\n",
    "data_corr = data.drop(columns=['user_id'])\n",
    "\n",
    "# Создаем индикатор пропусков\n",
    "data_corr['balance_missing'] = data_corr['balance'].isna().astype(int)\n",
    "\n",
    "# Вычисляем корреляцию с другими признаками\n",
    "correlation_with_missing = data_corr.corr()['balance_missing'].drop('balance_missing')\n",
    "\n",
    "# Выводим корреляции\n",
    "print(\"Корреляция наличия пропусков в balance с другими признаками:\")\n",
    "correlation_with_missing.sort_values(ascending=False)"
   ]
  },
  {
   "cell_type": "code",
   "execution_count": 14,
   "metadata": {},
   "outputs": [
    {
     "data": {
      "image/png": "[encoded data removed]",
      "text/plain": [
       "<Figure size 720x360 with 1 Axes>"
      ]
     },
     "metadata": {},
     "output_type": "display_data"
    },
    {
     "name": "stdout",
     "output_type": "stream",
     "text": [
      "Зависимость пропусков от churn, активности и количества продуктов:\n",
      "   churn  last_activity  products  count\n",
      "0      0              0         1    861\n",
      "1      0              0         2    145\n",
      "2      0              0         3     18\n",
      "3      0              1         1   1081\n",
      "4      0              1         2    169\n",
      "5      0              1         3      8\n",
      "6      1              0         1      7\n",
      "7      1              0         3      3\n",
      "8      1              1         1      2\n",
      "9      1              1         2      1\n",
      "\n",
      "Статистика клиентов с пропущенным balance:\n"
     ]
    },
    {
     "data": {
      "text/html": [
       "<div>\n",
       "<style scoped>\n",
       "    .dataframe tbody tr th:only-of-type {\n",
       "        vertical-align: middle;\n",
       "    }\n",
       "\n",
       "    .dataframe tbody tr th {\n",
       "        vertical-align: top;\n",
       "    }\n",
       "\n",
       "    .dataframe thead th {\n",
       "        text-align: right;\n",
       "    }\n",
       "</style>\n",
       "<table border=\"1\" class=\"dataframe\">\n",
       "  <thead>\n",
       "    <tr style=\"text-align: right;\">\n",
       "      <th></th>\n",
       "      <th>user_id</th>\n",
       "      <th>score</th>\n",
       "      <th>age</th>\n",
       "      <th>equity</th>\n",
       "      <th>balance</th>\n",
       "      <th>products</th>\n",
       "      <th>credit_card</th>\n",
       "      <th>last_activity</th>\n",
       "      <th>est_salary</th>\n",
       "      <th>churn</th>\n",
       "      <th>is_female</th>\n",
       "      <th>is_male</th>\n",
       "      <th>city_Ростов</th>\n",
       "      <th>city_Рыбинск</th>\n",
       "      <th>city_Ярославль</th>\n",
       "    </tr>\n",
       "  </thead>\n",
       "  <tbody>\n",
       "    <tr>\n",
       "      <th>count</th>\n",
       "      <td>2295.000000</td>\n",
       "      <td>2295.000000</td>\n",
       "      <td>2295.000000</td>\n",
       "      <td>2295.000000</td>\n",
       "      <td>0.0</td>\n",
       "      <td>2295.000000</td>\n",
       "      <td>2295.000000</td>\n",
       "      <td>2295.000000</td>\n",
       "      <td>2.295000e+03</td>\n",
       "      <td>2295.000000</td>\n",
       "      <td>2295.000000</td>\n",
       "      <td>2295.000000</td>\n",
       "      <td>2295.000000</td>\n",
       "      <td>2295.000000</td>\n",
       "      <td>2295.000000</td>\n",
       "    </tr>\n",
       "    <tr>\n",
       "      <th>mean</th>\n",
       "      <td>172069.447930</td>\n",
       "      <td>865.352070</td>\n",
       "      <td>42.078431</td>\n",
       "      <td>0.050980</td>\n",
       "      <td>NaN</td>\n",
       "      <td>1.162527</td>\n",
       "      <td>0.815686</td>\n",
       "      <td>0.549455</td>\n",
       "      <td>2.263102e+05</td>\n",
       "      <td>0.005664</td>\n",
       "      <td>0.441394</td>\n",
       "      <td>0.558606</td>\n",
       "      <td>0.102397</td>\n",
       "      <td>0.258388</td>\n",
       "      <td>0.639216</td>\n",
       "    </tr>\n",
       "    <tr>\n",
       "      <th>std</th>\n",
       "      <td>33337.084589</td>\n",
       "      <td>89.603091</td>\n",
       "      <td>11.901109</td>\n",
       "      <td>0.225872</td>\n",
       "      <td>NaN</td>\n",
       "      <td>0.401814</td>\n",
       "      <td>0.387824</td>\n",
       "      <td>0.497657</td>\n",
       "      <td>1.997718e+05</td>\n",
       "      <td>0.075066</td>\n",
       "      <td>0.496662</td>\n",
       "      <td>0.496662</td>\n",
       "      <td>0.303235</td>\n",
       "      <td>0.437844</td>\n",
       "      <td>0.480333</td>\n",
       "    </tr>\n",
       "    <tr>\n",
       "      <th>min</th>\n",
       "      <td>114182.000000</td>\n",
       "      <td>642.000000</td>\n",
       "      <td>18.000000</td>\n",
       "      <td>0.000000</td>\n",
       "      <td>NaN</td>\n",
       "      <td>1.000000</td>\n",
       "      <td>0.000000</td>\n",
       "      <td>0.000000</td>\n",
       "      <td>2.027403e+04</td>\n",
       "      <td>0.000000</td>\n",
       "      <td>0.000000</td>\n",
       "      <td>0.000000</td>\n",
       "      <td>0.000000</td>\n",
       "      <td>0.000000</td>\n",
       "      <td>0.000000</td>\n",
       "    </tr>\n",
       "    <tr>\n",
       "      <th>25%</th>\n",
       "      <td>143095.500000</td>\n",
       "      <td>871.000000</td>\n",
       "      <td>33.000000</td>\n",
       "      <td>0.000000</td>\n",
       "      <td>NaN</td>\n",
       "      <td>1.000000</td>\n",
       "      <td>1.000000</td>\n",
       "      <td>0.000000</td>\n",
       "      <td>1.203477e+05</td>\n",
       "      <td>0.000000</td>\n",
       "      <td>0.000000</td>\n",
       "      <td>0.000000</td>\n",
       "      <td>0.000000</td>\n",
       "      <td>0.000000</td>\n",
       "      <td>0.000000</td>\n",
       "    </tr>\n",
       "    <tr>\n",
       "      <th>50%</th>\n",
       "      <td>172659.000000</td>\n",
       "      <td>903.000000</td>\n",
       "      <td>40.000000</td>\n",
       "      <td>0.000000</td>\n",
       "      <td>NaN</td>\n",
       "      <td>1.000000</td>\n",
       "      <td>1.000000</td>\n",
       "      <td>1.000000</td>\n",
       "      <td>1.741607e+05</td>\n",
       "      <td>0.000000</td>\n",
       "      <td>0.000000</td>\n",
       "      <td>1.000000</td>\n",
       "      <td>0.000000</td>\n",
       "      <td>0.000000</td>\n",
       "      <td>1.000000</td>\n",
       "    </tr>\n",
       "    <tr>\n",
       "      <th>75%</th>\n",
       "      <td>201551.000000</td>\n",
       "      <td>922.000000</td>\n",
       "      <td>49.000000</td>\n",
       "      <td>0.000000</td>\n",
       "      <td>NaN</td>\n",
       "      <td>1.000000</td>\n",
       "      <td>1.000000</td>\n",
       "      <td>1.000000</td>\n",
       "      <td>2.400150e+05</td>\n",
       "      <td>0.000000</td>\n",
       "      <td>1.000000</td>\n",
       "      <td>1.000000</td>\n",
       "      <td>0.000000</td>\n",
       "      <td>1.000000</td>\n",
       "      <td>1.000000</td>\n",
       "    </tr>\n",
       "    <tr>\n",
       "      <th>max</th>\n",
       "      <td>229145.000000</td>\n",
       "      <td>990.000000</td>\n",
       "      <td>86.000000</td>\n",
       "      <td>3.000000</td>\n",
       "      <td>NaN</td>\n",
       "      <td>3.000000</td>\n",
       "      <td>1.000000</td>\n",
       "      <td>1.000000</td>\n",
       "      <td>1.333687e+06</td>\n",
       "      <td>1.000000</td>\n",
       "      <td>1.000000</td>\n",
       "      <td>1.000000</td>\n",
       "      <td>1.000000</td>\n",
       "      <td>1.000000</td>\n",
       "      <td>1.000000</td>\n",
       "    </tr>\n",
       "  </tbody>\n",
       "</table>\n",
       "</div>"
      ],
      "text/plain": [
       "             user_id        score          age       equity  balance  \\\n",
       "count    2295.000000  2295.000000  2295.000000  2295.000000      0.0   \n",
       "mean   172069.447930   865.352070    42.078431     0.050980      NaN   \n",
       "std     33337.084589    89.603091    11.901109     0.225872      NaN   \n",
       "min    114182.000000   642.000000    18.000000     0.000000      NaN   \n",
       "25%    143095.500000   871.000000    33.000000     0.000000      NaN   \n",
       "50%    172659.000000   903.000000    40.000000     0.000000      NaN   \n",
       "75%    201551.000000   922.000000    49.000000     0.000000      NaN   \n",
       "max    229145.000000   990.000000    86.000000     3.000000      NaN   \n",
       "\n",
       "          products  credit_card  last_activity    est_salary        churn  \\\n",
       "count  2295.000000  2295.000000    2295.000000  2.295000e+03  2295.000000   \n",
       "mean      1.162527     0.815686       0.549455  2.263102e+05     0.005664   \n",
       "std       0.401814     0.387824       0.497657  1.997718e+05     0.075066   \n",
       "min       1.000000     0.000000       0.000000  2.027403e+04     0.000000   \n",
       "25%       1.000000     1.000000       0.000000  1.203477e+05     0.000000   \n",
       "50%       1.000000     1.000000       1.000000  1.741607e+05     0.000000   \n",
       "75%       1.000000     1.000000       1.000000  2.400150e+05     0.000000   \n",
       "max       3.000000     1.000000       1.000000  1.333687e+06     1.000000   \n",
       "\n",
       "         is_female      is_male  city_Ростов  city_Рыбинск  city_Ярославль  \n",
       "count  2295.000000  2295.000000  2295.000000   2295.000000     2295.000000  \n",
       "mean      0.441394     0.558606     0.102397      0.258388        0.639216  \n",
       "std       0.496662     0.496662     0.303235      0.437844        0.480333  \n",
       "min       0.000000     0.000000     0.000000      0.000000        0.000000  \n",
       "25%       0.000000     0.000000     0.000000      0.000000        0.000000  \n",
       "50%       0.000000     1.000000     0.000000      0.000000        1.000000  \n",
       "75%       1.000000     1.000000     0.000000      1.000000        1.000000  \n",
       "max       1.000000     1.000000     1.000000      1.000000        1.000000  "
      ]
     },
     "execution_count": 14,
     "metadata": {},
     "output_type": "execute_result"
    }
   ],
   "source": [
    "# Гистограмма для balance (включая NaN)\n",
    "# Определяем разумный диапазон для оси X\n",
    "balance_min = data['balance'].min()\n",
    "balance_max = data['balance'].max()\n",
    "balance_range = np.linspace(balance_min, balance_max, 30)\n",
    "\n",
    "# Строим гистограмму с увеличенной областью отображения\n",
    "plt.figure(figsize=(10, 5))\n",
    "plt.hist(data['balance'].dropna(), bins=balance_range, edgecolor='black', alpha=0.7)\n",
    "plt.title('Распределение balance')\n",
    "plt.xlabel('balance')\n",
    "plt.ylabel('Частота')\n",
    "plt.xlim(balance_min, balance_max)  # Ограничиваем ось X\n",
    "plt.grid(axis='y', linestyle='--', alpha=0.7)\n",
    "plt.show()\n",
    "\n",
    "# Проверка, есть ли зависимость пропусков от других категорий\n",
    "missing_correlation = data[data['balance'].isna()].groupby(['churn', 'last_activity', 'products']).size().reset_index(name='count')\n",
    "\n",
    "# Статистика по клиентам с пропущенным balance\n",
    "missing_stats = data[data['balance'].isna()].describe()\n",
    "\n",
    "# Вывод результатов\n",
    "print(\"Зависимость пропусков от churn, активности и количества продуктов:\")\n",
    "print(missing_correlation)\n",
    "print(\"\\nСтатистика клиентов с пропущенным balance:\")\n",
    "missing_stats"
   ]
  },
  {
   "cell_type": "markdown",
   "metadata": {},
   "source": [
    "Заметим следующее:\n",
    "- Среднее значение `products` ≈ 1.16, медиана = 1. Это говорит о том, что большинство таких клиентов пользуются только одним банковским продуктом. Возможно, это пользователи, у которых есть, например, только кредитная карта или депозит, но нет активного расчетного счета.\n",
    "- Около 55% клиентов с пропущенным `balance` являются активными (`last_activity = 1`). Это значит, что многие из них продолжают пользоваться услугами банка, но не держат деньги на счете.\n",
    "- `churn` = 0.0056 (то есть только 0.56% ушли). Это означает, что пропуски в `balance` вряд ли связаны с оттоком клиентов, а скорее с их финансовым поведением.\n",
    "- 64% клиентов с пропущенным `balance` из Ярославля. Возможно, в Ярославле больше клиентов, которые хранят деньги вне банка.\n",
    "\n",
    "Несмотря на наличие корреляции пропусков в `balance` с `equity` и `products`, они носят структурный характер, а не являются случайными ошибками данных. Заполнение медианой или нулем могло бы исказить реальное распределение и скрыть важную информацию о клиентах, у которых баланс отсутствует. Так как многие модели способны работать с пропусками, а сам факт их наличия может быть значимой характеристикой, пропуски остаются без изменений, но при необходимости могут быть учтены через бинарный индикатор. Пропуски в `balance` зависят от поведения клиентов и их финансовых решений, что соответствует `MNAR` (отсутствует не случайно), поэтому их заполнение без дополнительного анализа могло бы привести к значительным искажениям в данных.\n",
    "\n",
    "Анализ показал, что клиенты с отсутствующим значением `balance` делятся на несколько групп:\n",
    "1. Клиенты с минимальным числом продуктов (`products = 1`)\n",
    "    - Большинство (≈ 87%) имеют только 1 банковский продукт (например, кредитную карту без расчетного счета).\n",
    "    - Такие клиенты могут не хранить деньги на счете, а использовать только другие услуги банка (например, кредиты или депозиты).\n",
    "\n",
    "2. Активные клиенты без остатка на счете (`last_activity = 1`)\n",
    "    - Около 55% клиентов с `balance = NaN` остаются активными, но не держат деньги на банковском счете.\n",
    "    - Возможно, они используют счета для транзакций, но сразу выводят средства.\n",
    "\n",
    "3. Географическая особенность\n",
    "    - 64% клиентов с пропущенным `balance` находятся в Ярославле.\n",
    "    - Это может свидетельствовать о различиях в финансовом поведении жителей этого региона.\n",
    "\n",
    "4. Клиенты с низким уровнем собственности (`equity ≈ 0`)\n",
    "    - У 71% таких клиентов отсутствует зарегистрированная собственность.\n",
    "    - Возможно, это молодые клиенты или пользователи с небольшим объемом активов.\n",
    "\n",
    "Пропуски в столбце `balance` не будут удаляться или заполняться искусственными значениями, так как их наличие, вероятно, связано с финансовым поведением клиентов, а не с ошибками в данных. Анализ показал, что большинство клиентов с пропущенным `balance` используют только один банковский продукт и остаются активными, при этом процент их оттока крайне низок. Эти пропуски могут означать, что клиенты не хранят деньги на счету, но продолжают пользоваться другими услугами банка. Изменение значений на `0` или медиану могло бы исказить реальную картину и повлиять на дальнейший анализ кластеров клиентов. Поэтому пропущенные значения остаются без изменений, чтобы сохранить объективность данных."
   ]
  },
  {
   "cell_type": "markdown",
   "metadata": {},
   "source": [
    "### Работа с дубликатами"
   ]
  },
  {
   "cell_type": "markdown",
   "metadata": {},
   "source": [
    "Сначала изучим явные дубликаты."
   ]
  },
  {
   "cell_type": "code",
   "execution_count": 15,
   "metadata": {},
   "outputs": [
    {
     "name": "stdout",
     "output_type": "stream",
     "text": [
      "Количество явных дубликатов: 0\n"
     ]
    }
   ],
   "source": [
    "# Подсчёт явных дубликатов\n",
    "duplicate_rows = data.duplicated().sum()\n",
    "\n",
    "# Вывод количества дубликатов\n",
    "print(f\"Количество явных дубликатов: {duplicate_rows}\")"
   ]
  },
  {
   "cell_type": "markdown",
   "metadata": {},
   "source": [
    "Проверим дубли по столбцу `user_id`."
   ]
  },
  {
   "cell_type": "code",
   "execution_count": 16,
   "metadata": {},
   "outputs": [
    {
     "name": "stdout",
     "output_type": "stream",
     "text": [
      "Общее количество строк: 10000\n",
      "Уникальных user_id: 9927\n",
      "Количество повторяющихся user_id: 73\n"
     ]
    }
   ],
   "source": [
    "# Проверяем количество уникальных значений user_id\n",
    "unique_user_ids = data['user_id'].nunique()\n",
    "total_rows = len(data)\n",
    "\n",
    "# Количество повторяющихся user_id\n",
    "duplicate_user_ids = total_rows - unique_user_ids\n",
    "\n",
    "# Выводим результат\n",
    "print(f\"Общее количество строк: {total_rows}\")\n",
    "print(f\"Уникальных user_id: {unique_user_ids}\")\n",
    "print(f\"Количество повторяющихся user_id: {duplicate_user_ids}\")"
   ]
  },
  {
   "cell_type": "code",
   "execution_count": 17,
   "metadata": {},
   "outputs": [
    {
     "data": {
      "text/html": [
       "<div>\n",
       "<style scoped>\n",
       "    .dataframe tbody tr th:only-of-type {\n",
       "        vertical-align: middle;\n",
       "    }\n",
       "\n",
       "    .dataframe tbody tr th {\n",
       "        vertical-align: top;\n",
       "    }\n",
       "\n",
       "    .dataframe thead th {\n",
       "        text-align: right;\n",
       "    }\n",
       "</style>\n",
       "<table border=\"1\" class=\"dataframe\">\n",
       "  <thead>\n",
       "    <tr style=\"text-align: right;\">\n",
       "      <th></th>\n",
       "      <th>user_id</th>\n",
       "      <th>score</th>\n",
       "      <th>age</th>\n",
       "      <th>equity</th>\n",
       "      <th>balance</th>\n",
       "      <th>products</th>\n",
       "      <th>credit_card</th>\n",
       "      <th>last_activity</th>\n",
       "      <th>est_salary</th>\n",
       "      <th>churn</th>\n",
       "      <th>is_female</th>\n",
       "      <th>is_male</th>\n",
       "      <th>city_Ростов</th>\n",
       "      <th>city_Рыбинск</th>\n",
       "      <th>city_Ярославль</th>\n",
       "    </tr>\n",
       "  </thead>\n",
       "  <tbody>\n",
       "    <tr>\n",
       "      <th>1893</th>\n",
       "      <td>116540</td>\n",
       "      <td>883</td>\n",
       "      <td>55</td>\n",
       "      <td>1</td>\n",
       "      <td>362756.49</td>\n",
       "      <td>3</td>\n",
       "      <td>0</td>\n",
       "      <td>1</td>\n",
       "      <td>175920.48</td>\n",
       "      <td>1</td>\n",
       "      <td>1</td>\n",
       "      <td>0</td>\n",
       "      <td>0</td>\n",
       "      <td>1</td>\n",
       "      <td>0</td>\n",
       "    </tr>\n",
       "    <tr>\n",
       "      <th>7694</th>\n",
       "      <td>116540</td>\n",
       "      <td>887</td>\n",
       "      <td>38</td>\n",
       "      <td>0</td>\n",
       "      <td>NaN</td>\n",
       "      <td>1</td>\n",
       "      <td>0</td>\n",
       "      <td>1</td>\n",
       "      <td>119247.61</td>\n",
       "      <td>0</td>\n",
       "      <td>1</td>\n",
       "      <td>0</td>\n",
       "      <td>0</td>\n",
       "      <td>0</td>\n",
       "      <td>1</td>\n",
       "    </tr>\n",
       "    <tr>\n",
       "      <th>7542</th>\n",
       "      <td>117943</td>\n",
       "      <td>880</td>\n",
       "      <td>40</td>\n",
       "      <td>0</td>\n",
       "      <td>NaN</td>\n",
       "      <td>1</td>\n",
       "      <td>1</td>\n",
       "      <td>0</td>\n",
       "      <td>137718.93</td>\n",
       "      <td>0</td>\n",
       "      <td>1</td>\n",
       "      <td>0</td>\n",
       "      <td>0</td>\n",
       "      <td>0</td>\n",
       "      <td>1</td>\n",
       "    </tr>\n",
       "    <tr>\n",
       "      <th>4866</th>\n",
       "      <td>117943</td>\n",
       "      <td>855</td>\n",
       "      <td>32</td>\n",
       "      <td>6</td>\n",
       "      <td>1036832.93</td>\n",
       "      <td>4</td>\n",
       "      <td>1</td>\n",
       "      <td>1</td>\n",
       "      <td>107792.71</td>\n",
       "      <td>1</td>\n",
       "      <td>1</td>\n",
       "      <td>0</td>\n",
       "      <td>0</td>\n",
       "      <td>1</td>\n",
       "      <td>0</td>\n",
       "    </tr>\n",
       "    <tr>\n",
       "      <th>5896</th>\n",
       "      <td>120258</td>\n",
       "      <td>905</td>\n",
       "      <td>30</td>\n",
       "      <td>0</td>\n",
       "      <td>NaN</td>\n",
       "      <td>1</td>\n",
       "      <td>1</td>\n",
       "      <td>1</td>\n",
       "      <td>146427.96</td>\n",
       "      <td>0</td>\n",
       "      <td>0</td>\n",
       "      <td>1</td>\n",
       "      <td>0</td>\n",
       "      <td>0</td>\n",
       "      <td>1</td>\n",
       "    </tr>\n",
       "    <tr>\n",
       "      <th>5863</th>\n",
       "      <td>120258</td>\n",
       "      <td>908</td>\n",
       "      <td>38</td>\n",
       "      <td>4</td>\n",
       "      <td>2213581.63</td>\n",
       "      <td>2</td>\n",
       "      <td>0</td>\n",
       "      <td>1</td>\n",
       "      <td>160327.77</td>\n",
       "      <td>1</td>\n",
       "      <td>1</td>\n",
       "      <td>0</td>\n",
       "      <td>0</td>\n",
       "      <td>1</td>\n",
       "      <td>0</td>\n",
       "    </tr>\n",
       "    <tr>\n",
       "      <th>1411</th>\n",
       "      <td>123461</td>\n",
       "      <td>829</td>\n",
       "      <td>59</td>\n",
       "      <td>0</td>\n",
       "      <td>96222.44</td>\n",
       "      <td>2</td>\n",
       "      <td>0</td>\n",
       "      <td>1</td>\n",
       "      <td>102771.55</td>\n",
       "      <td>1</td>\n",
       "      <td>1</td>\n",
       "      <td>0</td>\n",
       "      <td>0</td>\n",
       "      <td>0</td>\n",
       "      <td>1</td>\n",
       "    </tr>\n",
       "    <tr>\n",
       "      <th>8638</th>\n",
       "      <td>123461</td>\n",
       "      <td>934</td>\n",
       "      <td>34</td>\n",
       "      <td>0</td>\n",
       "      <td>NaN</td>\n",
       "      <td>2</td>\n",
       "      <td>1</td>\n",
       "      <td>0</td>\n",
       "      <td>291619.27</td>\n",
       "      <td>0</td>\n",
       "      <td>0</td>\n",
       "      <td>1</td>\n",
       "      <td>0</td>\n",
       "      <td>1</td>\n",
       "      <td>0</td>\n",
       "    </tr>\n",
       "    <tr>\n",
       "      <th>8164</th>\n",
       "      <td>124450</td>\n",
       "      <td>859</td>\n",
       "      <td>38</td>\n",
       "      <td>6</td>\n",
       "      <td>516811.20</td>\n",
       "      <td>1</td>\n",
       "      <td>1</td>\n",
       "      <td>1</td>\n",
       "      <td>95144.63</td>\n",
       "      <td>1</td>\n",
       "      <td>1</td>\n",
       "      <td>0</td>\n",
       "      <td>0</td>\n",
       "      <td>0</td>\n",
       "      <td>1</td>\n",
       "    </tr>\n",
       "    <tr>\n",
       "      <th>9775</th>\n",
       "      <td>124450</td>\n",
       "      <td>758</td>\n",
       "      <td>36</td>\n",
       "      <td>0</td>\n",
       "      <td>73574.07</td>\n",
       "      <td>2</td>\n",
       "      <td>0</td>\n",
       "      <td>1</td>\n",
       "      <td>79963.59</td>\n",
       "      <td>0</td>\n",
       "      <td>1</td>\n",
       "      <td>0</td>\n",
       "      <td>0</td>\n",
       "      <td>1</td>\n",
       "      <td>0</td>\n",
       "    </tr>\n",
       "    <tr>\n",
       "      <th>4850</th>\n",
       "      <td>126368</td>\n",
       "      <td>909</td>\n",
       "      <td>30</td>\n",
       "      <td>4</td>\n",
       "      <td>1322623.29</td>\n",
       "      <td>2</td>\n",
       "      <td>0</td>\n",
       "      <td>1</td>\n",
       "      <td>140675.66</td>\n",
       "      <td>1</td>\n",
       "      <td>1</td>\n",
       "      <td>0</td>\n",
       "      <td>0</td>\n",
       "      <td>0</td>\n",
       "      <td>1</td>\n",
       "    </tr>\n",
       "    <tr>\n",
       "      <th>5420</th>\n",
       "      <td>126368</td>\n",
       "      <td>832</td>\n",
       "      <td>33</td>\n",
       "      <td>0</td>\n",
       "      <td>NaN</td>\n",
       "      <td>1</td>\n",
       "      <td>0</td>\n",
       "      <td>0</td>\n",
       "      <td>118465.34</td>\n",
       "      <td>0</td>\n",
       "      <td>1</td>\n",
       "      <td>0</td>\n",
       "      <td>0</td>\n",
       "      <td>1</td>\n",
       "      <td>0</td>\n",
       "    </tr>\n",
       "    <tr>\n",
       "      <th>8785</th>\n",
       "      <td>127440</td>\n",
       "      <td>663</td>\n",
       "      <td>40</td>\n",
       "      <td>0</td>\n",
       "      <td>NaN</td>\n",
       "      <td>1</td>\n",
       "      <td>1</td>\n",
       "      <td>1</td>\n",
       "      <td>117197.56</td>\n",
       "      <td>0</td>\n",
       "      <td>0</td>\n",
       "      <td>1</td>\n",
       "      <td>0</td>\n",
       "      <td>0</td>\n",
       "      <td>1</td>\n",
       "    </tr>\n",
       "    <tr>\n",
       "      <th>4443</th>\n",
       "      <td>127440</td>\n",
       "      <td>846</td>\n",
       "      <td>66</td>\n",
       "      <td>1</td>\n",
       "      <td>57405.67</td>\n",
       "      <td>2</td>\n",
       "      <td>0</td>\n",
       "      <td>1</td>\n",
       "      <td>17831.63</td>\n",
       "      <td>0</td>\n",
       "      <td>0</td>\n",
       "      <td>1</td>\n",
       "      <td>0</td>\n",
       "      <td>1</td>\n",
       "      <td>0</td>\n",
       "    </tr>\n",
       "    <tr>\n",
       "      <th>3988</th>\n",
       "      <td>129785</td>\n",
       "      <td>904</td>\n",
       "      <td>33</td>\n",
       "      <td>5</td>\n",
       "      <td>2427737.60</td>\n",
       "      <td>3</td>\n",
       "      <td>0</td>\n",
       "      <td>1</td>\n",
       "      <td>188856.75</td>\n",
       "      <td>1</td>\n",
       "      <td>0</td>\n",
       "      <td>1</td>\n",
       "      <td>0</td>\n",
       "      <td>1</td>\n",
       "      <td>0</td>\n",
       "    </tr>\n",
       "    <tr>\n",
       "      <th>9504</th>\n",
       "      <td>129785</td>\n",
       "      <td>949</td>\n",
       "      <td>43</td>\n",
       "      <td>0</td>\n",
       "      <td>NaN</td>\n",
       "      <td>1</td>\n",
       "      <td>1</td>\n",
       "      <td>1</td>\n",
       "      <td>166845.37</td>\n",
       "      <td>0</td>\n",
       "      <td>0</td>\n",
       "      <td>1</td>\n",
       "      <td>0</td>\n",
       "      <td>0</td>\n",
       "      <td>1</td>\n",
       "    </tr>\n",
       "    <tr>\n",
       "      <th>904</th>\n",
       "      <td>131419</td>\n",
       "      <td>934</td>\n",
       "      <td>35</td>\n",
       "      <td>5</td>\n",
       "      <td>2348335.95</td>\n",
       "      <td>2</td>\n",
       "      <td>0</td>\n",
       "      <td>0</td>\n",
       "      <td>217105.13</td>\n",
       "      <td>1</td>\n",
       "      <td>0</td>\n",
       "      <td>1</td>\n",
       "      <td>0</td>\n",
       "      <td>0</td>\n",
       "      <td>1</td>\n",
       "    </tr>\n",
       "    <tr>\n",
       "      <th>2138</th>\n",
       "      <td>131419</td>\n",
       "      <td>739</td>\n",
       "      <td>37</td>\n",
       "      <td>3</td>\n",
       "      <td>1307941.65</td>\n",
       "      <td>3</td>\n",
       "      <td>0</td>\n",
       "      <td>0</td>\n",
       "      <td>103867.47</td>\n",
       "      <td>0</td>\n",
       "      <td>1</td>\n",
       "      <td>0</td>\n",
       "      <td>0</td>\n",
       "      <td>1</td>\n",
       "      <td>0</td>\n",
       "    </tr>\n",
       "    <tr>\n",
       "      <th>7487</th>\n",
       "      <td>140377</td>\n",
       "      <td>930</td>\n",
       "      <td>34</td>\n",
       "      <td>5</td>\n",
       "      <td>1123967.02</td>\n",
       "      <td>1</td>\n",
       "      <td>1</td>\n",
       "      <td>1</td>\n",
       "      <td>148336.26</td>\n",
       "      <td>0</td>\n",
       "      <td>1</td>\n",
       "      <td>0</td>\n",
       "      <td>0</td>\n",
       "      <td>1</td>\n",
       "      <td>0</td>\n",
       "    </tr>\n",
       "    <tr>\n",
       "      <th>1608</th>\n",
       "      <td>140377</td>\n",
       "      <td>802</td>\n",
       "      <td>26</td>\n",
       "      <td>3</td>\n",
       "      <td>539863.29</td>\n",
       "      <td>4</td>\n",
       "      <td>1</td>\n",
       "      <td>1</td>\n",
       "      <td>112167.83</td>\n",
       "      <td>1</td>\n",
       "      <td>0</td>\n",
       "      <td>1</td>\n",
       "      <td>0</td>\n",
       "      <td>0</td>\n",
       "      <td>1</td>\n",
       "    </tr>\n",
       "  </tbody>\n",
       "</table>\n",
       "</div>"
      ],
      "text/plain": [
       "      user_id  score  age  equity     balance  products  credit_card  \\\n",
       "1893   116540    883   55       1   362756.49         3            0   \n",
       "7694   116540    887   38       0         NaN         1            0   \n",
       "7542   117943    880   40       0         NaN         1            1   \n",
       "4866   117943    855   32       6  1036832.93         4            1   \n",
       "5896   120258    905   30       0         NaN         1            1   \n",
       "5863   120258    908   38       4  2213581.63         2            0   \n",
       "1411   123461    829   59       0    96222.44         2            0   \n",
       "8638   123461    934   34       0         NaN         2            1   \n",
       "8164   124450    859   38       6   516811.20         1            1   \n",
       "9775   124450    758   36       0    73574.07         2            0   \n",
       "4850   126368    909   30       4  1322623.29         2            0   \n",
       "5420   126368    832   33       0         NaN         1            0   \n",
       "8785   127440    663   40       0         NaN         1            1   \n",
       "4443   127440    846   66       1    57405.67         2            0   \n",
       "3988   129785    904   33       5  2427737.60         3            0   \n",
       "9504   129785    949   43       0         NaN         1            1   \n",
       "904    131419    934   35       5  2348335.95         2            0   \n",
       "2138   131419    739   37       3  1307941.65         3            0   \n",
       "7487   140377    930   34       5  1123967.02         1            1   \n",
       "1608   140377    802   26       3   539863.29         4            1   \n",
       "\n",
       "      last_activity  est_salary  churn  is_female  is_male  city_Ростов  \\\n",
       "1893              1   175920.48      1          1        0            0   \n",
       "7694              1   119247.61      0          1        0            0   \n",
       "7542              0   137718.93      0          1        0            0   \n",
       "4866              1   107792.71      1          1        0            0   \n",
       "5896              1   146427.96      0          0        1            0   \n",
       "5863              1   160327.77      1          1        0            0   \n",
       "1411              1   102771.55      1          1        0            0   \n",
       "8638              0   291619.27      0          0        1            0   \n",
       "8164              1    95144.63      1          1        0            0   \n",
       "9775              1    79963.59      0          1        0            0   \n",
       "4850              1   140675.66      1          1        0            0   \n",
       "5420              0   118465.34      0          1        0            0   \n",
       "8785              1   117197.56      0          0        1            0   \n",
       "4443              1    17831.63      0          0        1            0   \n",
       "3988              1   188856.75      1          0        1            0   \n",
       "9504              1   166845.37      0          0        1            0   \n",
       "904               0   217105.13      1          0        1            0   \n",
       "2138              0   103867.47      0          1        0            0   \n",
       "7487              1   148336.26      0          1        0            0   \n",
       "1608              1   112167.83      1          0        1            0   \n",
       "\n",
       "      city_Рыбинск  city_Ярославль  \n",
       "1893             1               0  \n",
       "7694             0               1  \n",
       "7542             0               1  \n",
       "4866             1               0  \n",
       "5896             0               1  \n",
       "5863             1               0  \n",
       "1411             0               1  \n",
       "8638             1               0  \n",
       "8164             0               1  \n",
       "9775             1               0  \n",
       "4850             0               1  \n",
       "5420             1               0  \n",
       "8785             0               1  \n",
       "4443             1               0  \n",
       "3988             1               0  \n",
       "9504             0               1  \n",
       "904              0               1  \n",
       "2138             1               0  \n",
       "7487             1               0  \n",
       "1608             0               1  "
      ]
     },
     "execution_count": 17,
     "metadata": {},
     "output_type": "execute_result"
    }
   ],
   "source": [
    "# Находим дублирующиеся user_id\n",
    "duplicate_users = data[data.duplicated(subset=['user_id'], keep=False)]\n",
    "\n",
    "# Выводим несколько примеров\n",
    "duplicate_users.sort_values(by='user_id').head(20)"
   ]
  },
  {
   "cell_type": "markdown",
   "metadata": {},
   "source": [
    "Поскольку дублирование `user_id`, вероятно, связано с особенностями выгрузки данных из разных источников, а сами записи имеют различия по остальным признакам, удалять их нецелесообразно. `user_id` не несет аналитической ценности и не влияет на исследуемые зависимости, поэтому оставляем данные без изменений. При необходимости, в дальнейшем можно будет провести дополнительный анализ дублирующихся записей, но на данном этапе все строки считаются уникальными с точки зрения их характеристик."
   ]
  },
  {
   "cell_type": "markdown",
   "metadata": {},
   "source": [
    "Таким образом, мы выполнили предобработку данных: обработали названия столбцов и их типы, провели обработку пропусков и дублей."
   ]
  },
  {
   "cell_type": "markdown",
   "metadata": {},
   "source": [
    "## Исследовательский анализ данных"
   ]
  },
  {
   "cell_type": "markdown",
   "metadata": {},
   "source": [
    "### Изучение распределений"
   ]
  },
  {
   "cell_type": "markdown",
   "metadata": {},
   "source": [
    "Посмотрим, как распределены ключевые числовые признаки (`score`, `age`, `balance`, `equity`, `est_salary`) среди ушедших и оставшихся клиентов."
   ]
  },
  {
   "cell_type": "code",
   "execution_count": 18,
   "metadata": {
    "scrolled": false
   },
   "outputs": [
    {
     "data": {
      "image/png": "[encoded data removed]",
      "text/plain": [
       "<Figure size 1080x864 with 4 Axes>"
      ]
     },
     "metadata": {},
     "output_type": "display_data"
    }
   ],
   "source": [
    "# Числовые признаки для анализа (исключаем equity)\n",
    "numeric_features = ['score', 'age', 'balance', 'est_salary']\n",
    "\n",
    "# Визуализация нормированных гистограмм\n",
    "plt.figure(figsize=(15, 12))\n",
    "\n",
    "for i, feature in enumerate(numeric_features, 1):\n",
    "    plt.subplot(2, 2, i)\n",
    "    sns.histplot(data=data, x=feature, hue=\"churn\", bins=30, stat=\"density\", kde=True, common_norm=False, palette=\"Set2\")\n",
    "    plt.title(f'Нормированное распределение {feature} в разрезе churn')\n",
    "\n",
    "plt.tight_layout()\n",
    "plt.show()"
   ]
  },
  {
   "cell_type": "markdown",
   "metadata": {},
   "source": [
    "Анализ распределения числовых признаков показал, что ушедшие клиенты имеют более высокий кредитный скоринг, что может указывать на то, что клиенты с хорошей кредитной историей более склонны к смене банка. Среди ушедших также выше доля клиентов в возрастной категории 30-50 лет, в то время как в группе оставшихся больше молодых и пожилых клиентов. Наличие собственности (`equity`) является фактором риска - чем больше объектов собственности у клиента, тем выше вероятность его ухода, особенно начиная с уровня `equity = 5`. В то же время баланс на счету не демонстрирует значительных различий между группами, а распределение доходов (`est_salary`) практически совпадает, что говорит о слабом влиянии баланса и дохода на отток. Таким образом, ключевыми числовыми факторами, связанными с оттоком, являются высокий кредитный скоринг, возраст 30-50 лет и наличие собственности, в то время как финансовые показатели, такие как баланс и доход, не оказывают значимого влияния."
   ]
  },
  {
   "cell_type": "markdown",
   "metadata": {},
   "source": [
    "Теперь изучим, как категориальные признаки (`is_male`, `city`, `products`, `credit_card`, `last_activity`) связаны с оттоком."
   ]
  },
  {
   "cell_type": "code",
   "execution_count": 19,
   "metadata": {},
   "outputs": [
    {
     "name": "stdout",
     "output_type": "stream",
     "text": [
      "Средний уровень оттока по банку составляет 18.20%\n"
     ]
    },
    {
     "data": {
      "image/png": "[encoded data removed]",
      "text/plain": [
       "<Figure size 1080x864 with 8 Axes>"
      ]
     },
     "metadata": {},
     "output_type": "display_data"
    }
   ],
   "source": [
    "# Категориальные признаки для анализа (добавлен equity)\n",
    "categorical_features = ['is_male', 'city_Ярославль', 'city_Рыбинск', 'city_Ростов', \n",
    "                        'products', 'credit_card', 'last_activity', 'equity']\n",
    "\n",
    "# Средний уровень оттока по банку\n",
    "avg_churn = data['churn'].mean()\n",
    "print(f\"Средний уровень оттока по банку составляет {avg_churn * 100:.2f}%\")\n",
    "\n",
    "# Визуализация долей оттока по категориям\n",
    "plt.figure(figsize=(15, 12))\n",
    "\n",
    "for i, feature in enumerate(categorical_features, 1):\n",
    "    plt.subplot(3, 3, i)\n",
    "    \n",
    "    # Считаем доли оттока в каждой категории\n",
    "    churn_rates = data.groupby(feature)['churn'].mean().reset_index()\n",
    "    \n",
    "    # Строим barplot с долями оттока\n",
    "    sns.barplot(x=feature, y='churn', data=churn_rates, palette=\"Set2\")\n",
    "    \n",
    "    # Добавляем средний уровень оттока по банку\n",
    "    plt.axhline(avg_churn, color='red', linestyle='dashed', linewidth=1, label='Средний отток')\n",
    "    \n",
    "    plt.title(f'Доля оттока в зависимости от {feature}')\n",
    "    plt.ylabel(\"Доля оттока\")\n",
    "    plt.xlabel(feature)\n",
    "    plt.legend()\n",
    "\n",
    "plt.tight_layout()\n",
    "plt.show()"
   ]
  },
  {
   "cell_type": "code",
   "execution_count": 20,
   "metadata": {},
   "outputs": [
    {
     "name": "stdout",
     "output_type": "stream",
     "text": [
      "Топ-10 категорий с наибольшим оттоком:\n"
     ]
    },
    {
     "data": {
      "text/html": [
       "<div>\n",
       "<style scoped>\n",
       "    .dataframe tbody tr th:only-of-type {\n",
       "        vertical-align: middle;\n",
       "    }\n",
       "\n",
       "    .dataframe tbody tr th {\n",
       "        vertical-align: top;\n",
       "    }\n",
       "\n",
       "    .dataframe thead th {\n",
       "        text-align: right;\n",
       "    }\n",
       "</style>\n",
       "<table border=\"1\" class=\"dataframe\">\n",
       "  <thead>\n",
       "    <tr style=\"text-align: right;\">\n",
       "      <th></th>\n",
       "      <th>is_male</th>\n",
       "      <th>city_Ярославль</th>\n",
       "      <th>city_Рыбинск</th>\n",
       "      <th>city_Ростов</th>\n",
       "      <th>products</th>\n",
       "      <th>credit_card</th>\n",
       "      <th>last_activity</th>\n",
       "      <th>equity</th>\n",
       "      <th>churn</th>\n",
       "    </tr>\n",
       "  </thead>\n",
       "  <tbody>\n",
       "    <tr>\n",
       "      <th>481</th>\n",
       "      <td>1</td>\n",
       "      <td>0</td>\n",
       "      <td>1</td>\n",
       "      <td>0</td>\n",
       "      <td>4</td>\n",
       "      <td>1</td>\n",
       "      <td>0</td>\n",
       "      <td>5</td>\n",
       "      <td>1.0</td>\n",
       "    </tr>\n",
       "    <tr>\n",
       "      <th>509</th>\n",
       "      <td>1</td>\n",
       "      <td>1</td>\n",
       "      <td>0</td>\n",
       "      <td>0</td>\n",
       "      <td>1</td>\n",
       "      <td>1</td>\n",
       "      <td>1</td>\n",
       "      <td>7</td>\n",
       "      <td>1.0</td>\n",
       "    </tr>\n",
       "    <tr>\n",
       "      <th>484</th>\n",
       "      <td>1</td>\n",
       "      <td>0</td>\n",
       "      <td>1</td>\n",
       "      <td>0</td>\n",
       "      <td>4</td>\n",
       "      <td>1</td>\n",
       "      <td>1</td>\n",
       "      <td>3</td>\n",
       "      <td>1.0</td>\n",
       "    </tr>\n",
       "    <tr>\n",
       "      <th>182</th>\n",
       "      <td>0</td>\n",
       "      <td>0</td>\n",
       "      <td>1</td>\n",
       "      <td>0</td>\n",
       "      <td>4</td>\n",
       "      <td>1</td>\n",
       "      <td>1</td>\n",
       "      <td>6</td>\n",
       "      <td>1.0</td>\n",
       "    </tr>\n",
       "    <tr>\n",
       "      <th>179</th>\n",
       "      <td>0</td>\n",
       "      <td>0</td>\n",
       "      <td>1</td>\n",
       "      <td>0</td>\n",
       "      <td>4</td>\n",
       "      <td>1</td>\n",
       "      <td>1</td>\n",
       "      <td>3</td>\n",
       "      <td>1.0</td>\n",
       "    </tr>\n",
       "    <tr>\n",
       "      <th>178</th>\n",
       "      <td>0</td>\n",
       "      <td>0</td>\n",
       "      <td>1</td>\n",
       "      <td>0</td>\n",
       "      <td>4</td>\n",
       "      <td>1</td>\n",
       "      <td>1</td>\n",
       "      <td>2</td>\n",
       "      <td>1.0</td>\n",
       "    </tr>\n",
       "    <tr>\n",
       "      <th>177</th>\n",
       "      <td>0</td>\n",
       "      <td>0</td>\n",
       "      <td>1</td>\n",
       "      <td>0</td>\n",
       "      <td>4</td>\n",
       "      <td>1</td>\n",
       "      <td>1</td>\n",
       "      <td>0</td>\n",
       "      <td>1.0</td>\n",
       "    </tr>\n",
       "    <tr>\n",
       "      <th>176</th>\n",
       "      <td>0</td>\n",
       "      <td>0</td>\n",
       "      <td>1</td>\n",
       "      <td>0</td>\n",
       "      <td>4</td>\n",
       "      <td>1</td>\n",
       "      <td>0</td>\n",
       "      <td>0</td>\n",
       "      <td>1.0</td>\n",
       "    </tr>\n",
       "    <tr>\n",
       "      <th>487</th>\n",
       "      <td>1</td>\n",
       "      <td>0</td>\n",
       "      <td>1</td>\n",
       "      <td>0</td>\n",
       "      <td>4</td>\n",
       "      <td>1</td>\n",
       "      <td>1</td>\n",
       "      <td>7</td>\n",
       "      <td>1.0</td>\n",
       "    </tr>\n",
       "    <tr>\n",
       "      <th>172</th>\n",
       "      <td>0</td>\n",
       "      <td>0</td>\n",
       "      <td>1</td>\n",
       "      <td>0</td>\n",
       "      <td>4</td>\n",
       "      <td>0</td>\n",
       "      <td>1</td>\n",
       "      <td>0</td>\n",
       "      <td>1.0</td>\n",
       "    </tr>\n",
       "  </tbody>\n",
       "</table>\n",
       "</div>"
      ],
      "text/plain": [
       "     is_male  city_Ярославль  city_Рыбинск  city_Ростов  products  \\\n",
       "481        1               0             1            0         4   \n",
       "509        1               1             0            0         1   \n",
       "484        1               0             1            0         4   \n",
       "182        0               0             1            0         4   \n",
       "179        0               0             1            0         4   \n",
       "178        0               0             1            0         4   \n",
       "177        0               0             1            0         4   \n",
       "176        0               0             1            0         4   \n",
       "487        1               0             1            0         4   \n",
       "172        0               0             1            0         4   \n",
       "\n",
       "     credit_card  last_activity  equity  churn  \n",
       "481            1              0       5    1.0  \n",
       "509            1              1       7    1.0  \n",
       "484            1              1       3    1.0  \n",
       "182            1              1       6    1.0  \n",
       "179            1              1       3    1.0  \n",
       "178            1              1       2    1.0  \n",
       "177            1              1       0    1.0  \n",
       "176            1              0       0    1.0  \n",
       "487            1              1       7    1.0  \n",
       "172            0              1       0    1.0  "
      ]
     },
     "execution_count": 20,
     "metadata": {},
     "output_type": "execute_result"
    }
   ],
   "source": [
    "# Группируем данные по категориальным признакам и считаем процент оттока\n",
    "churn_rates = data.groupby(categorical_features)['churn'].mean().reset_index()\n",
    "\n",
    "# Сортируем по убыванию churn\n",
    "churn_rates_sorted = churn_rates.sort_values(by='churn', ascending=False)\n",
    "\n",
    "# Выводим топ-10 категорий с самым высоким оттоком\n",
    "print(\"Топ-10 категорий с наибольшим оттоком:\")\n",
    "churn_rates_sorted.head(10)"
   ]
  },
  {
   "cell_type": "code",
   "execution_count": 21,
   "metadata": {},
   "outputs": [
    {
     "name": "stdout",
     "output_type": "stream",
     "text": [
      "\n",
      "Топ-10 категорий с наименьшим оттоком:\n"
     ]
    },
    {
     "data": {
      "text/html": [
       "<div>\n",
       "<style scoped>\n",
       "    .dataframe tbody tr th:only-of-type {\n",
       "        vertical-align: middle;\n",
       "    }\n",
       "\n",
       "    .dataframe tbody tr th {\n",
       "        vertical-align: top;\n",
       "    }\n",
       "\n",
       "    .dataframe thead th {\n",
       "        text-align: right;\n",
       "    }\n",
       "</style>\n",
       "<table border=\"1\" class=\"dataframe\">\n",
       "  <thead>\n",
       "    <tr style=\"text-align: right;\">\n",
       "      <th></th>\n",
       "      <th>is_male</th>\n",
       "      <th>city_Ярославль</th>\n",
       "      <th>city_Рыбинск</th>\n",
       "      <th>city_Ростов</th>\n",
       "      <th>products</th>\n",
       "      <th>credit_card</th>\n",
       "      <th>last_activity</th>\n",
       "      <th>equity</th>\n",
       "      <th>churn</th>\n",
       "    </tr>\n",
       "  </thead>\n",
       "  <tbody>\n",
       "    <tr>\n",
       "      <th>453</th>\n",
       "      <td>1</td>\n",
       "      <td>0</td>\n",
       "      <td>1</td>\n",
       "      <td>0</td>\n",
       "      <td>3</td>\n",
       "      <td>0</td>\n",
       "      <td>0</td>\n",
       "      <td>7</td>\n",
       "      <td>0.0</td>\n",
       "    </tr>\n",
       "    <tr>\n",
       "      <th>454</th>\n",
       "      <td>1</td>\n",
       "      <td>0</td>\n",
       "      <td>1</td>\n",
       "      <td>0</td>\n",
       "      <td>3</td>\n",
       "      <td>0</td>\n",
       "      <td>1</td>\n",
       "      <td>3</td>\n",
       "      <td>0.0</td>\n",
       "    </tr>\n",
       "    <tr>\n",
       "      <th>455</th>\n",
       "      <td>1</td>\n",
       "      <td>0</td>\n",
       "      <td>1</td>\n",
       "      <td>0</td>\n",
       "      <td>3</td>\n",
       "      <td>0</td>\n",
       "      <td>1</td>\n",
       "      <td>4</td>\n",
       "      <td>0.0</td>\n",
       "    </tr>\n",
       "    <tr>\n",
       "      <th>457</th>\n",
       "      <td>1</td>\n",
       "      <td>0</td>\n",
       "      <td>1</td>\n",
       "      <td>0</td>\n",
       "      <td>3</td>\n",
       "      <td>1</td>\n",
       "      <td>0</td>\n",
       "      <td>0</td>\n",
       "      <td>0.0</td>\n",
       "    </tr>\n",
       "    <tr>\n",
       "      <th>214</th>\n",
       "      <td>0</td>\n",
       "      <td>1</td>\n",
       "      <td>0</td>\n",
       "      <td>0</td>\n",
       "      <td>2</td>\n",
       "      <td>0</td>\n",
       "      <td>0</td>\n",
       "      <td>8</td>\n",
       "      <td>0.0</td>\n",
       "    </tr>\n",
       "    <tr>\n",
       "      <th>213</th>\n",
       "      <td>0</td>\n",
       "      <td>1</td>\n",
       "      <td>0</td>\n",
       "      <td>0</td>\n",
       "      <td>2</td>\n",
       "      <td>0</td>\n",
       "      <td>0</td>\n",
       "      <td>7</td>\n",
       "      <td>0.0</td>\n",
       "    </tr>\n",
       "    <tr>\n",
       "      <th>212</th>\n",
       "      <td>0</td>\n",
       "      <td>1</td>\n",
       "      <td>0</td>\n",
       "      <td>0</td>\n",
       "      <td>2</td>\n",
       "      <td>0</td>\n",
       "      <td>0</td>\n",
       "      <td>6</td>\n",
       "      <td>0.0</td>\n",
       "    </tr>\n",
       "    <tr>\n",
       "      <th>463</th>\n",
       "      <td>1</td>\n",
       "      <td>0</td>\n",
       "      <td>1</td>\n",
       "      <td>0</td>\n",
       "      <td>3</td>\n",
       "      <td>1</td>\n",
       "      <td>0</td>\n",
       "      <td>6</td>\n",
       "      <td>0.0</td>\n",
       "    </tr>\n",
       "    <tr>\n",
       "      <th>464</th>\n",
       "      <td>1</td>\n",
       "      <td>0</td>\n",
       "      <td>1</td>\n",
       "      <td>0</td>\n",
       "      <td>3</td>\n",
       "      <td>1</td>\n",
       "      <td>0</td>\n",
       "      <td>9</td>\n",
       "      <td>0.0</td>\n",
       "    </tr>\n",
       "    <tr>\n",
       "      <th>303</th>\n",
       "      <td>1</td>\n",
       "      <td>0</td>\n",
       "      <td>0</td>\n",
       "      <td>1</td>\n",
       "      <td>1</td>\n",
       "      <td>0</td>\n",
       "      <td>0</td>\n",
       "      <td>3</td>\n",
       "      <td>0.0</td>\n",
       "    </tr>\n",
       "  </tbody>\n",
       "</table>\n",
       "</div>"
      ],
      "text/plain": [
       "     is_male  city_Ярославль  city_Рыбинск  city_Ростов  products  \\\n",
       "453        1               0             1            0         3   \n",
       "454        1               0             1            0         3   \n",
       "455        1               0             1            0         3   \n",
       "457        1               0             1            0         3   \n",
       "214        0               1             0            0         2   \n",
       "213        0               1             0            0         2   \n",
       "212        0               1             0            0         2   \n",
       "463        1               0             1            0         3   \n",
       "464        1               0             1            0         3   \n",
       "303        1               0             0            1         1   \n",
       "\n",
       "     credit_card  last_activity  equity  churn  \n",
       "453            0              0       7    0.0  \n",
       "454            0              1       3    0.0  \n",
       "455            0              1       4    0.0  \n",
       "457            1              0       0    0.0  \n",
       "214            0              0       8    0.0  \n",
       "213            0              0       7    0.0  \n",
       "212            0              0       6    0.0  \n",
       "463            1              0       6    0.0  \n",
       "464            1              0       9    0.0  \n",
       "303            0              0       3    0.0  "
      ]
     },
     "execution_count": 21,
     "metadata": {},
     "output_type": "execute_result"
    }
   ],
   "source": [
    "# Выводим топ-10 категорий с наименьшим оттоком\n",
    "print(\"\\nТоп-10 категорий с наименьшим оттоком:\")\n",
    "churn_rates_sorted.tail(10)"
   ]
  },
  {
   "cell_type": "markdown",
   "metadata": {},
   "source": [
    "Анализ категориальных признаков показал, что уровень оттока в банке составляет 18.2%, однако в ряде категорий он значительно превышает этот порог. Самый высокий уровень оттока наблюдается среди клиентов, использующих 4 или 5 банковских продуктов, что может указывать на неудовлетворенность тарифами или условиями обслуживания. Кроме того, наибольший отток демонстрируют клиенты из Ярославля и Рыбинска, в то время как в Ростове отток находится на уровне среднего по банку. Пол также является значимым фактором - мужчины уходят заметно чаще женщин. Среди клиентов, неактивных (`last_activity = 0`), уровень оттока также выше, что может свидетельствовать о слабой вовлеченности или отсутствии персонализированных предложений для таких пользователей. Наличие кредитной карты, напротив, связано с более низким уровнем оттока, что может указывать на более долгосрочное сотрудничество этих клиентов с банком. В то же время, наименьший отток наблюдается среди активных клиентов, использующих 1-2 банковских продукта, что говорит о высокой лояльности данной группы. Таким образом, ключевыми факторами, повышающими риск оттока, являются большое количество продуктов, неактивность, географическое расположение и пол клиента, тогда как наличие кредитной карты, наоборот, связано с более стабильным поведением клиентов."
   ]
  },
  {
   "cell_type": "markdown",
   "metadata": {},
   "source": [
    "### Корреляционный анализ"
   ]
  },
  {
   "cell_type": "markdown",
   "metadata": {},
   "source": [
    "Теперь проведем корреляционный анализ, чтобы выявить, какие признаки наиболее связаны с оттоком (`churn`)."
   ]
  },
  {
   "cell_type": "code",
   "execution_count": 22,
   "metadata": {},
   "outputs": [
    {
     "data": {
      "image/png": "[encoded data removed]",
      "text/plain": [
       "<Figure size 864x576 with 2 Axes>"
      ]
     },
     "metadata": {},
     "output_type": "display_data"
    },
    {
     "name": "stdout",
     "output_type": "stream",
     "text": [
      "Корреляция признаков с churn:\n"
     ]
    },
    {
     "data": {
      "text/plain": [
       "churn             1.000000\n",
       "products          0.301297\n",
       "equity            0.270559\n",
       "last_activity     0.168767\n",
       "is_male           0.141036\n",
       "score             0.105962\n",
       "balance           0.085577\n",
       "city_Ярославль    0.023905\n",
       "city_Ростов       0.006024\n",
       "est_salary        0.001273\n",
       "city_Рыбинск     -0.031244\n",
       "age              -0.049551\n",
       "credit_card      -0.130790\n",
       "is_female        -0.141036\n",
       "Name: churn, dtype: float64"
      ]
     },
     "execution_count": 22,
     "metadata": {},
     "output_type": "execute_result"
    }
   ],
   "source": [
    "# Исключаем user_id перед расчетом корреляции\n",
    "corr_matrix = data.drop(columns=['user_id']).corr()\n",
    "\n",
    "# Строим тепловую карту корреляций\n",
    "plt.figure(figsize=(12, 8))\n",
    "sns.heatmap(corr_matrix, annot=True, fmt=\".2f\", cmap=\"coolwarm\", linewidths=0.5, center=0)\n",
    "plt.title(\"Корреляционная матрица (без user_id)\")\n",
    "plt.show()\n",
    "\n",
    "# Выведем признаки, наиболее коррелирующие с churn\n",
    "churn_corr = corr_matrix[\"churn\"].sort_values(ascending=False)\n",
    "print(\"Корреляция признаков с churn:\")\n",
    "churn_corr"
   ]
  },
  {
   "cell_type": "code",
   "execution_count": 23,
   "metadata": {},
   "outputs": [
    {
     "data": {
      "image/png": "[encoded data removed]",
      "text/plain": [
       "<Figure size 720x432 with 1 Axes>"
      ]
     },
     "metadata": {},
     "output_type": "display_data"
    }
   ],
   "source": [
    "# Исключаем user_id перед расчетом корреляции\n",
    "corr_matrix = data.drop(columns=['user_id']).corr()\n",
    "\n",
    "# Рассчитываем корреляцию с churn\n",
    "churn_corr = corr_matrix[\"churn\"].drop(\"churn\").sort_values(ascending=False)\n",
    "\n",
    "# Визуализация корреляции churn с другими признаками\n",
    "plt.figure(figsize=(10, 6))\n",
    "sns.barplot(x=churn_corr.values, y=churn_corr.index, palette=\"coolwarm\")\n",
    "plt.xlabel(\"Коэффициент корреляции\")\n",
    "plt.ylabel(\"Признаки\")\n",
    "plt.title(\"Корреляция признаков с churn\")\n",
    "plt.axvline(0, color='black', linewidth=1)  # Добавляем вертикальную линию на 0\n",
    "plt.show()"
   ]
  },
  {
   "cell_type": "markdown",
   "metadata": {},
   "source": [
    "Корреляционный анализ показал, что наибольшую связь с оттоком клиентов (`churn`) имеют следующие признаки: количество продуктов (`products`), количество баллов собственности (`equity`) и активность клиента (`last_activity`). Наиболее выраженная положительная корреляция у `products` (0.30), что подтверждает предыдущие выводы - клиенты, использующие большее количество банковских услуг, чаще уходят. Вторым по значимости фактором является `equity` (0.27), что может указывать на то, что владельцы большего количества собственности более склонны менять банк. `last_activity` (0.17) также показывает положительную корреляцию с оттоком, что говорит о том, что часть активных клиентов может уходить.\n",
    "\n",
    "Более слабую, но все же заметную положительную корреляцию с `churn` имеют `is_male` (0.14), что указывает на более высокую вероятность оттока среди мужчин, и `score` (0.10), что подтверждает гипотезу о том, что клиенты с более высоким кредитным рейтингом могут быть менее лояльными. `balance` имеет небольшую положительную корреляцию (0.08), что означает, что баланс на счете не является ключевым фактором оттока.\n",
    "\n",
    "Среди признаков с отрицательной корреляцией самым значимым является `credit_card` (-0.13), что говорит о том, что клиенты, имеющие кредитную карту, в среднем реже уходят. `age` (-0.05) и `city_Рыбинск` (-0.03) имеют очень слабую отрицательную корреляцию, что указывает на незначительное влияние этих факторов.\n",
    "\n",
    "В целом, корреляции с `churn` не слишком высокие, что может указывать на сложный многомерный характер факторов, влияющих на отток клиентов. Наиболее значимыми факторами остаются количество продуктов, собственность и активность клиента, что подтверждает ранее сделанные выводы. \n",
    "\n",
    "Также заметим, что среди признаков нет сильной корреляции друг с другом, что свидетельствует об их независимости и отсутствии выраженной мультиколлинеарности. Это означает, что каждый признак несет уникальную информацию, а дублирующих переменных нет. Поэтому на этапе кластеризации можно оставить все признаки, так как их удаление не требуется, и они могут вносить вклад в разделение клиентов на группы."
   ]
  },
  {
   "cell_type": "markdown",
   "metadata": {},
   "source": [
    "### Портрет клиента"
   ]
  },
  {
   "cell_type": "markdown",
   "metadata": {},
   "source": [
    "Для построения таблицы \"портрета клиента\" разделим данные на две группы (`churn = 1` и `churn = 0`) и вычислим соответствующие показатели:\n",
    "- Среднее для непрерывных величин (`est_salary`, `age`, `balance`, `score`).\n",
    "- Медиана для дискретных (`products`, `equity`).\n",
    "- Мода для категориальных (`city`, `is_male`, `credit_card`, `last_activity`).\n",
    "- Рассчитаем относительную разницу, чтобы понять, насколько сильно отличаются показатели между группами."
   ]
  },
  {
   "cell_type": "code",
   "execution_count": 24,
   "metadata": {},
   "outputs": [
    {
     "data": {
      "text/html": [
       "<div>\n",
       "<style scoped>\n",
       "    .dataframe tbody tr th:only-of-type {\n",
       "        vertical-align: middle;\n",
       "    }\n",
       "\n",
       "    .dataframe tbody tr th {\n",
       "        vertical-align: top;\n",
       "    }\n",
       "\n",
       "    .dataframe thead th {\n",
       "        text-align: right;\n",
       "    }\n",
       "</style>\n",
       "<table border=\"1\" class=\"dataframe\">\n",
       "  <thead>\n",
       "    <tr style=\"text-align: right;\">\n",
       "      <th></th>\n",
       "      <th>Метрика</th>\n",
       "      <th>Отток</th>\n",
       "      <th>Не отток</th>\n",
       "      <th>Относительная разница (%)</th>\n",
       "    </tr>\n",
       "  </thead>\n",
       "  <tbody>\n",
       "    <tr>\n",
       "      <th>0</th>\n",
       "      <td>Средняя зарплата</td>\n",
       "      <td>148243.010198</td>\n",
       "      <td>147783.200108</td>\n",
       "      <td>0.311138</td>\n",
       "    </tr>\n",
       "    <tr>\n",
       "      <th>1</th>\n",
       "      <td>Средний возраст</td>\n",
       "      <td>41.449451</td>\n",
       "      <td>43.011614</td>\n",
       "      <td>-3.631957</td>\n",
       "    </tr>\n",
       "    <tr>\n",
       "      <th>2</th>\n",
       "      <td>Средний баланс</td>\n",
       "      <td>1133993.27145</td>\n",
       "      <td>733982.585648</td>\n",
       "      <td>54.498662</td>\n",
       "    </tr>\n",
       "    <tr>\n",
       "      <th>3</th>\n",
       "      <td>Средний кредитный скоринг</td>\n",
       "      <td>863.401099</td>\n",
       "      <td>845.428362</td>\n",
       "      <td>2.125873</td>\n",
       "    </tr>\n",
       "    <tr>\n",
       "      <th>4</th>\n",
       "      <td>Медианное количество продуктов</td>\n",
       "      <td>2.0</td>\n",
       "      <td>2.0</td>\n",
       "      <td>-</td>\n",
       "    </tr>\n",
       "    <tr>\n",
       "      <th>5</th>\n",
       "      <td>Медианное количество собственности</td>\n",
       "      <td>4.0</td>\n",
       "      <td>3.0</td>\n",
       "      <td>-</td>\n",
       "    </tr>\n",
       "    <tr>\n",
       "      <th>6</th>\n",
       "      <td>Мода по городу</td>\n",
       "      <td>Ярославль</td>\n",
       "      <td>Ярославль</td>\n",
       "      <td>-</td>\n",
       "    </tr>\n",
       "    <tr>\n",
       "      <th>7</th>\n",
       "      <td>Мода по полу</td>\n",
       "      <td>Мужской</td>\n",
       "      <td>Женский</td>\n",
       "      <td>-</td>\n",
       "    </tr>\n",
       "    <tr>\n",
       "      <th>8</th>\n",
       "      <td>Мода по наличию кредитной карты</td>\n",
       "      <td>1</td>\n",
       "      <td>1</td>\n",
       "      <td>-</td>\n",
       "    </tr>\n",
       "    <tr>\n",
       "      <th>9</th>\n",
       "      <td>Мода по активности</td>\n",
       "      <td>1</td>\n",
       "      <td>0</td>\n",
       "      <td>-</td>\n",
       "    </tr>\n",
       "  </tbody>\n",
       "</table>\n",
       "</div>"
      ],
      "text/plain": [
       "                              Метрика          Отток       Не отток  \\\n",
       "0                    Средняя зарплата  148243.010198  147783.200108   \n",
       "1                     Средний возраст      41.449451      43.011614   \n",
       "2                      Средний баланс  1133993.27145  733982.585648   \n",
       "3           Средний кредитный скоринг     863.401099     845.428362   \n",
       "4      Медианное количество продуктов            2.0            2.0   \n",
       "5  Медианное количество собственности            4.0            3.0   \n",
       "6                      Мода по городу      Ярославль      Ярославль   \n",
       "7                        Мода по полу        Мужской        Женский   \n",
       "8     Мода по наличию кредитной карты              1              1   \n",
       "9                  Мода по активности              1              0   \n",
       "\n",
       "  Относительная разница (%)  \n",
       "0                  0.311138  \n",
       "1                 -3.631957  \n",
       "2                 54.498662  \n",
       "3                  2.125873  \n",
       "4                         -  \n",
       "5                         -  \n",
       "6                         -  \n",
       "7                         -  \n",
       "8                         -  \n",
       "9                         -  "
      ]
     },
     "execution_count": 24,
     "metadata": {},
     "output_type": "execute_result"
    }
   ],
   "source": [
    "# Разделение данных по churn\n",
    "churned = data[data['churn'] == 1]\n",
    "not_churned = data[data['churn'] == 0]\n",
    "\n",
    "# Вычисляем средние значения для непрерывных признаков\n",
    "avg_salary_churn = churned['est_salary'].mean()\n",
    "avg_salary_not_churn = not_churned['est_salary'].mean()\n",
    "avg_age_churn = churned['age'].mean()\n",
    "avg_age_not_churn = not_churned['age'].mean()\n",
    "avg_balance_churn = churned['balance'].mean()\n",
    "avg_balance_not_churn = not_churned['balance'].mean()\n",
    "avg_score_churn = churned['score'].mean()\n",
    "avg_score_not_churn = not_churned['score'].mean()\n",
    "\n",
    "# Вычисляем медиану для дискретных признаков\n",
    "median_products_churn = churned['products'].median()\n",
    "median_products_not_churn = not_churned['products'].median()\n",
    "median_equity_churn = churned['equity'].median()\n",
    "median_equity_not_churn = not_churned['equity'].median()\n",
    "\n",
    "# Определяем моду для категориальных признаков\n",
    "mode_city_churn = churned[['city_Ярославль', 'city_Рыбинск', 'city_Ростов']].sum().idxmax().replace('city_', '')\n",
    "mode_city_not_churn = not_churned[['city_Ярославль', 'city_Рыбинск', 'city_Ростов']].sum().idxmax().replace('city_', '')\n",
    "\n",
    "# Определяем моду для пола по исходным значениям\n",
    "mode_gender_churn = 'Мужской' if churned['is_male'].mode()[0] == 1 else 'Женский'\n",
    "mode_gender_not_churn = 'Мужской' if not_churned['is_male'].mode()[0] == 1 else 'Женский'\n",
    "\n",
    "mode_credit_card_churn = churned['credit_card'].mode()[0]\n",
    "mode_credit_card_not_churn = not_churned['credit_card'].mode()[0]\n",
    "mode_activity_churn = churned['last_activity'].mode()[0]\n",
    "mode_activity_not_churn = not_churned['last_activity'].mode()[0]\n",
    "\n",
    "# Рассчитываем относительную разницу (только для непрерывных признаков)\n",
    "relative_salary = (avg_salary_churn - avg_salary_not_churn) / avg_salary_not_churn * 100\n",
    "relative_age = (avg_age_churn - avg_age_not_churn) / avg_age_not_churn * 100\n",
    "relative_balance = (avg_balance_churn - avg_balance_not_churn) / avg_balance_not_churn * 100\n",
    "relative_score = (avg_score_churn - avg_score_not_churn) / avg_score_not_churn * 100\n",
    "\n",
    "# Создаем итоговую таблицу\n",
    "portrait_df = pd.DataFrame({\n",
    "    'Метрика': [\n",
    "        'Средняя зарплата', 'Средний возраст', 'Средний баланс', 'Средний кредитный скоринг',\n",
    "        'Медианное количество продуктов', 'Медианное количество собственности',\n",
    "        'Мода по городу', 'Мода по полу', 'Мода по наличию кредитной карты', 'Мода по активности'\n",
    "    ],\n",
    "    'Отток': [\n",
    "        avg_salary_churn, avg_age_churn, avg_balance_churn, avg_score_churn,\n",
    "        median_products_churn, median_equity_churn, mode_city_churn, mode_gender_churn,\n",
    "        mode_credit_card_churn, mode_activity_churn\n",
    "    ],\n",
    "    'Не отток': [\n",
    "        avg_salary_not_churn, avg_age_not_churn, avg_balance_not_churn, avg_score_not_churn,\n",
    "        median_products_not_churn, median_equity_not_churn, mode_city_not_churn, mode_gender_not_churn,\n",
    "        mode_credit_card_not_churn, mode_activity_not_churn\n",
    "    ],\n",
    "    'Относительная разница (%)': [\n",
    "        relative_salary, relative_age, relative_balance, relative_score,\n",
    "        '-', '-', '-', '-', '-', '-'\n",
    "    ]\n",
    "})\n",
    "\n",
    "portrait_df"
   ]
  },
  {
   "cell_type": "markdown",
   "metadata": {},
   "source": [
    "Анализ характеристик клиентов показал, что средняя зарплата практически не отличается между ушедшими и оставшимися клиентами (разница всего 0.31%), что подтверждает слабое влияние дохода на отток. Однако ушедшие клиенты в среднем обладают значительно более высоким балансом (+54.5%), что может свидетельствовать о том, что банк теряет наиболее финансово активных пользователей. Средний кредитный скоринг также выше у клиентов, покинувших банк (+2.13%), что указывает на возможную склонность клиентов с хорошей кредитной историей менять банк в поисках лучших условий.\n",
    "\n",
    "Различия в возрасте хоть и присутствуют, но не критичны (-3.63% в пользу более молодых клиентов), а количество используемых банковских продуктов в медианном значении не отличается (2), что подтверждает, что сам факт использования нескольких услуг не является решающим фактором оттока. Однако количество собственности (`equity`) заметно выше среди ушедших клиентов (медианное значение 4 против 3), что подтверждает корреляционный анализ и указывает на возможную связь между уровнем собственности и склонностью к уходу.\n",
    "\n",
    "По географическому признаку город Ярославль доминирует среди обеих групп, что говорит о том, что сам по себе географический фактор не является решающим. В то же время мужчины уходят заметно чаще женщин, что согласуется с более высоким уровнем оттока среди мужчин, выявленным в корреляционном анализе. Активные клиенты чаще попадают в группу оттока, что указывает на необходимость работы с удержанием даже среди вовлеченных пользователей.\n",
    "\n",
    "Таким образом, ключевые различия между ушедшими и оставшимися клиентами связаны с полом, уровнем собственности и размером баланса, в то время как возраст и зарплата оказывают менее значимое влияние."
   ]
  },
  {
   "cell_type": "markdown",
   "metadata": {},
   "source": [
    "Анализ распределения признаков показал, что клиенты с более высоким кредитным скорингом, увеличенным балансом и высоким уровнем собственности (`equity`) чаще уходят, что может свидетельствовать о том, что банк теряет наиболее финансово активных пользователей. В то же время возраст и уровень дохода не оказывают значимого влияния, поскольку различия между группами минимальны. Среди категориальных признаков наибольший уровень оттока наблюдается среди клиентов, использующих 4 и более банковских продуктов, тогда как пользователи 1-2 услуг остаются лояльными. Мужчины демонстрируют более высокий уровень оттока по сравнению с женщинами, а также среди активных клиентов риск ухода выше, что может указывать на возможное неудовлетворение сервисом или тарифами.\n",
    "\n",
    "Корреляционный анализ подтвердил, что наибольшее влияние на `churn` оказывают количество продуктов (`products`), уровень собственности (`equity`) и активность (`last_activity`), тогда как возраст, наличие кредитной карты и баланс на счете играют менее значимую роль. Отсутствие сильной корреляции между признаками позволяет использовать их все на этапе кластеризации, не исключая никакие переменные заранее.\n",
    "\n",
    "Портрет клиента, склонного к оттоку, включает средний возраст 41 год, более высокий уровень собственности (медианное значение – 4), использование 2 и более банковских продуктов и преобладание мужчин в данной группе. При этом различий в уровне дохода между ушедшими и оставшимися клиентами практически нет, а наиболее часто встречающийся город остается неизменным – Ярославль.\n",
    "\n",
    "Таким образом, ключевые факторы риска для оттока клиентов – использование большого числа банковских продуктов, высокий уровень собственности, мужской пол и определенный возрастной диапазон (30-50 лет). Эти выводы станут основой для дальнейшей кластеризации клиентов и разработки стратегий их удержания."
   ]
  },
  {
   "cell_type": "markdown",
   "metadata": {},
   "source": [
    "## Проверка гипотез"
   ]
  },
  {
   "cell_type": "markdown",
   "metadata": {},
   "source": [
    "Сформулируем и проверим несколько гипотез, чтобы внести ясность в исследование."
   ]
  },
  {
   "cell_type": "markdown",
   "metadata": {},
   "source": [
    "### Гипотеза о доходах клиентов"
   ]
  },
  {
   "cell_type": "markdown",
   "metadata": {},
   "source": [
    "- H0: Средний доход (`est_salary`) не различается между ушедшими и оставшимися клиентами.\n",
    "- H1: Средний доход (`est_salary`) у ушедших клиентов отличается от оставшихся.\n",
    "- Уровень значимости (α): 0.05 (5%).\n",
    "\n",
    "Для выбора метода проверки гипотезы необходимо понять, как распределен `est_salary` в обеих группах (`churn = 0` и `churn = 1`)."
   ]
  },
  {
   "cell_type": "code",
   "execution_count": 25,
   "metadata": {},
   "outputs": [
    {
     "data": {
      "image/png": "[encoded data removed]",
      "text/plain": [
       "<Figure size 864x360 with 1 Axes>"
      ]
     },
     "metadata": {},
     "output_type": "display_data"
    },
    {
     "data": {
      "image/png": "[encoded data removed]",
      "text/plain": [
       "<Figure size 432x288 with 1 Axes>"
      ]
     },
     "metadata": {},
     "output_type": "display_data"
    }
   ],
   "source": [
    "# Визуализация нормированного распределения доходов\n",
    "plt.figure(figsize=(12, 5))\n",
    "\n",
    "sns.histplot(data, x='est_salary', hue='churn', kde=True, bins=30, \n",
    "             element=\"step\", palette=\"Set2\", stat=\"density\", common_norm=False)\n",
    "\n",
    "plt.title(\"Нормированное распределение доходов клиентов в разрезе оттока\")\n",
    "plt.xlabel(\"Доход\")\n",
    "plt.ylabel(\"Плотность\")\n",
    "plt.show()\n",
    "\n",
    "# Boxplot доходов по группам оттока\n",
    "plt.figure(figsize=(6, 4))\n",
    "sns.boxplot(x='churn', y='est_salary', data=data, palette=\"Set2\")\n",
    "\n",
    "plt.title(\"Boxplot доходов клиентов в разрезе оттока\")\n",
    "plt.xlabel(\"Отток\")\n",
    "plt.ylabel(\"Доход\")\n",
    "plt.show()"
   ]
  },
  {
   "cell_type": "markdown",
   "metadata": {},
   "source": [
    "В соответствии с центральной предельной теоремой (ЦПТ), при достаточно большом объеме выборки t-тест можно применять даже к данным, распределение которых не является нормальным. Также, если размер выборок отличается более чем на 25%, параметр `equal_var` в t-тесте должен быть установлен в `False`, независимо от равенства дисперсий, для корректной работы теста."
   ]
  },
  {
   "cell_type": "code",
   "execution_count": 26,
   "metadata": {},
   "outputs": [
    {
     "name": "stdout",
     "output_type": "stream",
     "text": [
      "Статистика теста: 3.8402\n",
      "P-значение: 0.0001\n",
      "Разница в размере выборок: 4.47x\n",
      "equal_var установлен в: False\n",
      "Отвергаем H0: средний доход ушедших клиентов значимо отличается от оставшихся.\n"
     ]
    }
   ],
   "source": [
    "# Вычисляем границы для удаления выбросов\n",
    "Q1 = data['est_salary'].quantile(0.25)\n",
    "Q3 = data['est_salary'].quantile(0.75)\n",
    "IQR = Q3 - Q1\n",
    "lower_bound = Q1 - 1.5 * IQR\n",
    "upper_bound = Q3 + 1.5 * IQR\n",
    "\n",
    "# Удаляем выбросы\n",
    "data_no_outliers = data[(data['est_salary'] >= lower_bound) & (data['est_salary'] <= upper_bound)]\n",
    "\n",
    "# Разделяем данные на две группы\n",
    "salary_churn = data_no_outliers[data_no_outliers['churn'] == 1]['est_salary']\n",
    "salary_not_churn = data_no_outliers[data_no_outliers['churn'] == 0]['est_salary']\n",
    "\n",
    "# Проверка разницы в размере выборок\n",
    "size_ratio = max(len(salary_churn), len(salary_not_churn)) / min(len(salary_churn), len(salary_not_churn))\n",
    "equal_var = size_ratio <= 1.25  # Если разница более 25%, ставим equal_var=False\n",
    "\n",
    "# Проведение t-теста\n",
    "test_stat, p_value = stats.ttest_ind(salary_churn, salary_not_churn, equal_var=equal_var)\n",
    "\n",
    "# Вывод результатов\n",
    "print(f\"Статистика теста: {test_stat:.4f}\")\n",
    "print(f\"P-значение: {p_value:.4f}\")\n",
    "print(f\"Разница в размере выборок: {size_ratio:.2f}x\")\n",
    "print(f\"equal_var установлен в: {equal_var}\")\n",
    "\n",
    "# Интерпретация результата\n",
    "alpha = 0.05\n",
    "if p_value < alpha:\n",
    "    print(\"Отвергаем H0: средний доход ушедших клиентов значимо отличается от оставшихся.\")\n",
    "else:\n",
    "    print(\"Не отвергаем H0: средний доход ушедших клиентов не отличается от оставшихся.\")"
   ]
  },
  {
   "cell_type": "markdown",
   "metadata": {},
   "source": [
    "Проверка гипотезы с помощью t-теста для независимых выборок показала, что p-value = 0.0001, что значительно меньше уровня значимости α = 0.05. Это означает, что нулевая гипотеза отвергается, и мы можем утверждать, что средний доход ушедших клиентов значимо отличается от дохода оставшихся клиентов. Поскольку размер выборок отличается более чем в 4 раза, тест был проведен с параметром `equal_var=False`, что обеспечивает корректность результата.\n",
    "\n",
    "Важно отметить, что использование непараметрического теста было обосновано, поскольку распределения доходов оказались не нормальными, а дисперсии различались. Хотя на этапе EDA средние доходы казались схожими, статистический тест подтвердил, что разница действительно существенна с точки зрения статистики. Однако, даже при наличии значимого различия, с практической точки зрения эффект может быть небольшим, и на реальный процесс оттока доход влияет слабее, чем другие факторы."
   ]
  },
  {
   "cell_type": "markdown",
   "metadata": {},
   "source": [
    "### Гипотеза о связи количества продуктов и оттока"
   ]
  },
  {
   "cell_type": "markdown",
   "metadata": {},
   "source": [
    "- H0: Среднее количество продуктов (`products`) у ушедших и оставшихся клиентов одинаково.\n",
    "- H1: Среднее количество продуктов (`products`) у ушедших и оставшихся клиентов различается.\n",
    "- Уровень значимости (α): 0.05 (5%)."
   ]
  },
  {
   "cell_type": "code",
   "execution_count": 27,
   "metadata": {
    "scrolled": false
   },
   "outputs": [
    {
     "data": {
      "image/png": "[encoded data removed]",
      "text/plain": [
       "<Figure size 864x360 with 1 Axes>"
      ]
     },
     "metadata": {},
     "output_type": "display_data"
    },
    {
     "data": {
      "image/png": "[encoded data removed]",
      "text/plain": [
       "<Figure size 432x288 with 1 Axes>"
      ]
     },
     "metadata": {},
     "output_type": "display_data"
    }
   ],
   "source": [
    "# Визуализация нормированного распределения количества продуктов\n",
    "plt.figure(figsize=(12, 5))\n",
    "\n",
    "sns.histplot(data, x='products', hue='churn', bins=6, discrete=True, element=\"bars\", \n",
    "             palette=\"Set2\", multiple=\"dodge\", stat=\"probability\")\n",
    "\n",
    "plt.title(\"Нормированное распределение количества продуктов в разрезе оттока\")\n",
    "plt.xlabel(\"Количество продуктов\")\n",
    "plt.ylabel(\"Доля клиентов\")\n",
    "plt.show()\n",
    "\n",
    "# Boxplot количества продуктов в разрезе оттока\n",
    "plt.figure(figsize=(6, 4))\n",
    "sns.boxplot(x='churn', y='products', data=data, palette=\"Set2\")\n",
    "\n",
    "plt.title(\"Boxplot количества продуктов в разрезе оттока\")\n",
    "plt.xlabel(\"Отток\")\n",
    "plt.ylabel(\"Количество продуктов\")\n",
    "plt.show()\n"
   ]
  },
  {
   "cell_type": "markdown",
   "metadata": {},
   "source": [
    "Для проверки данной гипотезы лучше использовать непараметрический тест Манна-Уитни, так как он не требует нормального распределения и лучше подходит для сравнения двух групп с порядковыми или дискретными значениями."
   ]
  },
  {
   "cell_type": "code",
   "execution_count": 28,
   "metadata": {},
   "outputs": [
    {
     "name": "stdout",
     "output_type": "stream",
     "text": [
      "Статистика Манна-Уитни: 10191562.5000\n",
      "P-значение: 0.0000000\n",
      "Отвергаем H0: количество продуктов у ушедших клиентов значимо отличается от оставшихся.\n"
     ]
    }
   ],
   "source": [
    "# Разделяем выборки\n",
    "products_churn = data[data['churn'] == 1]['products']\n",
    "products_not_churn = data[data['churn'] == 0]['products']\n",
    "\n",
    "# Тест Манна-Уитни\n",
    "stat, p_value = mannwhitneyu(products_churn, products_not_churn, alternative='two-sided')\n",
    "\n",
    "# Вывод результатов\n",
    "print(f\"Статистика Манна-Уитни: {stat:.4f}\")\n",
    "print(f\"P-значение: {p_value:.7f}\")\n",
    "\n",
    "# Интерпретация результата\n",
    "alpha = 0.05\n",
    "if p_value < alpha:\n",
    "    print(\"Отвергаем H0: количество продуктов у ушедших клиентов значимо отличается от оставшихся.\")\n",
    "else:\n",
    "    print(\"Не отвергаем H0: количество продуктов у ушедших клиентов не отличается от оставшихся.\")"
   ]
  },
  {
   "cell_type": "markdown",
   "metadata": {},
   "source": [
    "Тест Манна-Уитни показал p-value = 0.0000000, что значительно меньше уровня значимости α = 0.05. Это означает, что нулевая гипотеза отвергается, и количество продуктов у ушедших клиентов значимо отличается от оставшихся.\n",
    "\n",
    "Ранее в EDA мы уже наблюдали, что клиенты с 4 и более продуктами гораздо чаще уходят, а те, кто использует 1-2 продукта, остаются лояльными. Теперь статистический тест подтвердил, что это различие статистически значимо."
   ]
  },
  {
   "cell_type": "markdown",
   "metadata": {},
   "source": [
    "### Гипотеза о связи количества собственности и оттока"
   ]
  },
  {
   "cell_type": "markdown",
   "metadata": {},
   "source": [
    "- H0: Медианное количество собственности (`equity`) у ушедших и оставшихся клиентов одинаково.\n",
    "- H1: Медианное количество собственности (`equity`) у ушедших и оставшихся клиентов различается.\n",
    "- Уровень значимости (α): 0.05 (5%)."
   ]
  },
  {
   "cell_type": "code",
   "execution_count": 29,
   "metadata": {},
   "outputs": [
    {
     "data": {
      "image/png": "[encoded data removed]",
      "text/plain": [
       "<Figure size 864x360 with 1 Axes>"
      ]
     },
     "metadata": {},
     "output_type": "display_data"
    },
    {
     "data": {
      "image/png": "[encoded data removed]",
      "text/plain": [
       "<Figure size 432x288 with 1 Axes>"
      ]
     },
     "metadata": {},
     "output_type": "display_data"
    }
   ],
   "source": [
    "# Визуализация распределения количества собственности для ушедших и оставшихся клиентов\n",
    "plt.figure(figsize=(12, 5))\n",
    "\n",
    "# Гистограммы\n",
    "sns.histplot(data, x='equity', hue='churn', bins=10, discrete=True, element=\"bars\", palette=\"Set2\", multiple=\"dodge\")\n",
    "plt.title(\"Распределение количества собственности в разрезе оттока\")\n",
    "plt.xlabel(\"Количество собственности\")\n",
    "plt.ylabel(\"Частота\")\n",
    "plt.show()\n",
    "\n",
    "# Boxplot\n",
    "plt.figure(figsize=(6, 4))\n",
    "sns.boxplot(x='churn', y='equity', data=data, palette=\"Set2\")\n",
    "plt.title(\"Boxplot количества собственности в разрезе оттока\")\n",
    "plt.xlabel(\"Отток\")\n",
    "plt.ylabel(\"Количество собственности\")\n",
    "plt.show()"
   ]
  },
  {
   "cell_type": "markdown",
   "metadata": {},
   "source": [
    "Так как `equity` - дискретный показатель, как и `products`, снова используем тест Манна-Уитни."
   ]
  },
  {
   "cell_type": "code",
   "execution_count": 30,
   "metadata": {},
   "outputs": [
    {
     "name": "stdout",
     "output_type": "stream",
     "text": [
      "Статистика Манна-Уитни: 10376158.5000\n",
      "P-значение: 0.0000\n",
      "Отвергаем H0: количество собственности у ушедших клиентов значимо отличается от оставшихся.\n"
     ]
    }
   ],
   "source": [
    "# Разделяем выборки\n",
    "equity_churn = data[data['churn'] == 1]['equity']\n",
    "equity_not_churn = data[data['churn'] == 0]['equity']\n",
    "\n",
    "# Тест Манна-Уитни\n",
    "stat, p_value = mannwhitneyu(equity_churn, equity_not_churn, alternative='two-sided')\n",
    "\n",
    "# Вывод результатов\n",
    "print(f\"Статистика Манна-Уитни: {stat:.4f}\")\n",
    "print(f\"P-значение: {p_value:.4f}\")\n",
    "\n",
    "# Интерпретация результата\n",
    "alpha = 0.05\n",
    "if p_value < alpha:\n",
    "    print(\"Отвергаем H0: количество собственности у ушедших клиентов значимо отличается от оставшихся.\")\n",
    "else:\n",
    "    print(\"Не отвергаем H0: количество собственности у ушедших клиентов не отличается от оставшихся.\")"
   ]
  },
  {
   "cell_type": "markdown",
   "metadata": {},
   "source": [
    "Тест Манна-Уитни показал p-value = 0.0000, что значительно меньше уровня значимости α = 0.05. Это означает, что нулевая гипотеза отвергается, и количество собственности у ушедших клиентов значимо отличается от оставшихся.\n",
    "\n",
    "Ранее в EDA мы уже отмечали, что у клиентов, склонных к оттоку, медианное значение equity выше (4 против 3 у оставшихся), и статистический тест подтвердил это различие. Это может свидетельствовать о том, что клиенты с большей собственностью могут быть менее зависимы от банка и чаще менять финансовые учреждения."
   ]
  },
  {
   "cell_type": "markdown",
   "metadata": {},
   "source": [
    "### Гипотеза о связи возраста и оттока"
   ]
  },
  {
   "cell_type": "markdown",
   "metadata": {},
   "source": [
    "- H0: Средний возраст ушедших и оставшихся клиентов не различается.\n",
    "- H1: Средний возраст ушедших и оставшихся клиентов различается.\n",
    "- Уровень значимости (α): 0.05 (5%)."
   ]
  },
  {
   "cell_type": "code",
   "execution_count": 31,
   "metadata": {},
   "outputs": [
    {
     "data": {
      "image/png": "[encoded data removed]",
      "text/plain": [
       "<Figure size 864x360 with 1 Axes>"
      ]
     },
     "metadata": {},
     "output_type": "display_data"
    },
    {
     "data": {
      "image/png": "[encoded data removed]",
      "text/plain": [
       "<Figure size 432x288 with 1 Axes>"
      ]
     },
     "metadata": {},
     "output_type": "display_data"
    }
   ],
   "source": [
    "# Визуализация нормированного распределения возраста\n",
    "plt.figure(figsize=(12, 5))\n",
    "\n",
    "sns.histplot(data, x='age', hue='churn', bins=30, element=\"step\", palette=\"Set2\", kde=True,\n",
    "             stat=\"density\", common_norm=False)\n",
    "\n",
    "plt.title(\"Нормированное распределение возраста в разрезе оттока\")\n",
    "plt.xlabel(\"Возраст\")\n",
    "plt.ylabel(\"Плотность\")\n",
    "plt.show()\n",
    "\n",
    "# Boxplot возраста в разрезе оттока\n",
    "plt.figure(figsize=(6, 4))\n",
    "sns.boxplot(x='churn', y='age', data=data, palette=\"Set2\")\n",
    "\n",
    "plt.title(\"Boxplot возраста в разрезе оттока\")\n",
    "plt.xlabel(\"Отток\")\n",
    "plt.ylabel(\"Возраст\")\n",
    "plt.show()"
   ]
  },
  {
   "cell_type": "markdown",
   "metadata": {},
   "source": [
    "Проведем тест аналогично первой гипотезе."
   ]
  },
  {
   "cell_type": "code",
   "execution_count": 32,
   "metadata": {},
   "outputs": [
    {
     "name": "stdout",
     "output_type": "stream",
     "text": [
      "Разница в размере выборок: 4.49x\n",
      "equal_var установлен в: False\n",
      "Статистика теста: -5.2882\n",
      "P-значение: 0.0000\n",
      "Отвергаем H0: средний возраст ушедших клиентов значимо отличается от оставшихся.\n"
     ]
    }
   ],
   "source": [
    "# Разделяем выборки\n",
    "age_churn = data[data['churn'] == 1]['age']\n",
    "age_not_churn = data[data['churn'] == 0]['age']\n",
    "\n",
    "# Проверяем разницу в размере выборок\n",
    "ratio = len(age_not_churn) / len(age_churn)\n",
    "equal_var = ratio <= 1.25  # Если разница больше чем в 1.25 раза, устанавливаем equal_var=False\n",
    "\n",
    "print(f\"Разница в размере выборок: {ratio:.2f}x\")\n",
    "print(f\"equal_var установлен в: {equal_var}\")\n",
    "\n",
    "# Проведение t-теста\n",
    "test_stat, p_value = stats.ttest_ind(age_churn, age_not_churn, equal_var=equal_var)\n",
    "\n",
    "# Вывод результатов\n",
    "print(f\"Статистика теста: {test_stat:.4f}\")\n",
    "print(f\"P-значение: {p_value:.4f}\")\n",
    "\n",
    "# Интерпретация результата\n",
    "alpha = 0.05\n",
    "if p_value < alpha:\n",
    "    print(\"Отвергаем H0: средний возраст ушедших клиентов значимо отличается от оставшихся.\")\n",
    "else:\n",
    "    print(\"Не отвергаем H0: средний возраст ушедших клиентов не отличается от оставшихся.\")"
   ]
  },
  {
   "cell_type": "markdown",
   "metadata": {},
   "source": [
    "T-тест для двух независимых выборок показал p-value = 0.0000, что значительно меньше уровня значимости α = 0.05. Это означает, что нулевая гипотеза отвергается, и мы можем утверждать, что средний возраст ушедших клиентов значимо отличается от возраста оставшихся клиентов.\n",
    "\n",
    "Ранее в EDA было выявлено, что средний возраст клиентов в группе churn = 1 ниже, чем у оставшихся клиентов. Теперь статистический тест подтвердил, что это различие не является случайным. Это может свидетельствовать о том, что молодые клиенты менее лояльны к банку и чаще меняют его на другие финансовые организации, возможно, в поисках более выгодных условий или удобных цифровых сервисов."
   ]
  },
  {
   "cell_type": "markdown",
   "metadata": {},
   "source": [
    "### Гипотеза о связи пола и оттока"
   ]
  },
  {
   "cell_type": "markdown",
   "metadata": {},
   "source": [
    "- H0: Пол клиента не влияет на вероятность оттока (процент ушедших мужчин и женщин одинаков).\n",
    "- H1: Мужчины уходят чаще, чем женщины.\n",
    "- Уровень значимости (α): 0.05 (5%).\n",
    "\n",
    "Прежде чем выполнять тест, построим кросс-таблицу (`is_male` × `churn`), чтобы увидеть распределение долей."
   ]
  },
  {
   "cell_type": "code",
   "execution_count": 33,
   "metadata": {},
   "outputs": [
    {
     "name": "stdout",
     "output_type": "stream",
     "text": [
      "Таблица частот gender × churn:\n"
     ]
    },
    {
     "data": {
      "text/html": [
       "<div>\n",
       "<style scoped>\n",
       "    .dataframe tbody tr th:only-of-type {\n",
       "        vertical-align: middle;\n",
       "    }\n",
       "\n",
       "    .dataframe tbody tr th {\n",
       "        vertical-align: top;\n",
       "    }\n",
       "\n",
       "    .dataframe thead th {\n",
       "        text-align: right;\n",
       "    }\n",
       "</style>\n",
       "<table border=\"1\" class=\"dataframe\">\n",
       "  <thead>\n",
       "    <tr style=\"text-align: right;\">\n",
       "      <th>churn</th>\n",
       "      <th>0</th>\n",
       "      <th>1</th>\n",
       "    </tr>\n",
       "    <tr>\n",
       "      <th>is_male</th>\n",
       "      <th></th>\n",
       "      <th></th>\n",
       "    </tr>\n",
       "  </thead>\n",
       "  <tbody>\n",
       "    <tr>\n",
       "      <th>0</th>\n",
       "      <td>4358</td>\n",
       "      <td>637</td>\n",
       "    </tr>\n",
       "    <tr>\n",
       "      <th>1</th>\n",
       "      <td>3822</td>\n",
       "      <td>1183</td>\n",
       "    </tr>\n",
       "  </tbody>\n",
       "</table>\n",
       "</div>"
      ],
      "text/plain": [
       "churn       0     1\n",
       "is_male            \n",
       "0        4358   637\n",
       "1        3822  1183"
      ]
     },
     "metadata": {},
     "output_type": "display_data"
    },
    {
     "name": "stdout",
     "output_type": "stream",
     "text": [
      "\n",
      "Доли оттока среди мужчин и женщин:\n"
     ]
    },
    {
     "data": {
      "text/html": [
       "<div>\n",
       "<style scoped>\n",
       "    .dataframe tbody tr th:only-of-type {\n",
       "        vertical-align: middle;\n",
       "    }\n",
       "\n",
       "    .dataframe tbody tr th {\n",
       "        vertical-align: top;\n",
       "    }\n",
       "\n",
       "    .dataframe thead th {\n",
       "        text-align: right;\n",
       "    }\n",
       "</style>\n",
       "<table border=\"1\" class=\"dataframe\">\n",
       "  <thead>\n",
       "    <tr style=\"text-align: right;\">\n",
       "      <th>churn</th>\n",
       "      <th>0</th>\n",
       "      <th>1</th>\n",
       "    </tr>\n",
       "    <tr>\n",
       "      <th>is_male</th>\n",
       "      <th></th>\n",
       "      <th></th>\n",
       "    </tr>\n",
       "  </thead>\n",
       "  <tbody>\n",
       "    <tr>\n",
       "      <th>0</th>\n",
       "      <td>0.872472</td>\n",
       "      <td>0.127528</td>\n",
       "    </tr>\n",
       "    <tr>\n",
       "      <th>1</th>\n",
       "      <td>0.763636</td>\n",
       "      <td>0.236364</td>\n",
       "    </tr>\n",
       "  </tbody>\n",
       "</table>\n",
       "</div>"
      ],
      "text/plain": [
       "churn           0         1\n",
       "is_male                    \n",
       "0        0.872472  0.127528\n",
       "1        0.763636  0.236364"
      ]
     },
     "metadata": {},
     "output_type": "display_data"
    }
   ],
   "source": [
    "# Создаем таблицу сопряженности\n",
    "gender_churn_table = pd.crosstab(data['is_male'], data['churn'])\n",
    "\n",
    "# Вывод таблицы\n",
    "print(\"Таблица частот gender × churn:\")\n",
    "display(gender_churn_table)\n",
    "\n",
    "# Рассчитываем доли ушедших клиентов среди мужчин и женщин\n",
    "gender_churn_rates = gender_churn_table.div(gender_churn_table.sum(axis=1), axis=0)\n",
    "print(\"\\nДоли оттока среди мужчин и женщин:\")\n",
    "display(gender_churn_rates)"
   ]
  },
  {
   "cell_type": "markdown",
   "metadata": {},
   "source": [
    "Так как обе переменные (`is_male` и `churn`) категориальные, применяем хи-квадрат тест независимости."
   ]
  },
  {
   "cell_type": "code",
   "execution_count": 34,
   "metadata": {},
   "outputs": [
    {
     "name": "stdout",
     "output_type": "stream",
     "text": [
      "Хи-квадрат статистика: 198.1816\n",
      "P-значение: 0.0000\n",
      "Отвергаем H0: пол влияет на вероятность оттока, мужчины и женщины уходят с разной частотой.\n"
     ]
    }
   ],
   "source": [
    "# Хи-квадрат тест\n",
    "chi2_stat, p_value, dof, expected = chi2_contingency(gender_churn_table)\n",
    "\n",
    "# Вывод результатов\n",
    "print(f\"Хи-квадрат статистика: {chi2_stat:.4f}\")\n",
    "print(f\"P-значение: {p_value:.4f}\")\n",
    "\n",
    "# Интерпретация результата\n",
    "alpha = 0.05\n",
    "if p_value < alpha:\n",
    "    print(\"Отвергаем H0: пол влияет на вероятность оттока, мужчины и женщины уходят с разной частотой.\")\n",
    "else:\n",
    "    print(\"Не отвергаем H0: пол не влияет на вероятность оттока, доли ушедших клиентов одинаковы.\")"
   ]
  },
  {
   "cell_type": "markdown",
   "metadata": {},
   "source": [
    "Хи-квадрат тест показал p-value = 0.0000, что значительно меньше уровня значимости α = 0.05. Это означает, что нулевая гипотеза отвергается, и пол значимо влияет на вероятность оттока.\n",
    "\n",
    "Как видно из таблицы долей, мужчины уходят гораздо чаще, чем женщины (23.6% против 12.7%). Это подтверждает предыдущие наблюдения из EDA: среди ушедших клиентов действительно преобладают мужчины. Возможные причины такого поведения могут быть связаны с их финансовыми привычками, уровнем доверия к банку или активным поиском более выгодных условий в других организациях."
   ]
  },
  {
   "cell_type": "markdown",
   "metadata": {},
   "source": [
    "### Гипотеза о связи активности и оттока"
   ]
  },
  {
   "cell_type": "markdown",
   "metadata": {},
   "source": [
    "- H0: Активность клиента (`last_activity`) не влияет на вероятность оттока (процент ушедших среди активных и неактивных одинаков).\n",
    "- H1: Неактивные клиенты (`last_activity = 0`) уходят чаще, чем активные (`last_activity = 1`).\n",
    "- Уровень значимости (α): 0.05 (5%).\n",
    "\n",
    "Перед тестом посмотрим, как распределены активные и неактивные клиенты среди ушедших и оставшихся."
   ]
  },
  {
   "cell_type": "code",
   "execution_count": 35,
   "metadata": {},
   "outputs": [
    {
     "name": "stdout",
     "output_type": "stream",
     "text": [
      "Таблица частот last_activity × churn:\n"
     ]
    },
    {
     "data": {
      "text/html": [
       "<div>\n",
       "<style scoped>\n",
       "    .dataframe tbody tr th:only-of-type {\n",
       "        vertical-align: middle;\n",
       "    }\n",
       "\n",
       "    .dataframe tbody tr th {\n",
       "        vertical-align: top;\n",
       "    }\n",
       "\n",
       "    .dataframe thead th {\n",
       "        text-align: right;\n",
       "    }\n",
       "</style>\n",
       "<table border=\"1\" class=\"dataframe\">\n",
       "  <thead>\n",
       "    <tr style=\"text-align: right;\">\n",
       "      <th>churn</th>\n",
       "      <th>0</th>\n",
       "      <th>1</th>\n",
       "    </tr>\n",
       "    <tr>\n",
       "      <th>last_activity</th>\n",
       "      <th></th>\n",
       "      <th></th>\n",
       "    </tr>\n",
       "  </thead>\n",
       "  <tbody>\n",
       "    <tr>\n",
       "      <th>0</th>\n",
       "      <td>4223</td>\n",
       "      <td>542</td>\n",
       "    </tr>\n",
       "    <tr>\n",
       "      <th>1</th>\n",
       "      <td>3957</td>\n",
       "      <td>1278</td>\n",
       "    </tr>\n",
       "  </tbody>\n",
       "</table>\n",
       "</div>"
      ],
      "text/plain": [
       "churn             0     1\n",
       "last_activity            \n",
       "0              4223   542\n",
       "1              3957  1278"
      ]
     },
     "metadata": {},
     "output_type": "display_data"
    },
    {
     "name": "stdout",
     "output_type": "stream",
     "text": [
      "\n",
      "Доли оттока среди активных и неактивных клиентов:\n"
     ]
    },
    {
     "data": {
      "text/html": [
       "<div>\n",
       "<style scoped>\n",
       "    .dataframe tbody tr th:only-of-type {\n",
       "        vertical-align: middle;\n",
       "    }\n",
       "\n",
       "    .dataframe tbody tr th {\n",
       "        vertical-align: top;\n",
       "    }\n",
       "\n",
       "    .dataframe thead th {\n",
       "        text-align: right;\n",
       "    }\n",
       "</style>\n",
       "<table border=\"1\" class=\"dataframe\">\n",
       "  <thead>\n",
       "    <tr style=\"text-align: right;\">\n",
       "      <th>churn</th>\n",
       "      <th>0</th>\n",
       "      <th>1</th>\n",
       "    </tr>\n",
       "    <tr>\n",
       "      <th>last_activity</th>\n",
       "      <th></th>\n",
       "      <th></th>\n",
       "    </tr>\n",
       "  </thead>\n",
       "  <tbody>\n",
       "    <tr>\n",
       "      <th>0</th>\n",
       "      <td>0.886254</td>\n",
       "      <td>0.113746</td>\n",
       "    </tr>\n",
       "    <tr>\n",
       "      <th>1</th>\n",
       "      <td>0.755874</td>\n",
       "      <td>0.244126</td>\n",
       "    </tr>\n",
       "  </tbody>\n",
       "</table>\n",
       "</div>"
      ],
      "text/plain": [
       "churn                 0         1\n",
       "last_activity                    \n",
       "0              0.886254  0.113746\n",
       "1              0.755874  0.244126"
      ]
     },
     "metadata": {},
     "output_type": "display_data"
    }
   ],
   "source": [
    "# Создаем таблицу сопряженности\n",
    "activity_churn_table = pd.crosstab(data['last_activity'], data['churn'])\n",
    "\n",
    "# Вывод таблицы\n",
    "print(\"Таблица частот last_activity × churn:\")\n",
    "display(activity_churn_table)\n",
    "\n",
    "# Рассчитываем доли ушедших клиентов среди активных и неактивных\n",
    "activity_churn_rates = activity_churn_table.div(activity_churn_table.sum(axis=1), axis=0)\n",
    "print(\"\\nДоли оттока среди активных и неактивных клиентов:\")\n",
    "display(activity_churn_rates)"
   ]
  },
  {
   "cell_type": "markdown",
   "metadata": {},
   "source": [
    "Так как `last_activity` и `churn` - это категориальные переменные, снова используем хи-квадрат тест независимости."
   ]
  },
  {
   "cell_type": "code",
   "execution_count": 36,
   "metadata": {},
   "outputs": [
    {
     "name": "stdout",
     "output_type": "stream",
     "text": [
      "\n",
      "Хи-квадрат статистика: 283.9491\n",
      "P-значение: 0.0000\n",
      "Отвергаем H0: активность влияет на вероятность оттока, активные и неактивные клиенты уходят с разной частотой.\n"
     ]
    }
   ],
   "source": [
    "# Хи-квадрат тест\n",
    "chi2_stat, p_value, dof, expected = chi2_contingency(activity_churn_table)\n",
    "\n",
    "# Вывод результатов\n",
    "print(f\"\\nХи-квадрат статистика: {chi2_stat:.4f}\")\n",
    "print(f\"P-значение: {p_value:.4f}\")\n",
    "\n",
    "# Интерпретация результата\n",
    "alpha = 0.05\n",
    "if p_value < alpha:\n",
    "    print(\"Отвергаем H0: активность влияет на вероятность оттока, активные и неактивные клиенты уходят с разной частотой.\")\n",
    "else:\n",
    "    print(\"Не отвергаем H0: активность не влияет на вероятность оттока, доли ушедших клиентов одинаковы.\")"
   ]
  },
  {
   "cell_type": "markdown",
   "metadata": {},
   "source": [
    "Хи-квадрат тест показал p-value = 0.0000, что значительно меньше уровня значимости α = 0.05. Это означает, что нулевая гипотеза отвергается, и активность значимо влияет на вероятность оттока.\n",
    "\n",
    "Это подтверждает наблюдения из EDA: неактивные клиенты (`last_activity = 0`) чаще уходят, чем активные (`last_activity = 1`). Возможное объяснение - клиенты, которые долгое время не пользовались услугами банка, могут потерять к нему интерес или найти более выгодные альтернативы."
   ]
  },
  {
   "cell_type": "markdown",
   "metadata": {},
   "source": [
    "Статистический анализ подтвердил значимые различия между ушедшими и оставшимися клиентами по нескольким ключевым параметрам:\n",
    "- Доход (`est_salary`) – p-value = 0.0001, отвергаем H0. Средний доход ушедших клиентов значимо отличается от оставшихся, хотя разница незначительна с практической точки зрения.\n",
    "- Количество продуктов (`products`) – p-value = 0.0000, отвергаем H0. У ушедших клиентов значимо больше продуктов, чем у оставшихся. Это подтверждает, что пользователи с 4 и более продуктами чаще уходят.\n",
    "- Количество собственности (`equity`) – p-value = 0.0000, отвергаем H0. У ушедших клиентов значимо больше собственности, что может говорить о меньшей зависимости таких клиентов от банка.\n",
    "- Возраст (`age`) – p-value = 0.0000, отвергаем H0. У ушедших клиентов средний возраст ниже, что подтверждает гипотезу о том, что молодые клиенты менее лояльны.\n",
    "- Пол (`gender`) – p-value = 0.0000, отвергаем H0. Мужчины уходят значимо чаще, чем женщины (23.6% против 12.7%).\n",
    "- Активность (`last_activity`) – p-value = 0.0000, отвергаем H0. Неактивные клиенты уходят значимо чаще, чем активные, что подтверждает гипотезу о том, что низкая вовлеченность повышает вероятность оттока."
   ]
  },
  {
   "cell_type": "markdown",
   "metadata": {},
   "source": [
    "## Промежуточный вывод"
   ]
  },
  {
   "cell_type": "markdown",
   "metadata": {},
   "source": [
    "Промежуточный анализ данных показал, что на отток клиентов значимо влияют несколько ключевых факторов. Клиенты, использующие большее количество продуктов, обладающие высоким уровнем собственности, а также мужчины и клиенты младшего возраста демонстрируют более высокий уровень оттока. Кроме того, неактивные пользователи чаще прекращают сотрудничество с банком, что подтверждает важность вовлеченности клиентов. При этом уровень дохода, несмотря на статистическую значимость различий, не оказывает значимого влияния на вероятность ухода.\n",
    "\n",
    "На основе проведенного анализа для сегментации клиентов будут использоваться следующие признаки: количество продуктов (`products`), количество собственности (`equity`), возраст (`age`), активность (`last_activity`) и пол (`gender`). Эти факторы обеспечат разделение клиентов на группы с разной склонностью к оттоку, что позволит разработать эффективные стратегии удержания."
   ]
  },
  {
   "cell_type": "markdown",
   "metadata": {},
   "source": [
    "## Кластеризация клиентов"
   ]
  },
  {
   "cell_type": "markdown",
   "metadata": {},
   "source": [
    "Прежде чем применять алгоритм кластеризации, выполним:\n",
    "- Отбор признаков - используем только релевантные (`products`, `equity`, `age`, `last_activity`, `is_male`). Остальные признаки либо не показали значимой связи с `churn`, либо их влияние минимально. \n",
    "- Масштабирование данных - так как признаки имеют разные диапазоны значений, применяем MinMaxScaler. В данном случае MinMaxScaler оказался предпочтительнее, так как он сохраняет исходное распределение признаков в фиксированном диапазоне [0,1], что помогает K-Means корректно учитывать относительные различия между клиентами. В отличие от StandardScaler, который стандартизирует данные с учетом среднего и стандартного отклонения, MinMaxScaler не искажает порядок дискретных переменных, таких как `products` и `equity`, что особенно важно при кластеризации."
   ]
  },
  {
   "cell_type": "code",
   "execution_count": 37,
   "metadata": {},
   "outputs": [
    {
     "data": {
      "text/html": [
       "<div>\n",
       "<style scoped>\n",
       "    .dataframe tbody tr th:only-of-type {\n",
       "        vertical-align: middle;\n",
       "    }\n",
       "\n",
       "    .dataframe tbody tr th {\n",
       "        vertical-align: top;\n",
       "    }\n",
       "\n",
       "    .dataframe thead th {\n",
       "        text-align: right;\n",
       "    }\n",
       "</style>\n",
       "<table border=\"1\" class=\"dataframe\">\n",
       "  <thead>\n",
       "    <tr style=\"text-align: right;\">\n",
       "      <th></th>\n",
       "      <th>products</th>\n",
       "      <th>equity</th>\n",
       "      <th>age</th>\n",
       "      <th>last_activity</th>\n",
       "      <th>is_male</th>\n",
       "    </tr>\n",
       "  </thead>\n",
       "  <tbody>\n",
       "    <tr>\n",
       "      <th>0</th>\n",
       "      <td>0.25</td>\n",
       "      <td>0.111111</td>\n",
       "      <td>0.102941</td>\n",
       "      <td>1.0</td>\n",
       "      <td>0.0</td>\n",
       "    </tr>\n",
       "    <tr>\n",
       "      <th>1</th>\n",
       "      <td>0.50</td>\n",
       "      <td>0.555556</td>\n",
       "      <td>0.279412</td>\n",
       "      <td>0.0</td>\n",
       "      <td>0.0</td>\n",
       "    </tr>\n",
       "    <tr>\n",
       "      <th>2</th>\n",
       "      <td>0.00</td>\n",
       "      <td>0.000000</td>\n",
       "      <td>0.176471</td>\n",
       "      <td>1.0</td>\n",
       "      <td>0.0</td>\n",
       "    </tr>\n",
       "    <tr>\n",
       "      <th>3</th>\n",
       "      <td>0.25</td>\n",
       "      <td>0.555556</td>\n",
       "      <td>0.485294</td>\n",
       "      <td>1.0</td>\n",
       "      <td>0.0</td>\n",
       "    </tr>\n",
       "    <tr>\n",
       "      <th>4</th>\n",
       "      <td>0.00</td>\n",
       "      <td>0.555556</td>\n",
       "      <td>0.235294</td>\n",
       "      <td>0.0</td>\n",
       "      <td>1.0</td>\n",
       "    </tr>\n",
       "  </tbody>\n",
       "</table>\n",
       "</div>"
      ],
      "text/plain": [
       "   products    equity       age  last_activity  is_male\n",
       "0      0.25  0.111111  0.102941            1.0      0.0\n",
       "1      0.50  0.555556  0.279412            0.0      0.0\n",
       "2      0.00  0.000000  0.176471            1.0      0.0\n",
       "3      0.25  0.555556  0.485294            1.0      0.0\n",
       "4      0.00  0.555556  0.235294            0.0      1.0"
      ]
     },
     "execution_count": 37,
     "metadata": {},
     "output_type": "execute_result"
    }
   ],
   "source": [
    "# Выбираем признаки для кластеризации\n",
    "features = ['products', 'equity', 'age', 'last_activity', 'is_male']\n",
    "X = data[features].copy()\n",
    "\n",
    "# Масштабирование данных\n",
    "scaler = MinMaxScaler()\n",
    "X_scaled = scaler.fit_transform(X)\n",
    "\n",
    "# Выводим первые строки, чтобы проверить результат\n",
    "X_scaled_df = pd.DataFrame(X_scaled, columns=features)\n",
    "X_scaled_df.head()"
   ]
  },
  {
   "cell_type": "markdown",
   "metadata": {},
   "source": [
    "Используем K-Means с разным числом кластеров и строим график метода локтя, чтобы определить оптимальное число кластеров."
   ]
  },
  {
   "cell_type": "code",
   "execution_count": 38,
   "metadata": {},
   "outputs": [
    {
     "data": {
      "image/png": "[encoded data removed]",
      "text/plain": [
       "<Figure size 576x360 with 1 Axes>"
      ]
     },
     "metadata": {},
     "output_type": "display_data"
    }
   ],
   "source": [
    "# Поиск оптимального числа кластеров методом \"локтя\"\n",
    "inertia = []\n",
    "k_range = range(3, 10)\n",
    "\n",
    "for k in k_range:\n",
    "    kmeans = KMeans(n_clusters=k, random_state=42, n_init=10)\n",
    "    kmeans.fit(X_scaled)\n",
    "    inertia.append(kmeans.inertia_)\n",
    "\n",
    "# Визуализация метода локтя\n",
    "plt.figure(figsize=(8, 5))\n",
    "plt.plot(k_range, inertia, marker='o', linestyle='-')\n",
    "plt.xlabel('Количество кластеров')\n",
    "plt.ylabel('Инерция (сумма квадратов расстояний)')\n",
    "plt.title('Метод локтя для выбора числа кластеров')\n",
    "plt.show()"
   ]
  },
  {
   "cell_type": "markdown",
   "metadata": {},
   "source": [
    "Судя по графику, можем выбрать оптимальное число кластеров - 4. С большим числом кластеров график убывает медленнее, но для более реальной картины возьмем 7 кластеров."
   ]
  },
  {
   "cell_type": "code",
   "execution_count": 39,
   "metadata": {},
   "outputs": [
    {
     "name": "stdout",
     "output_type": "stream",
     "text": [
      "Распределение клиентов по кластерам:\n"
     ]
    },
    {
     "data": {
      "text/plain": [
       "3    2346\n",
       "1    1506\n",
       "5    1381\n",
       "4    1270\n",
       "2    1205\n",
       "0    1149\n",
       "6    1143\n",
       "Name: cluster, dtype: int64"
      ]
     },
     "execution_count": 39,
     "metadata": {},
     "output_type": "execute_result"
    }
   ],
   "source": [
    "# Оптимальное число кластеров\n",
    "optimal_k = 7\n",
    "\n",
    "# Применяем K-Means\n",
    "kmeans = KMeans(n_clusters=optimal_k, random_state=42, n_init=10)\n",
    "data['cluster'] = kmeans.fit_predict(X_scaled)\n",
    "\n",
    "# Вывод распределения клиентов по кластерам\n",
    "print(\"Распределение клиентов по кластерам:\")\n",
    "data['cluster'].value_counts()"
   ]
  },
  {
   "cell_type": "markdown",
   "metadata": {},
   "source": [
    "Оценим качество кластеризации с помощью силуэтного коэффициента."
   ]
  },
  {
   "cell_type": "code",
   "execution_count": 40,
   "metadata": {},
   "outputs": [
    {
     "name": "stdout",
     "output_type": "stream",
     "text": [
      "Средний силуэтный коэффициент: 0.4198\n"
     ]
    }
   ],
   "source": [
    "# Получаем метки кластеров\n",
    "cluster_labels = data['cluster']\n",
    "\n",
    "# Вычисление силуэтного коэффициента\n",
    "silhouette_avg = silhouette_score(X_scaled, cluster_labels)\n",
    "\n",
    "# Вывод результата\n",
    "print(f\"Средний силуэтный коэффициент: {silhouette_avg:.4f}\")"
   ]
  },
  {
   "cell_type": "markdown",
   "metadata": {},
   "source": [
    "- Значение > 0.4 указывает на хорошее качество кластеризации.\n",
    "- Кластеры достаточно разнесены, но есть небольшое наложение границ.\n",
    "- Оптимальное число кластеров (7) в целом адекватно для сегментации."
   ]
  },
  {
   "cell_type": "code",
   "execution_count": 41,
   "metadata": {},
   "outputs": [
    {
     "name": "stdout",
     "output_type": "stream",
     "text": [
      "\n",
      "Средние характеристики по кластерам:\n"
     ]
    },
    {
     "data": {
      "text/html": [
       "<div>\n",
       "<style scoped>\n",
       "    .dataframe tbody tr th:only-of-type {\n",
       "        vertical-align: middle;\n",
       "    }\n",
       "\n",
       "    .dataframe tbody tr th {\n",
       "        vertical-align: top;\n",
       "    }\n",
       "\n",
       "    .dataframe thead th {\n",
       "        text-align: right;\n",
       "    }\n",
       "</style>\n",
       "<table border=\"1\" class=\"dataframe\">\n",
       "  <thead>\n",
       "    <tr style=\"text-align: right;\">\n",
       "      <th></th>\n",
       "      <th>products</th>\n",
       "      <th>equity</th>\n",
       "      <th>age</th>\n",
       "      <th>last_activity</th>\n",
       "      <th>is_male</th>\n",
       "      <th>churn</th>\n",
       "    </tr>\n",
       "    <tr>\n",
       "      <th>cluster</th>\n",
       "      <th></th>\n",
       "      <th></th>\n",
       "      <th></th>\n",
       "      <th></th>\n",
       "      <th></th>\n",
       "      <th></th>\n",
       "    </tr>\n",
       "  </thead>\n",
       "  <tbody>\n",
       "    <tr>\n",
       "      <th>0</th>\n",
       "      <td>1.440383</td>\n",
       "      <td>0.791993</td>\n",
       "      <td>39.919060</td>\n",
       "      <td>0.0</td>\n",
       "      <td>1.0</td>\n",
       "      <td>0.080940</td>\n",
       "    </tr>\n",
       "    <tr>\n",
       "      <th>1</th>\n",
       "      <td>2.260956</td>\n",
       "      <td>4.132802</td>\n",
       "      <td>45.257636</td>\n",
       "      <td>1.0</td>\n",
       "      <td>0.0</td>\n",
       "      <td>0.284861</td>\n",
       "    </tr>\n",
       "    <tr>\n",
       "      <th>2</th>\n",
       "      <td>1.340249</td>\n",
       "      <td>0.679668</td>\n",
       "      <td>39.287137</td>\n",
       "      <td>1.0</td>\n",
       "      <td>1.0</td>\n",
       "      <td>0.099585</td>\n",
       "    </tr>\n",
       "    <tr>\n",
       "      <th>3</th>\n",
       "      <td>1.861893</td>\n",
       "      <td>2.672208</td>\n",
       "      <td>45.279199</td>\n",
       "      <td>0.0</td>\n",
       "      <td>0.0</td>\n",
       "      <td>0.055413</td>\n",
       "    </tr>\n",
       "    <tr>\n",
       "      <th>4</th>\n",
       "      <td>2.159055</td>\n",
       "      <td>4.221260</td>\n",
       "      <td>40.957480</td>\n",
       "      <td>0.0</td>\n",
       "      <td>1.0</td>\n",
       "      <td>0.251181</td>\n",
       "    </tr>\n",
       "    <tr>\n",
       "      <th>5</th>\n",
       "      <td>2.359160</td>\n",
       "      <td>4.233888</td>\n",
       "      <td>40.330920</td>\n",
       "      <td>1.0</td>\n",
       "      <td>1.0</td>\n",
       "      <td>0.471398</td>\n",
       "    </tr>\n",
       "    <tr>\n",
       "      <th>6</th>\n",
       "      <td>1.451444</td>\n",
       "      <td>0.740157</td>\n",
       "      <td>45.467192</td>\n",
       "      <td>1.0</td>\n",
       "      <td>0.0</td>\n",
       "      <td>0.068241</td>\n",
       "    </tr>\n",
       "  </tbody>\n",
       "</table>\n",
       "</div>"
      ],
      "text/plain": [
       "         products    equity        age  last_activity  is_male     churn\n",
       "cluster                                                                 \n",
       "0        1.440383  0.791993  39.919060            0.0      1.0  0.080940\n",
       "1        2.260956  4.132802  45.257636            1.0      0.0  0.284861\n",
       "2        1.340249  0.679668  39.287137            1.0      1.0  0.099585\n",
       "3        1.861893  2.672208  45.279199            0.0      0.0  0.055413\n",
       "4        2.159055  4.221260  40.957480            0.0      1.0  0.251181\n",
       "5        2.359160  4.233888  40.330920            1.0      1.0  0.471398\n",
       "6        1.451444  0.740157  45.467192            1.0      0.0  0.068241"
      ]
     },
     "execution_count": 41,
     "metadata": {},
     "output_type": "execute_result"
    }
   ],
   "source": [
    "# Группируем данные по кластерам и вычисляем средние значения\n",
    "cluster_summary = data.groupby('cluster')[['products', 'equity', 'age', 'last_activity', 'is_male', 'churn']].mean()\n",
    "\n",
    "# Вывод результатов\n",
    "print(\"\\nСредние характеристики по кластерам:\")\n",
    "cluster_summary"
   ]
  },
  {
   "cell_type": "markdown",
   "metadata": {},
   "source": [
    "Кластеры с низким уровнем оттока (наименее рисковые сегменты):\n",
    "1. Кластер 3 (отток 5.5% – самый низкий)\n",
    "    - Возраст: 45 лет.\n",
    "    - Среднее количество продуктов: 1.86 (умеренное).\n",
    "    - Средний уровень собственности: 2.67 (умеренное).\n",
    "    - Активность: полностью неактивные (last_activity = 0).\n",
    "    - Пол: только женщины.\n",
    "    - Вывод: Самая стабильная группа клиентов – несмотря на неактивность, они остаются в банке, возможно, из-за удобства, привычки или долгосрочного сотрудничества.\n",
    "\n",
    "\n",
    "2. Кластер 0 (отток 8.1%)\n",
    "    - Возраст: 39 лет (молодой сегмент).\n",
    "    - Среднее количество продуктов: 1.44 (минимальное).\n",
    "    - Средний уровень собственности: 0.79 (низкий).\n",
    "    - Активность: полностью неактивные (last_activity = 0).\n",
    "    - Пол: только мужчины.\n",
    "    - Вывод: Клиенты, скорее всего, новички с небольшими активами, использующие только базовые услуги. Они стабильны, но их удержание может зависеть от будущего увеличения числа продуктов.\n",
    "    \n",
    "    \n",
    "3. Кластер 6 (отток 6.8%)\n",
    "    - Возраст: 45 лет.\n",
    "    - Среднее количество продуктов: 1.45.\n",
    "    - Средний уровень собственности: 0.74.\n",
    "    - Активность: полностью активные (last_activity = 1).\n",
    "    - Пол: только женщины.\n",
    "    - Вывод: Лояльные клиенты с небольшим числом продуктов, активно пользующиеся банком, но не склонные к оттоку.\n",
    "\n",
    "\n",
    "\n",
    "Кластеры со средним уровнем оттока (умеренный риск):    \n",
    "1. Кластер 2 (отток 9.9%)\n",
    "    - Возраст: 39 лет.\n",
    "    - Среднее количество продуктов: 1.34.\n",
    "    - Средний уровень собственности: 0.68.\n",
    "    - Активность: полностью активные (last_activity = 1).\n",
    "    - Пол: только мужчины.\n",
    "    - Вывод: Молодые клиенты с низким числом продуктов, активно пользующиеся банком, но уровень оттока выше, чем в самом стабильном кластере.\n",
    "    \n",
    "    \n",
    "2. Кластер 1 (отток 28.5%)\n",
    "    - Возраст: 45 лет.\n",
    "    - Среднее количество продуктов: 2.26 (выше среднего).\n",
    "    - Средний уровень собственности: 4.13 (высокий).\n",
    "    - Активность: полностью активные (last_activity = 1).\n",
    "    - Пол: только женщины.\n",
    "    - Вывод: Женщины с большим числом продуктов и активным использованием банка. Уровень оттока выше, возможно, из-за несоответствия ожиданиям или недостаточной персонализации.\n",
    "   \n",
    "   \n",
    "\n",
    "Кластеры с высоким уровнем оттока (наиболее рисковые сегменты):\n",
    "1. Кластер 4 (отток 25.1%)\n",
    "    - Возраст: 41 лет.\n",
    "    - Среднее количество продуктов: 2.16.\n",
    "    - Средний уровень собственности: 4.22 (высокий).\n",
    "    - Активность: полностью активные (last_activity = 1).\n",
    "    - Пол: только мужчины.\n",
    "    - Вывод: Мужчины с высоким количеством продуктов и активным использованием банка, но высокий уровень оттока может указывать на неудовлетворенность сервисом или поиски лучших условий.\n",
    "    \n",
    "    \n",
    "2. Кластер 5 (отток 47.1% – самый высокий)\n",
    "    - Возраст: 40 лет.\n",
    "    - Среднее количество продуктов: 2.36 (максимальное среди всех кластеров).\n",
    "    - Средний уровень собственности: 4.23 (максимальное среди всех кластеров).\n",
    "    - Активность: полностью активные (last_activity = 1).\n",
    "    - Пол: только мужчины.\n",
    "    - Вывод: Самый критичный сегмент – клиенты с максимальным числом продуктов, высокой собственностью и активным использованием услуг. Они составляют основную группу риска, возможно, из-за слишком сложной структуры продуктов или высоких тарифов."
   ]
  },
  {
   "cell_type": "markdown",
   "metadata": {},
   "source": [
    "## Приоритизация сегментов"
   ]
  },
  {
   "cell_type": "markdown",
   "metadata": {},
   "source": [
    "Приоритетность сегментов можно определить по двум ключевым критериям:\n",
    "1. Уровень оттока - чем выше, тем важнее сегмент с точки зрения удержания.\n",
    "2. Размер сегмента - если в сегменте мало клиентов, его влияние на общий отток незначительно."
   ]
  },
  {
   "cell_type": "code",
   "execution_count": 42,
   "metadata": {},
   "outputs": [
    {
     "data": {
      "text/html": [
       "<div>\n",
       "<style scoped>\n",
       "    .dataframe tbody tr th:only-of-type {\n",
       "        vertical-align: middle;\n",
       "    }\n",
       "\n",
       "    .dataframe tbody tr th {\n",
       "        vertical-align: top;\n",
       "    }\n",
       "\n",
       "    .dataframe thead th {\n",
       "        text-align: right;\n",
       "    }\n",
       "</style>\n",
       "<table border=\"1\" class=\"dataframe\">\n",
       "  <thead>\n",
       "    <tr style=\"text-align: right;\">\n",
       "      <th></th>\n",
       "      <th>Кластер</th>\n",
       "      <th>Отток (%)</th>\n",
       "      <th>Количество клиентов</th>\n",
       "      <th>avg_products</th>\n",
       "      <th>avg_equity</th>\n",
       "      <th>avg_age</th>\n",
       "      <th>is_male_mode</th>\n",
       "      <th>last_activity_mode</th>\n",
       "      <th>Приоритет</th>\n",
       "      <th>Основные характеристики</th>\n",
       "    </tr>\n",
       "  </thead>\n",
       "  <tbody>\n",
       "    <tr>\n",
       "      <th>5</th>\n",
       "      <td>5</td>\n",
       "      <td>47.1</td>\n",
       "      <td>1381</td>\n",
       "      <td>2.359160</td>\n",
       "      <td>4.233888</td>\n",
       "      <td>40.330920</td>\n",
       "      <td>1</td>\n",
       "      <td>1</td>\n",
       "      <td>Высокий</td>\n",
       "      <td>Мужчины, активные, 2.4 продуктов, 4.2 собственности</td>\n",
       "    </tr>\n",
       "    <tr>\n",
       "      <th>1</th>\n",
       "      <td>1</td>\n",
       "      <td>28.5</td>\n",
       "      <td>1506</td>\n",
       "      <td>2.260956</td>\n",
       "      <td>4.132802</td>\n",
       "      <td>45.257636</td>\n",
       "      <td>0</td>\n",
       "      <td>1</td>\n",
       "      <td>Высокий</td>\n",
       "      <td>Женщины, активные, 2.3 продуктов, 4.1 собственности</td>\n",
       "    </tr>\n",
       "    <tr>\n",
       "      <th>4</th>\n",
       "      <td>4</td>\n",
       "      <td>25.1</td>\n",
       "      <td>1270</td>\n",
       "      <td>2.159055</td>\n",
       "      <td>4.221260</td>\n",
       "      <td>40.957480</td>\n",
       "      <td>1</td>\n",
       "      <td>0</td>\n",
       "      <td>Средний</td>\n",
       "      <td>Мужчины, неактивные, 2.2 продуктов, 4.2 собственности</td>\n",
       "    </tr>\n",
       "    <tr>\n",
       "      <th>2</th>\n",
       "      <td>2</td>\n",
       "      <td>10.0</td>\n",
       "      <td>1205</td>\n",
       "      <td>1.340249</td>\n",
       "      <td>0.679668</td>\n",
       "      <td>39.287137</td>\n",
       "      <td>1</td>\n",
       "      <td>1</td>\n",
       "      <td>Низкий</td>\n",
       "      <td>Мужчины, активные, 1.3 продуктов, 0.7 собственности</td>\n",
       "    </tr>\n",
       "    <tr>\n",
       "      <th>0</th>\n",
       "      <td>0</td>\n",
       "      <td>8.1</td>\n",
       "      <td>1149</td>\n",
       "      <td>1.440383</td>\n",
       "      <td>0.791993</td>\n",
       "      <td>39.919060</td>\n",
       "      <td>1</td>\n",
       "      <td>0</td>\n",
       "      <td>Низкий</td>\n",
       "      <td>Мужчины, неактивные, 1.4 продуктов, 0.8 собственности</td>\n",
       "    </tr>\n",
       "    <tr>\n",
       "      <th>6</th>\n",
       "      <td>6</td>\n",
       "      <td>6.8</td>\n",
       "      <td>1143</td>\n",
       "      <td>1.451444</td>\n",
       "      <td>0.740157</td>\n",
       "      <td>45.467192</td>\n",
       "      <td>0</td>\n",
       "      <td>1</td>\n",
       "      <td>Низкий</td>\n",
       "      <td>Женщины, активные, 1.5 продуктов, 0.7 собственности</td>\n",
       "    </tr>\n",
       "    <tr>\n",
       "      <th>3</th>\n",
       "      <td>3</td>\n",
       "      <td>5.5</td>\n",
       "      <td>2346</td>\n",
       "      <td>1.861893</td>\n",
       "      <td>2.672208</td>\n",
       "      <td>45.279199</td>\n",
       "      <td>0</td>\n",
       "      <td>0</td>\n",
       "      <td>Низкий</td>\n",
       "      <td>Женщины, неактивные, 1.9 продуктов, 2.7 собственности</td>\n",
       "    </tr>\n",
       "  </tbody>\n",
       "</table>\n",
       "</div>"
      ],
      "text/plain": [
       "   Кластер  Отток (%)  Количество клиентов  avg_products  avg_equity  \\\n",
       "5        5       47.1                 1381      2.359160    4.233888   \n",
       "1        1       28.5                 1506      2.260956    4.132802   \n",
       "4        4       25.1                 1270      2.159055    4.221260   \n",
       "2        2       10.0                 1205      1.340249    0.679668   \n",
       "0        0        8.1                 1149      1.440383    0.791993   \n",
       "6        6        6.8                 1143      1.451444    0.740157   \n",
       "3        3        5.5                 2346      1.861893    2.672208   \n",
       "\n",
       "     avg_age  is_male_mode  last_activity_mode Приоритет  \\\n",
       "5  40.330920             1                   1   Высокий   \n",
       "1  45.257636             0                   1   Высокий   \n",
       "4  40.957480             1                   0   Средний   \n",
       "2  39.287137             1                   1    Низкий   \n",
       "0  39.919060             1                   0    Низкий   \n",
       "6  45.467192             0                   1    Низкий   \n",
       "3  45.279199             0                   0    Низкий   \n",
       "\n",
       "                                 Основные характеристики  \n",
       "5    Мужчины, активные, 2.4 продуктов, 4.2 собственности  \n",
       "1    Женщины, активные, 2.3 продуктов, 4.1 собственности  \n",
       "4  Мужчины, неактивные, 2.2 продуктов, 4.2 собственности  \n",
       "2    Мужчины, активные, 1.3 продуктов, 0.7 собственности  \n",
       "0  Мужчины, неактивные, 1.4 продуктов, 0.8 собственности  \n",
       "6    Женщины, активные, 1.5 продуктов, 0.7 собственности  \n",
       "3  Женщины, неактивные, 1.9 продуктов, 2.7 собственности  "
      ]
     },
     "execution_count": 42,
     "metadata": {},
     "output_type": "execute_result"
    }
   ],
   "source": [
    "# Определяем средний уровень оттока по банку\n",
    "avg_churn_rate = data[\"churn\"].mean() * 100\n",
    "high_risk_threshold = avg_churn_rate * 1.5  # Критический уровень оттока\n",
    "medium_risk_threshold = avg_churn_rate * 1.1  # Умеренно высокий уровень оттока\n",
    "\n",
    "# Группируем данные по кластерам\n",
    "cluster_summary = data.groupby(\"cluster\").agg(\n",
    "    churn_rate=(\"churn\", \"mean\"),  # Средний уровень оттока в кластере\n",
    "    num_clients=(\"churn\", \"count\"),  # Количество клиентов в кластере\n",
    "    avg_products=(\"products\", \"mean\"),\n",
    "    avg_equity=(\"equity\", \"mean\"),\n",
    "    avg_age=(\"age\", \"mean\"),\n",
    "    is_male_mode=(\"is_male\", lambda x: x.mode()[0]),  # Мода по полу\n",
    "    last_activity_mode=(\"last_activity\", lambda x: x.mode()[0])  # Мода по активности\n",
    ").reset_index()\n",
    "\n",
    "# Преобразуем отток в проценты\n",
    "cluster_summary[\"churn_rate\"] = (cluster_summary[\"churn_rate\"] * 100).round(1)\n",
    "\n",
    "# Определяем приоритет кластера\n",
    "def assign_priority(churn_rate):\n",
    "    if churn_rate > high_risk_threshold:\n",
    "        return \"Высокий\"\n",
    "    elif churn_rate > medium_risk_threshold:\n",
    "        return \"Средний\"\n",
    "    else:\n",
    "        return \"Низкий\"\n",
    "\n",
    "cluster_summary[\"priority\"] = cluster_summary[\"churn_rate\"].apply(assign_priority)\n",
    "\n",
    "# Добавляем описание кластеров\n",
    "def describe_cluster(row):\n",
    "    gender = \"Мужчины\" if row[\"is_male_mode\"] == 1 else \"Женщины\"\n",
    "    activity = \"активные\" if row[\"last_activity_mode\"] == 1 else \"неактивные\"\n",
    "    return f\"{gender}, {activity}, {row['avg_products']:.1f} продуктов, {row['avg_equity']:.1f} собственности\"\n",
    "\n",
    "cluster_summary[\"description\"] = cluster_summary.apply(describe_cluster, axis=1)\n",
    "\n",
    "# Переименовываем столбцы\n",
    "cluster_summary.rename(columns={\n",
    "    \"cluster\": \"Кластер\",\n",
    "    \"churn_rate\": \"Отток (%)\",\n",
    "    \"num_clients\": \"Количество клиентов\",\n",
    "    \"priority\": \"Приоритет\",\n",
    "    \"description\": \"Основные характеристики\"\n",
    "}, inplace=True)\n",
    "\n",
    "# Сортируем по уровню оттока (по убыванию)\n",
    "cluster_summary = cluster_summary.sort_values(by=\"Отток (%)\", ascending=False)\n",
    "\n",
    "cluster_summary"
   ]
  },
  {
   "cell_type": "markdown",
   "metadata": {},
   "source": [
    "1. Кластер 5 - Приоритет №1\n",
    "    - Самый высокий отток (47.1%) – почти половина клиентов уходит.\n",
    "    - Мужчины, активные пользователи, в среднем 2.4 продукта и 4.2 собственности.\n",
    "    - Причина риска: Клиенты активно пользуются услугами, но уходят, возможно, из-за неудовлетворенности сервисом, поиска лучших условий или неудобных тарифов.\n",
    "    - Стратегия: Важно удержать этот сегмент, предложив персонализированные скидки, бонусы, улучшенные тарифы и вовлечение в программы лояльности.\n",
    "\n",
    "\n",
    "2. Кластер 1 - Приоритет №2\n",
    "    - Отток 28.5% – выше среднего, но ниже, чем в кластере 5.\n",
    "    - Женщины, активные пользователи, в среднем 2.3 продукта и 4.1 собственности.\n",
    "    - Причина риска: Возможно, клиенты не получают персонализированных предложений, не видят ценности в обслуживании или находят более привлекательные альтернативы.\n",
    "    - Стратегия: Развитие персонализированных предложений, акцент на удобство обслуживания, эксклюзивные условия для женщин.\n",
    "\n",
    "\n",
    "3. Кластер 4 - Приоритет №3\n",
    "    - Отток 25.1% – ниже, чем в кластерах 5 и 1, но все же высокий.\n",
    "    - Мужчины, неактивные пользователи, в среднем 2.2 продукта и 4.2 собственности.\n",
    "    - Причина риска: Клиенты обладают значительными активами, но не проявляют активности. Возможно, их не вовлекают в использование новых услуг или у них нет мотивации оставаться в банке.\n",
    "    - Стратегия: Программа повторного вовлечения, специальные акции и индивидуальные предложения для стимуляции активности."
   ]
  },
  {
   "cell_type": "markdown",
   "metadata": {},
   "source": [
    "## Формирование рекомендаций"
   ]
  },
  {
   "cell_type": "markdown",
   "metadata": {},
   "source": [
    "Для сегментов с высоким риском оттока:\n",
    "\n",
    "Кластер 5 (Мужчины, активные, 2.4 продукта, 4.2 собственности, отток 47.1%):\n",
    "- Основные характеристики: Это активные пользователи с максимальным числом продуктов и высоким уровнем собственности. Клиенты вовлечены в банковские сервисы, но ищут лучшие условия.\n",
    "- Рекомендации:\n",
    "    - Программы премиального обслуживания: предложения с индивидуальными условиями, приоритетное обслуживание, персональные менеджеры.\n",
    "    - Оптимизация тарифов: анализ конкурентов, снижение скрытых комиссий, улучшение условий на инвестиционные продукты.\n",
    "    - Программа лояльности: начисление бонусов за активное использование услуг, скидки при длительном сотрудничестве.\n",
    "    - Выявление причин оттока: анкетирование клиентов, анализ жалоб и отзывов, устранение ключевых проблем."
   ]
  },
  {
   "cell_type": "markdown",
   "metadata": {},
   "source": [
    "Кластер 1 (Женщины, активные, 2.3 продукта, 4.1 собственности, отток 28.5%)\n",
    "- Основные характеристики: Женщины активно пользуются банковскими услугами, но могут не находить предложений, соответствующих их потребностям.\n",
    "- Рекомендации:\n",
    "    - Персонализированные предложения: разработка финансовых продуктов для семей, инвестиционные инструменты, адаптированные под потребности женщин.\n",
    "    - Программы рекомендаций: бонусы за приглашение новых клиентов, совместные акции с партнерскими компаниями.\n",
    "    - Улучшение клиентского сервиса: акцент на гибкость и удобство взаимодействия с банком, расширение онлайн-услуг.\n",
    "    - Анализ конкурентов: выявление преимуществ других банков, внедрение востребованных решений."
   ]
  },
  {
   "cell_type": "markdown",
   "metadata": {},
   "source": [
    "Кластер 4 (Мужчины, неактивные, 2.2 продукта, 4.2 собственности, отток 25.1%)\n",
    "- Основные характеристики: Мужчины с высокой собственностью и умеренным числом продуктов, но низкой активностью. Клиенты с потенциально большим капиталом, но не вовлечены в использование банковских услуг.\n",
    "- Рекомендации:\n",
    "    - Возвращение клиентов к активности: бонусы за использование сервисов, специальные акции для \"спящих\" клиентов.\n",
    "    - Индивидуальные инвестиционные предложения: консультации по управлению капиталом, премиальные депозиты.\n",
    "    - Оповещения о выгодных возможностях: email-рассылки, push-уведомления с персонализированными предложениями.\n",
    "    - Программы лояльности: поощрение за продолжительное сотрудничество с банком."
   ]
  },
  {
   "cell_type": "markdown",
   "metadata": {},
   "source": [
    "Для стабильных сегментов:\n",
    "\n",
    "Кластер 2 (Мужчины, активные, 1.3 продукта, 0.7 собственности, отток 10.0%)\n",
    "- Основные характеристики: Активные пользователи с низким числом продуктов и минимальной собственностью. Потенциальные клиенты для расширения спектра используемых услуг.\n",
    "- Рекомендации:\n",
    "    - Мотивация к использованию дополнительных услуг: информирование о доступных продуктах, кэшбэк-программы.\n",
    "    - Анализ потребностей клиентов: сбор обратной связи, персонализированные предложения.\n",
    "    - Программы повышения вовлеченности: геймификация, бонусы за регистрацию в новых сервисах."
   ]
  },
  {
   "cell_type": "markdown",
   "metadata": {},
   "source": [
    "Кластер 0 (Мужчины, неактивные, 1.4 продукта, 0.8 собственности, отток 8.1%)\n",
    "- Основные характеристики: Минимальное число продуктов, невысокая активность, но низкий уровень оттока. Клиенты, которые не уходят, но и не проявляют интереса к дополнительным услугам.\n",
    "- Рекомендации:\n",
    "    - Стимулирование активности: специальные акции, персонализированные предложения.\n",
    "    - Развитие удобных сервисов: улучшение мобильного приложения, расширение онлайн-банкинга.\n",
    "    - Ненавязчивая коммуникация: напоминания о возможностях банка, бонусные программы."
   ]
  },
  {
   "cell_type": "markdown",
   "metadata": {},
   "source": [
    "Кластер 6 (Женщины, активные, 1.5 продукта, 0.7 собственности, отток 6.8%)\n",
    "- Основные характеристики: Женщины с небольшим числом продуктов, активные пользователи, минимальный отток.\n",
    "- Рекомендации:\n",
    "    - Поддержка высокого уровня удовлетворенности: гибкость условий, оперативное обслуживание.\n",
    "    - Расширение программ лояльности: дополнительные привилегии за длительное сотрудничество.\n",
    "    - Создание предложений под сегмент: финансовые программы, ориентированные на женщин."
   ]
  },
  {
   "cell_type": "markdown",
   "metadata": {},
   "source": [
    "Кластер 3 (Женщины, неактивные, 1.9 продукта, 2.7 собственности, отток 5.5%)\n",
    "- Основные характеристики: Женщины с умеренным числом продуктов, но неактивные пользователи. Самый стабильный кластер.\n",
    "- Рекомендации:\n",
    "    - Поддержание текущего уровня сервиса: мониторинг удовлетворенности, работа с обратной связью.\n",
    "    - Дополнительная мотивация к активности: ненавязчивые предложения, информирование о новых продуктах."
   ]
  },
  {
   "cell_type": "markdown",
   "metadata": {},
   "source": [
    "Основные усилия должны быть сосредоточены на кластерах 5, 1 и 4, так как в них наблюдается высокий уровень оттока. Для них требуются персонализированные предложения, программы лояльности и оптимизация тарифов. Остальные сегменты также важно поддерживать, но их риски ниже, и рекомендации сосредоточены на повышении вовлеченности и удовлетворенности клиентов."
   ]
  }
 ],
 "metadata": {
  "ExecuteTimeLog": [
   {
    "duration": 1393,
    "start_time": "2025-02-24T06:09:48.467Z"
   },
   {
    "duration": 313,
    "start_time": "2025-02-24T06:48:32.981Z"
   },
   {
    "duration": 158,
    "start_time": "2025-02-24T06:51:10.683Z"
   },
   {
    "duration": 15,
    "start_time": "2025-02-24T06:51:14.627Z"
   },
   {
    "duration": 13,
    "start_time": "2025-02-24T06:53:59.789Z"
   },
   {
    "duration": 1519,
    "start_time": "2025-02-24T07:08:49.201Z"
   },
   {
    "duration": 98,
    "start_time": "2025-02-24T07:08:50.722Z"
   },
   {
    "duration": 13,
    "start_time": "2025-02-24T07:08:50.822Z"
   },
   {
    "duration": 90,
    "start_time": "2025-02-24T07:08:50.837Z"
   },
   {
    "duration": 145,
    "start_time": "2025-02-24T07:08:50.929Z"
   },
   {
    "duration": 31,
    "start_time": "2025-02-24T07:22:22.403Z"
   },
   {
    "duration": 15,
    "start_time": "2025-02-24T07:29:00.096Z"
   },
   {
    "duration": 4,
    "start_time": "2025-02-24T07:32:57.372Z"
   },
   {
    "duration": 10,
    "start_time": "2025-02-24T07:33:05.093Z"
   },
   {
    "duration": 1523,
    "start_time": "2025-02-24T07:33:49.187Z"
   },
   {
    "duration": 99,
    "start_time": "2025-02-24T07:33:50.712Z"
   },
   {
    "duration": 12,
    "start_time": "2025-02-24T07:33:50.813Z"
   },
   {
    "duration": 11,
    "start_time": "2025-02-24T07:33:50.826Z"
   },
   {
    "duration": 29,
    "start_time": "2025-02-24T07:33:50.838Z"
   },
   {
    "duration": 14,
    "start_time": "2025-02-24T07:33:50.868Z"
   },
   {
    "duration": 19,
    "start_time": "2025-02-24T07:33:50.883Z"
   },
   {
    "duration": 111,
    "start_time": "2025-02-24T07:33:50.904Z"
   },
   {
    "duration": 137,
    "start_time": "2025-02-24T07:37:27.076Z"
   },
   {
    "duration": 12,
    "start_time": "2025-02-24T07:37:55.614Z"
   },
   {
    "duration": 238,
    "start_time": "2025-02-24T07:43:52.664Z"
   },
   {
    "duration": 242,
    "start_time": "2025-02-24T07:45:01.729Z"
   },
   {
    "duration": 301,
    "start_time": "2025-02-24T07:45:07.744Z"
   },
   {
    "duration": 1734,
    "start_time": "2025-02-24T14:21:32.866Z"
   },
   {
    "duration": 104,
    "start_time": "2025-02-24T14:21:34.602Z"
   },
   {
    "duration": 14,
    "start_time": "2025-02-24T14:21:34.707Z"
   },
   {
    "duration": 16,
    "start_time": "2025-02-24T14:21:34.723Z"
   },
   {
    "duration": 35,
    "start_time": "2025-02-24T14:21:34.740Z"
   },
   {
    "duration": 12,
    "start_time": "2025-02-24T14:21:34.777Z"
   },
   {
    "duration": 16,
    "start_time": "2025-02-24T14:21:34.791Z"
   },
   {
    "duration": 43,
    "start_time": "2025-02-24T14:21:34.808Z"
   },
   {
    "duration": 10,
    "start_time": "2025-02-24T14:21:34.853Z"
   },
   {
    "duration": 240,
    "start_time": "2025-02-24T14:21:34.876Z"
   },
   {
    "duration": 215,
    "start_time": "2025-02-24T14:27:40.188Z"
   },
   {
    "duration": 20,
    "start_time": "2025-02-24T14:30:03.490Z"
   },
   {
    "duration": 22,
    "start_time": "2025-02-24T14:30:07.896Z"
   },
   {
    "duration": 15,
    "start_time": "2025-02-24T14:30:12.704Z"
   },
   {
    "duration": 1435,
    "start_time": "2025-02-24T14:30:58.160Z"
   },
   {
    "duration": 92,
    "start_time": "2025-02-24T14:30:59.597Z"
   },
   {
    "duration": 13,
    "start_time": "2025-02-24T14:30:59.690Z"
   },
   {
    "duration": 13,
    "start_time": "2025-02-24T14:30:59.705Z"
   },
   {
    "duration": 14,
    "start_time": "2025-02-24T14:30:59.721Z"
   },
   {
    "duration": 41,
    "start_time": "2025-02-24T14:30:59.736Z"
   },
   {
    "duration": 13,
    "start_time": "2025-02-24T14:30:59.779Z"
   },
   {
    "duration": 34,
    "start_time": "2025-02-24T14:30:59.794Z"
   },
   {
    "duration": 11,
    "start_time": "2025-02-24T14:30:59.830Z"
   },
   {
    "duration": 262,
    "start_time": "2025-02-24T14:30:59.843Z"
   },
   {
    "duration": 9,
    "start_time": "2025-02-24T14:37:44.336Z"
   },
   {
    "duration": 6,
    "start_time": "2025-02-24T14:40:12.142Z"
   },
   {
    "duration": 10,
    "start_time": "2025-02-24T15:19:11.585Z"
   },
   {
    "duration": 1515,
    "start_time": "2025-02-24T15:23:25.986Z"
   },
   {
    "duration": 108,
    "start_time": "2025-02-24T15:23:27.502Z"
   },
   {
    "duration": 13,
    "start_time": "2025-02-24T15:23:27.611Z"
   },
   {
    "duration": 17,
    "start_time": "2025-02-24T15:23:27.626Z"
   },
   {
    "duration": 33,
    "start_time": "2025-02-24T15:23:27.644Z"
   },
   {
    "duration": 12,
    "start_time": "2025-02-24T15:23:27.678Z"
   },
   {
    "duration": 13,
    "start_time": "2025-02-24T15:23:27.691Z"
   },
   {
    "duration": 33,
    "start_time": "2025-02-24T15:23:27.706Z"
   },
   {
    "duration": 43,
    "start_time": "2025-02-24T15:23:27.741Z"
   },
   {
    "duration": 278,
    "start_time": "2025-02-24T15:23:27.787Z"
   },
   {
    "duration": 16,
    "start_time": "2025-02-24T15:23:28.067Z"
   },
   {
    "duration": 25,
    "start_time": "2025-02-24T15:23:28.084Z"
   },
   {
    "duration": 18,
    "start_time": "2025-02-24T15:23:28.110Z"
   },
   {
    "duration": 18,
    "start_time": "2025-02-24T15:24:34.432Z"
   },
   {
    "duration": 234,
    "start_time": "2025-02-24T15:24:46.837Z"
   },
   {
    "duration": 1527,
    "start_time": "2025-02-24T15:25:17.193Z"
   },
   {
    "duration": 81,
    "start_time": "2025-02-24T15:25:18.722Z"
   },
   {
    "duration": 13,
    "start_time": "2025-02-24T15:25:18.805Z"
   },
   {
    "duration": 16,
    "start_time": "2025-02-24T15:25:18.820Z"
   },
   {
    "duration": 15,
    "start_time": "2025-02-24T15:25:18.838Z"
   },
   {
    "duration": 29,
    "start_time": "2025-02-24T15:25:18.855Z"
   },
   {
    "duration": 13,
    "start_time": "2025-02-24T15:25:18.886Z"
   },
   {
    "duration": 42,
    "start_time": "2025-02-24T15:25:18.901Z"
   },
   {
    "duration": 11,
    "start_time": "2025-02-24T15:25:18.944Z"
   },
   {
    "duration": 252,
    "start_time": "2025-02-24T15:25:18.975Z"
   },
   {
    "duration": 9,
    "start_time": "2025-02-24T15:25:19.229Z"
   },
   {
    "duration": 5,
    "start_time": "2025-02-24T15:25:19.240Z"
   },
   {
    "duration": 43,
    "start_time": "2025-02-24T15:25:19.246Z"
   },
   {
    "duration": 1554,
    "start_time": "2025-02-24T15:26:46.477Z"
   },
   {
    "duration": 94,
    "start_time": "2025-02-24T15:26:48.033Z"
   },
   {
    "duration": 14,
    "start_time": "2025-02-24T15:26:48.130Z"
   },
   {
    "duration": 13,
    "start_time": "2025-02-24T15:26:48.147Z"
   },
   {
    "duration": 25,
    "start_time": "2025-02-24T15:26:48.162Z"
   },
   {
    "duration": 46,
    "start_time": "2025-02-24T15:26:48.188Z"
   },
   {
    "duration": 24,
    "start_time": "2025-02-24T15:26:48.236Z"
   },
   {
    "duration": 33,
    "start_time": "2025-02-24T15:26:48.262Z"
   },
   {
    "duration": 12,
    "start_time": "2025-02-24T15:26:48.297Z"
   },
   {
    "duration": 263,
    "start_time": "2025-02-24T15:26:48.311Z"
   },
   {
    "duration": 9,
    "start_time": "2025-02-24T15:26:48.577Z"
   },
   {
    "duration": 5,
    "start_time": "2025-02-24T15:26:48.587Z"
   },
   {
    "duration": 28,
    "start_time": "2025-02-24T15:26:48.594Z"
   },
   {
    "duration": 1490,
    "start_time": "2025-02-24T15:31:37.595Z"
   },
   {
    "duration": 84,
    "start_time": "2025-02-24T15:31:39.086Z"
   },
   {
    "duration": 13,
    "start_time": "2025-02-24T15:31:39.172Z"
   },
   {
    "duration": 16,
    "start_time": "2025-02-24T15:31:39.187Z"
   },
   {
    "duration": 15,
    "start_time": "2025-02-24T15:31:39.205Z"
   },
   {
    "duration": 12,
    "start_time": "2025-02-24T15:31:39.221Z"
   },
   {
    "duration": 17,
    "start_time": "2025-02-24T15:31:39.234Z"
   },
   {
    "duration": 49,
    "start_time": "2025-02-24T15:31:39.253Z"
   },
   {
    "duration": 11,
    "start_time": "2025-02-24T15:31:39.304Z"
   },
   {
    "duration": 286,
    "start_time": "2025-02-24T15:31:39.316Z"
   },
   {
    "duration": 10,
    "start_time": "2025-02-24T15:31:39.603Z"
   },
   {
    "duration": 5,
    "start_time": "2025-02-24T15:31:39.614Z"
   },
   {
    "duration": 18,
    "start_time": "2025-02-24T15:31:39.621Z"
   },
   {
    "duration": 897,
    "start_time": "2025-02-24T15:31:39.641Z"
   },
   {
    "duration": 1001,
    "start_time": "2025-02-24T15:32:01.122Z"
   },
   {
    "duration": 906,
    "start_time": "2025-02-24T15:32:11.744Z"
   },
   {
    "duration": 1120,
    "start_time": "2025-02-24T15:39:17.410Z"
   },
   {
    "duration": 21,
    "start_time": "2025-02-24T15:39:37.810Z"
   },
   {
    "duration": 17,
    "start_time": "2025-02-24T15:41:05.334Z"
   },
   {
    "duration": 18,
    "start_time": "2025-02-24T15:41:20.277Z"
   },
   {
    "duration": 10,
    "start_time": "2025-02-24T15:41:32.643Z"
   },
   {
    "duration": 1578,
    "start_time": "2025-02-24T15:49:31.680Z"
   },
   {
    "duration": 23,
    "start_time": "2025-02-24T16:02:29.095Z"
   },
   {
    "duration": 453,
    "start_time": "2025-02-24T16:22:57.096Z"
   },
   {
    "duration": 6,
    "start_time": "2025-02-24T16:29:44.594Z"
   },
   {
    "duration": 15,
    "start_time": "2025-02-24T16:29:57.521Z"
   },
   {
    "duration": 12,
    "start_time": "2025-02-24T16:30:48.332Z"
   },
   {
    "duration": 13,
    "start_time": "2025-02-24T16:30:54.136Z"
   },
   {
    "duration": 259,
    "start_time": "2025-02-24T16:33:24.396Z"
   },
   {
    "duration": 374,
    "start_time": "2025-02-24T16:34:28.461Z"
   },
   {
    "duration": 380,
    "start_time": "2025-02-24T16:34:46.635Z"
   },
   {
    "duration": 6,
    "start_time": "2025-02-24T16:37:20.888Z"
   },
   {
    "duration": 17,
    "start_time": "2025-02-24T16:37:26.521Z"
   },
   {
    "duration": 16,
    "start_time": "2025-02-24T16:37:39.174Z"
   },
   {
    "duration": 14,
    "start_time": "2025-02-24T16:37:49.647Z"
   },
   {
    "duration": 399,
    "start_time": "2025-02-24T16:40:08.104Z"
   },
   {
    "duration": 14,
    "start_time": "2025-02-24T16:41:40.702Z"
   },
   {
    "duration": 469,
    "start_time": "2025-02-24T16:43:18.018Z"
   },
   {
    "duration": 11,
    "start_time": "2025-02-24T16:46:34.074Z"
   },
   {
    "duration": 8,
    "start_time": "2025-02-24T16:46:57.608Z"
   },
   {
    "duration": 31,
    "start_time": "2025-02-24T16:49:16.267Z"
   },
   {
    "duration": 6,
    "start_time": "2025-02-24T16:51:21.267Z"
   },
   {
    "duration": 5,
    "start_time": "2025-02-24T16:51:38.928Z"
   },
   {
    "duration": 7,
    "start_time": "2025-02-24T16:51:51.290Z"
   },
   {
    "duration": 6,
    "start_time": "2025-02-24T16:52:31.962Z"
   },
   {
    "duration": 24,
    "start_time": "2025-02-24T16:54:43.675Z"
   },
   {
    "duration": 5,
    "start_time": "2025-02-24T16:55:36.599Z"
   },
   {
    "duration": 1594,
    "start_time": "2025-02-24T17:06:52.852Z"
   },
   {
    "duration": 120,
    "start_time": "2025-02-24T17:06:54.448Z"
   },
   {
    "duration": 28,
    "start_time": "2025-02-24T17:06:54.570Z"
   },
   {
    "duration": 17,
    "start_time": "2025-02-24T17:06:54.600Z"
   },
   {
    "duration": 16,
    "start_time": "2025-02-24T17:06:54.619Z"
   },
   {
    "duration": 10,
    "start_time": "2025-02-24T17:06:54.636Z"
   },
   {
    "duration": 50,
    "start_time": "2025-02-24T17:06:54.648Z"
   },
   {
    "duration": 32,
    "start_time": "2025-02-24T17:06:54.700Z"
   },
   {
    "duration": 12,
    "start_time": "2025-02-24T17:06:54.734Z"
   },
   {
    "duration": 299,
    "start_time": "2025-02-24T17:06:54.747Z"
   },
   {
    "duration": 10,
    "start_time": "2025-02-24T17:06:55.048Z"
   },
   {
    "duration": 32,
    "start_time": "2025-02-24T17:06:55.059Z"
   },
   {
    "duration": 20,
    "start_time": "2025-02-24T17:06:55.093Z"
   },
   {
    "duration": 1102,
    "start_time": "2025-02-24T17:06:55.117Z"
   },
   {
    "duration": 1178,
    "start_time": "2025-02-24T17:06:56.221Z"
   },
   {
    "duration": 18,
    "start_time": "2025-02-24T17:06:57.401Z"
   },
   {
    "duration": 10,
    "start_time": "2025-02-24T17:06:57.421Z"
   },
   {
    "duration": 1615,
    "start_time": "2025-02-24T17:06:57.433Z"
   },
   {
    "duration": 40,
    "start_time": "2025-02-24T17:06:59.050Z"
   },
   {
    "duration": 463,
    "start_time": "2025-02-24T17:06:59.092Z"
   },
   {
    "duration": 24,
    "start_time": "2025-02-24T17:06:59.557Z"
   },
   {
    "duration": 416,
    "start_time": "2025-02-24T17:06:59.589Z"
   },
   {
    "duration": 13,
    "start_time": "2025-02-24T17:07:00.007Z"
   },
   {
    "duration": 580,
    "start_time": "2025-02-24T17:07:00.022Z"
   },
   {
    "duration": 16,
    "start_time": "2025-02-24T17:07:00.604Z"
   },
   {
    "duration": 431,
    "start_time": "2025-02-24T17:07:00.621Z"
   },
   {
    "duration": 9,
    "start_time": "2025-02-24T17:07:01.055Z"
   },
   {
    "duration": 32,
    "start_time": "2025-02-24T17:07:01.076Z"
   },
   {
    "duration": 6,
    "start_time": "2025-02-24T17:07:01.110Z"
   },
   {
    "duration": 80,
    "start_time": "2025-02-24T17:07:01.117Z"
   },
   {
    "duration": 5,
    "start_time": "2025-02-24T17:07:01.200Z"
   },
   {
    "duration": 1494,
    "start_time": "2025-02-24T17:11:31.416Z"
   },
   {
    "duration": 133,
    "start_time": "2025-02-24T17:11:32.912Z"
   },
   {
    "duration": 14,
    "start_time": "2025-02-24T17:11:33.049Z"
   },
   {
    "duration": 26,
    "start_time": "2025-02-24T17:11:33.064Z"
   },
   {
    "duration": 20,
    "start_time": "2025-02-24T17:11:33.094Z"
   },
   {
    "duration": 12,
    "start_time": "2025-02-24T17:11:33.116Z"
   },
   {
    "duration": 13,
    "start_time": "2025-02-24T17:11:33.130Z"
   },
   {
    "duration": 69,
    "start_time": "2025-02-24T17:11:33.144Z"
   },
   {
    "duration": 19,
    "start_time": "2025-02-24T17:11:33.215Z"
   },
   {
    "duration": 308,
    "start_time": "2025-02-24T17:11:33.236Z"
   },
   {
    "duration": 9,
    "start_time": "2025-02-24T17:11:33.546Z"
   },
   {
    "duration": 23,
    "start_time": "2025-02-24T17:11:33.557Z"
   },
   {
    "duration": 28,
    "start_time": "2025-02-24T17:11:33.582Z"
   },
   {
    "duration": 1053,
    "start_time": "2025-02-24T17:11:33.614Z"
   },
   {
    "duration": 1149,
    "start_time": "2025-02-24T17:11:34.669Z"
   },
   {
    "duration": 27,
    "start_time": "2025-02-24T17:11:35.820Z"
   },
   {
    "duration": 30,
    "start_time": "2025-02-24T17:11:35.848Z"
   },
   {
    "duration": 1503,
    "start_time": "2025-02-24T17:11:35.880Z"
   },
   {
    "duration": 24,
    "start_time": "2025-02-24T17:11:37.384Z"
   },
   {
    "duration": 468,
    "start_time": "2025-02-24T17:11:37.410Z"
   },
   {
    "duration": 14,
    "start_time": "2025-02-24T17:11:37.880Z"
   },
   {
    "duration": 433,
    "start_time": "2025-02-24T17:11:37.896Z"
   },
   {
    "duration": 13,
    "start_time": "2025-02-24T17:11:38.331Z"
   },
   {
    "duration": 525,
    "start_time": "2025-02-24T17:11:38.346Z"
   },
   {
    "duration": 15,
    "start_time": "2025-02-24T17:11:38.874Z"
   },
   {
    "duration": 401,
    "start_time": "2025-02-24T17:11:38.890Z"
   },
   {
    "duration": 8,
    "start_time": "2025-02-24T17:11:39.293Z"
   },
   {
    "duration": 28,
    "start_time": "2025-02-24T17:11:39.302Z"
   },
   {
    "duration": 5,
    "start_time": "2025-02-24T17:11:39.332Z"
   },
   {
    "duration": 58,
    "start_time": "2025-02-24T17:11:39.339Z"
   },
   {
    "duration": 6,
    "start_time": "2025-02-24T17:11:39.399Z"
   },
   {
    "duration": 1776,
    "start_time": "2025-02-24T18:37:07.321Z"
   },
   {
    "duration": 122,
    "start_time": "2025-02-24T18:37:09.099Z"
   },
   {
    "duration": 14,
    "start_time": "2025-02-24T18:37:09.223Z"
   },
   {
    "duration": 15,
    "start_time": "2025-02-24T18:37:09.240Z"
   },
   {
    "duration": 14,
    "start_time": "2025-02-24T18:37:09.257Z"
   },
   {
    "duration": 12,
    "start_time": "2025-02-24T18:37:09.272Z"
   },
   {
    "duration": 42,
    "start_time": "2025-02-24T18:37:09.286Z"
   },
   {
    "duration": 38,
    "start_time": "2025-02-24T18:37:09.330Z"
   },
   {
    "duration": 11,
    "start_time": "2025-02-24T18:37:09.369Z"
   },
   {
    "duration": 483,
    "start_time": "2025-02-24T18:37:09.383Z"
   },
   {
    "duration": 10,
    "start_time": "2025-02-24T18:37:09.867Z"
   },
   {
    "duration": 12,
    "start_time": "2025-02-24T18:37:09.878Z"
   },
   {
    "duration": 20,
    "start_time": "2025-02-24T18:37:09.892Z"
   },
   {
    "duration": 1150,
    "start_time": "2025-02-24T18:37:09.914Z"
   },
   {
    "duration": 1191,
    "start_time": "2025-02-24T18:37:11.066Z"
   },
   {
    "duration": 19,
    "start_time": "2025-02-24T18:37:12.259Z"
   },
   {
    "duration": 47,
    "start_time": "2025-02-24T18:37:12.280Z"
   },
   {
    "duration": 1610,
    "start_time": "2025-02-24T18:37:12.329Z"
   },
   {
    "duration": 30,
    "start_time": "2025-02-24T18:37:13.941Z"
   },
   {
    "duration": 530,
    "start_time": "2025-02-24T18:37:13.973Z"
   },
   {
    "duration": 14,
    "start_time": "2025-02-24T18:37:14.505Z"
   },
   {
    "duration": 440,
    "start_time": "2025-02-24T18:37:14.520Z"
   },
   {
    "duration": 15,
    "start_time": "2025-02-24T18:37:14.962Z"
   },
   {
    "duration": 592,
    "start_time": "2025-02-24T18:37:14.978Z"
   },
   {
    "duration": 17,
    "start_time": "2025-02-24T18:37:15.573Z"
   },
   {
    "duration": 565,
    "start_time": "2025-02-24T18:37:15.592Z"
   },
   {
    "duration": 10,
    "start_time": "2025-02-24T18:37:16.160Z"
   },
   {
    "duration": 159,
    "start_time": "2025-02-24T18:37:16.174Z"
   },
   {
    "duration": 92,
    "start_time": "2025-02-24T18:37:16.336Z"
   },
   {
    "duration": 64,
    "start_time": "2025-02-24T18:37:16.430Z"
   },
   {
    "duration": 13,
    "start_time": "2025-02-24T18:37:16.497Z"
   },
   {
    "duration": 18,
    "start_time": "2025-02-24T18:40:49.051Z"
   },
   {
    "duration": 18,
    "start_time": "2025-02-24T18:40:55.000Z"
   },
   {
    "duration": 14432,
    "start_time": "2025-02-24T18:42:16.044Z"
   },
   {
    "duration": 38369,
    "start_time": "2025-02-24T18:44:24.047Z"
   },
   {
    "duration": 126,
    "start_time": "2025-02-24T18:47:20.182Z"
   },
   {
    "duration": 686,
    "start_time": "2025-02-24T18:47:27.496Z"
   },
   {
    "duration": 710,
    "start_time": "2025-02-24T18:49:03.352Z"
   },
   {
    "duration": 11,
    "start_time": "2025-02-24T18:50:00.521Z"
   },
   {
    "duration": 1660,
    "start_time": "2025-02-24T18:51:11.435Z"
   },
   {
    "duration": 80,
    "start_time": "2025-02-24T18:51:13.098Z"
   },
   {
    "duration": 16,
    "start_time": "2025-02-24T18:51:13.180Z"
   },
   {
    "duration": 21,
    "start_time": "2025-02-24T18:51:13.198Z"
   },
   {
    "duration": 15,
    "start_time": "2025-02-24T18:51:13.221Z"
   },
   {
    "duration": 25,
    "start_time": "2025-02-24T18:51:13.238Z"
   },
   {
    "duration": 35,
    "start_time": "2025-02-24T18:51:13.265Z"
   },
   {
    "duration": 66,
    "start_time": "2025-02-24T18:51:13.302Z"
   },
   {
    "duration": 13,
    "start_time": "2025-02-24T18:51:13.370Z"
   },
   {
    "duration": 303,
    "start_time": "2025-02-24T18:51:13.386Z"
   },
   {
    "duration": 9,
    "start_time": "2025-02-24T18:51:13.691Z"
   },
   {
    "duration": 76,
    "start_time": "2025-02-24T18:51:13.702Z"
   },
   {
    "duration": 19,
    "start_time": "2025-02-24T18:51:13.780Z"
   },
   {
    "duration": 1087,
    "start_time": "2025-02-24T18:51:13.801Z"
   },
   {
    "duration": 1141,
    "start_time": "2025-02-24T18:51:14.890Z"
   },
   {
    "duration": 30,
    "start_time": "2025-02-24T18:51:16.033Z"
   },
   {
    "duration": 12,
    "start_time": "2025-02-24T18:51:16.064Z"
   },
   {
    "duration": 1516,
    "start_time": "2025-02-24T18:51:16.077Z"
   },
   {
    "duration": 25,
    "start_time": "2025-02-24T18:51:17.594Z"
   },
   {
    "duration": 659,
    "start_time": "2025-02-24T18:51:17.620Z"
   },
   {
    "duration": 13,
    "start_time": "2025-02-24T18:51:18.281Z"
   },
   {
    "duration": 476,
    "start_time": "2025-02-24T18:51:18.296Z"
   },
   {
    "duration": 15,
    "start_time": "2025-02-24T18:51:18.773Z"
   },
   {
    "duration": 551,
    "start_time": "2025-02-24T18:51:18.790Z"
   },
   {
    "duration": 20,
    "start_time": "2025-02-24T18:51:19.344Z"
   },
   {
    "duration": 423,
    "start_time": "2025-02-24T18:51:19.366Z"
   },
   {
    "duration": 9,
    "start_time": "2025-02-24T18:51:19.791Z"
   },
   {
    "duration": 27,
    "start_time": "2025-02-24T18:51:19.803Z"
   },
   {
    "duration": 27,
    "start_time": "2025-02-24T18:51:19.831Z"
   },
   {
    "duration": 27,
    "start_time": "2025-02-24T18:51:19.860Z"
   },
   {
    "duration": 6,
    "start_time": "2025-02-24T18:51:19.889Z"
   },
   {
    "duration": 55,
    "start_time": "2025-02-24T18:51:19.896Z"
   },
   {
    "duration": 10604,
    "start_time": "2025-02-24T18:51:19.953Z"
   },
   {
    "duration": 1601,
    "start_time": "2025-02-24T19:00:19.364Z"
   },
   {
    "duration": 93,
    "start_time": "2025-02-24T19:00:20.968Z"
   },
   {
    "duration": 17,
    "start_time": "2025-02-24T19:00:21.063Z"
   },
   {
    "duration": 21,
    "start_time": "2025-02-24T19:00:21.081Z"
   },
   {
    "duration": 25,
    "start_time": "2025-02-24T19:00:21.105Z"
   },
   {
    "duration": 41,
    "start_time": "2025-02-24T19:00:21.132Z"
   },
   {
    "duration": 48,
    "start_time": "2025-02-24T19:00:21.176Z"
   },
   {
    "duration": 75,
    "start_time": "2025-02-24T19:00:21.226Z"
   },
   {
    "duration": 38,
    "start_time": "2025-02-24T19:00:21.303Z"
   },
   {
    "duration": 367,
    "start_time": "2025-02-24T19:00:21.343Z"
   },
   {
    "duration": 9,
    "start_time": "2025-02-24T19:00:21.712Z"
   },
   {
    "duration": 186,
    "start_time": "2025-02-24T19:00:21.723Z"
   },
   {
    "duration": 69,
    "start_time": "2025-02-24T19:00:21.911Z"
   },
   {
    "duration": 1141,
    "start_time": "2025-02-24T19:00:21.983Z"
   },
   {
    "duration": 1352,
    "start_time": "2025-02-24T19:00:23.126Z"
   },
   {
    "duration": 21,
    "start_time": "2025-02-24T19:00:24.481Z"
   },
   {
    "duration": 11,
    "start_time": "2025-02-24T19:00:24.504Z"
   },
   {
    "duration": 1656,
    "start_time": "2025-02-24T19:00:24.517Z"
   },
   {
    "duration": 31,
    "start_time": "2025-02-24T19:00:26.175Z"
   },
   {
    "duration": 533,
    "start_time": "2025-02-24T19:00:26.208Z"
   },
   {
    "duration": 28,
    "start_time": "2025-02-24T19:00:26.743Z"
   },
   {
    "duration": 452,
    "start_time": "2025-02-24T19:00:26.773Z"
   },
   {
    "duration": 14,
    "start_time": "2025-02-24T19:00:27.227Z"
   },
   {
    "duration": 605,
    "start_time": "2025-02-24T19:00:27.243Z"
   },
   {
    "duration": 16,
    "start_time": "2025-02-24T19:00:27.850Z"
   },
   {
    "duration": 434,
    "start_time": "2025-02-24T19:00:27.868Z"
   },
   {
    "duration": 9,
    "start_time": "2025-02-24T19:00:28.304Z"
   },
   {
    "duration": 146,
    "start_time": "2025-02-24T19:00:28.315Z"
   },
   {
    "duration": 6,
    "start_time": "2025-02-24T19:00:28.463Z"
   },
   {
    "duration": 61,
    "start_time": "2025-02-24T19:00:28.471Z"
   },
   {
    "duration": 5,
    "start_time": "2025-02-24T19:00:28.534Z"
   },
   {
    "duration": 24,
    "start_time": "2025-02-24T19:00:28.542Z"
   },
   {
    "duration": 4020,
    "start_time": "2025-02-24T19:00:28.568Z"
   },
   {
    "duration": 122,
    "start_time": "2025-02-24T19:02:18.909Z"
   },
   {
    "duration": 544,
    "start_time": "2025-02-24T19:02:53.816Z"
   },
   {
    "duration": 15,
    "start_time": "2025-02-24T19:03:12.817Z"
   },
   {
    "duration": 1643,
    "start_time": "2025-02-24T19:03:54.387Z"
   },
   {
    "duration": 95,
    "start_time": "2025-02-24T19:03:56.032Z"
   },
   {
    "duration": 16,
    "start_time": "2025-02-24T19:03:56.129Z"
   },
   {
    "duration": 47,
    "start_time": "2025-02-24T19:03:56.147Z"
   },
   {
    "duration": 17,
    "start_time": "2025-02-24T19:03:56.196Z"
   },
   {
    "duration": 12,
    "start_time": "2025-02-24T19:03:56.215Z"
   },
   {
    "duration": 46,
    "start_time": "2025-02-24T19:03:56.229Z"
   },
   {
    "duration": 45,
    "start_time": "2025-02-24T19:03:56.278Z"
   },
   {
    "duration": 106,
    "start_time": "2025-02-24T19:03:56.326Z"
   },
   {
    "duration": 287,
    "start_time": "2025-02-24T19:03:56.436Z"
   },
   {
    "duration": 30,
    "start_time": "2025-02-24T19:03:56.725Z"
   },
   {
    "duration": 7,
    "start_time": "2025-02-24T19:03:56.757Z"
   },
   {
    "duration": 66,
    "start_time": "2025-02-24T19:03:56.766Z"
   },
   {
    "duration": 1130,
    "start_time": "2025-02-24T19:03:56.834Z"
   },
   {
    "duration": 1177,
    "start_time": "2025-02-24T19:03:57.966Z"
   },
   {
    "duration": 26,
    "start_time": "2025-02-24T19:03:59.146Z"
   },
   {
    "duration": 32,
    "start_time": "2025-02-24T19:03:59.174Z"
   },
   {
    "duration": 1591,
    "start_time": "2025-02-24T19:03:59.207Z"
   },
   {
    "duration": 24,
    "start_time": "2025-02-24T19:04:00.799Z"
   },
   {
    "duration": 518,
    "start_time": "2025-02-24T19:04:00.825Z"
   },
   {
    "duration": 14,
    "start_time": "2025-02-24T19:04:01.345Z"
   },
   {
    "duration": 456,
    "start_time": "2025-02-24T19:04:01.361Z"
   },
   {
    "duration": 15,
    "start_time": "2025-02-24T19:04:01.819Z"
   },
   {
    "duration": 612,
    "start_time": "2025-02-24T19:04:01.856Z"
   },
   {
    "duration": 15,
    "start_time": "2025-02-24T19:04:02.470Z"
   },
   {
    "duration": 459,
    "start_time": "2025-02-24T19:04:02.487Z"
   },
   {
    "duration": 14,
    "start_time": "2025-02-24T19:04:02.947Z"
   },
   {
    "duration": 53,
    "start_time": "2025-02-24T19:04:02.965Z"
   },
   {
    "duration": 56,
    "start_time": "2025-02-24T19:04:03.020Z"
   },
   {
    "duration": 163,
    "start_time": "2025-02-24T19:04:03.078Z"
   },
   {
    "duration": 6,
    "start_time": "2025-02-24T19:04:03.243Z"
   },
   {
    "duration": 87,
    "start_time": "2025-02-24T19:04:03.250Z"
   },
   {
    "duration": 5219,
    "start_time": "2025-02-24T19:04:03.339Z"
   },
   {
    "duration": 1199,
    "start_time": "2025-02-24T19:04:08.560Z"
   },
   {
    "duration": 17,
    "start_time": "2025-02-24T19:04:09.761Z"
   },
   {
    "duration": 1620,
    "start_time": "2025-02-24T19:05:33.802Z"
   },
   {
    "duration": 89,
    "start_time": "2025-02-24T19:05:35.424Z"
   },
   {
    "duration": 16,
    "start_time": "2025-02-24T19:05:35.515Z"
   },
   {
    "duration": 14,
    "start_time": "2025-02-24T19:05:35.533Z"
   },
   {
    "duration": 125,
    "start_time": "2025-02-24T19:05:35.549Z"
   },
   {
    "duration": 24,
    "start_time": "2025-02-24T19:05:35.676Z"
   },
   {
    "duration": 28,
    "start_time": "2025-02-24T19:05:35.702Z"
   },
   {
    "duration": 319,
    "start_time": "2025-02-24T19:05:35.732Z"
   },
   {
    "duration": 12,
    "start_time": "2025-02-24T19:05:36.053Z"
   },
   {
    "duration": 415,
    "start_time": "2025-02-24T19:05:36.067Z"
   },
   {
    "duration": 10,
    "start_time": "2025-02-24T19:05:36.484Z"
   },
   {
    "duration": 37,
    "start_time": "2025-02-24T19:05:36.495Z"
   },
   {
    "duration": 26,
    "start_time": "2025-02-24T19:05:36.534Z"
   },
   {
    "duration": 1136,
    "start_time": "2025-02-24T19:05:36.564Z"
   },
   {
    "duration": 1134,
    "start_time": "2025-02-24T19:05:37.702Z"
   },
   {
    "duration": 29,
    "start_time": "2025-02-24T19:05:38.837Z"
   },
   {
    "duration": 10,
    "start_time": "2025-02-24T19:05:38.868Z"
   },
   {
    "duration": 1583,
    "start_time": "2025-02-24T19:05:38.880Z"
   },
   {
    "duration": 22,
    "start_time": "2025-02-24T19:05:40.465Z"
   },
   {
    "duration": 466,
    "start_time": "2025-02-24T19:05:40.489Z"
   },
   {
    "duration": 13,
    "start_time": "2025-02-24T19:05:40.957Z"
   },
   {
    "duration": 419,
    "start_time": "2025-02-24T19:05:40.972Z"
   },
   {
    "duration": 16,
    "start_time": "2025-02-24T19:05:41.392Z"
   },
   {
    "duration": 524,
    "start_time": "2025-02-24T19:05:41.410Z"
   },
   {
    "duration": 24,
    "start_time": "2025-02-24T19:05:41.936Z"
   },
   {
    "duration": 410,
    "start_time": "2025-02-24T19:05:41.962Z"
   },
   {
    "duration": 8,
    "start_time": "2025-02-24T19:05:42.374Z"
   },
   {
    "duration": 66,
    "start_time": "2025-02-24T19:05:42.384Z"
   },
   {
    "duration": 5,
    "start_time": "2025-02-24T19:05:42.452Z"
   },
   {
    "duration": 35,
    "start_time": "2025-02-24T19:05:42.459Z"
   },
   {
    "duration": 7,
    "start_time": "2025-02-24T19:05:42.495Z"
   },
   {
    "duration": 17,
    "start_time": "2025-02-24T19:05:42.503Z"
   },
   {
    "duration": 9535,
    "start_time": "2025-02-24T19:05:42.522Z"
   },
   {
    "duration": 1198,
    "start_time": "2025-02-24T19:05:52.059Z"
   },
   {
    "duration": 15,
    "start_time": "2025-02-24T19:05:53.259Z"
   },
   {
    "duration": 12,
    "start_time": "2025-02-24T19:24:08.814Z"
   },
   {
    "duration": 1589,
    "start_time": "2025-02-24T19:28:09.355Z"
   },
   {
    "duration": 81,
    "start_time": "2025-02-24T19:28:10.946Z"
   },
   {
    "duration": 21,
    "start_time": "2025-02-24T19:28:11.029Z"
   },
   {
    "duration": 30,
    "start_time": "2025-02-24T19:28:11.053Z"
   },
   {
    "duration": 24,
    "start_time": "2025-02-24T19:28:11.086Z"
   },
   {
    "duration": 12,
    "start_time": "2025-02-24T19:28:11.112Z"
   },
   {
    "duration": 30,
    "start_time": "2025-02-24T19:28:11.126Z"
   },
   {
    "duration": 34,
    "start_time": "2025-02-24T19:28:11.157Z"
   },
   {
    "duration": 12,
    "start_time": "2025-02-24T19:28:11.193Z"
   },
   {
    "duration": 307,
    "start_time": "2025-02-24T19:28:11.208Z"
   },
   {
    "duration": 10,
    "start_time": "2025-02-24T19:28:11.517Z"
   },
   {
    "duration": 26,
    "start_time": "2025-02-24T19:28:11.529Z"
   },
   {
    "duration": 19,
    "start_time": "2025-02-24T19:28:11.557Z"
   },
   {
    "duration": 1126,
    "start_time": "2025-02-24T19:28:11.578Z"
   },
   {
    "duration": 1213,
    "start_time": "2025-02-24T19:28:12.706Z"
   },
   {
    "duration": 36,
    "start_time": "2025-02-24T19:28:13.921Z"
   },
   {
    "duration": 31,
    "start_time": "2025-02-24T19:28:13.959Z"
   },
   {
    "duration": 1576,
    "start_time": "2025-02-24T19:28:13.992Z"
   },
   {
    "duration": 26,
    "start_time": "2025-02-24T19:28:15.571Z"
   },
   {
    "duration": 516,
    "start_time": "2025-02-24T19:28:15.600Z"
   },
   {
    "duration": 14,
    "start_time": "2025-02-24T19:28:16.118Z"
   },
   {
    "duration": 459,
    "start_time": "2025-02-24T19:28:16.134Z"
   },
   {
    "duration": 20,
    "start_time": "2025-02-24T19:28:16.595Z"
   },
   {
    "duration": 580,
    "start_time": "2025-02-24T19:28:16.617Z"
   },
   {
    "duration": 16,
    "start_time": "2025-02-24T19:28:17.199Z"
   },
   {
    "duration": 473,
    "start_time": "2025-02-24T19:28:17.217Z"
   },
   {
    "duration": 9,
    "start_time": "2025-02-24T19:28:17.692Z"
   },
   {
    "duration": 31,
    "start_time": "2025-02-24T19:28:17.705Z"
   },
   {
    "duration": 5,
    "start_time": "2025-02-24T19:28:17.756Z"
   },
   {
    "duration": 53,
    "start_time": "2025-02-24T19:28:17.763Z"
   },
   {
    "duration": 7,
    "start_time": "2025-02-24T19:28:17.818Z"
   },
   {
    "duration": 135,
    "start_time": "2025-02-24T19:28:17.827Z"
   },
   {
    "duration": 8591,
    "start_time": "2025-02-24T19:28:17.965Z"
   },
   {
    "duration": 1102,
    "start_time": "2025-02-24T19:28:26.559Z"
   },
   {
    "duration": 17,
    "start_time": "2025-02-24T19:28:27.663Z"
   },
   {
    "duration": 62,
    "start_time": "2025-02-24T19:28:27.682Z"
   },
   {
    "duration": 1558,
    "start_time": "2025-02-24T19:29:21.234Z"
   },
   {
    "duration": 99,
    "start_time": "2025-02-24T19:29:22.794Z"
   },
   {
    "duration": 15,
    "start_time": "2025-02-24T19:29:22.895Z"
   },
   {
    "duration": 34,
    "start_time": "2025-02-24T19:29:22.912Z"
   },
   {
    "duration": 58,
    "start_time": "2025-02-24T19:29:22.948Z"
   },
   {
    "duration": 30,
    "start_time": "2025-02-24T19:29:23.008Z"
   },
   {
    "duration": 23,
    "start_time": "2025-02-24T19:29:23.040Z"
   },
   {
    "duration": 67,
    "start_time": "2025-02-24T19:29:23.065Z"
   },
   {
    "duration": 58,
    "start_time": "2025-02-24T19:29:23.133Z"
   },
   {
    "duration": 310,
    "start_time": "2025-02-24T19:29:23.194Z"
   },
   {
    "duration": 10,
    "start_time": "2025-02-24T19:29:23.505Z"
   },
   {
    "duration": 41,
    "start_time": "2025-02-24T19:29:23.516Z"
   },
   {
    "duration": 149,
    "start_time": "2025-02-24T19:29:23.559Z"
   },
   {
    "duration": 1123,
    "start_time": "2025-02-24T19:29:23.709Z"
   },
   {
    "duration": 1188,
    "start_time": "2025-02-24T19:29:24.834Z"
   },
   {
    "duration": 32,
    "start_time": "2025-02-24T19:29:26.024Z"
   },
   {
    "duration": 72,
    "start_time": "2025-02-24T19:29:26.058Z"
   },
   {
    "duration": 1580,
    "start_time": "2025-02-24T19:29:26.132Z"
   },
   {
    "duration": 50,
    "start_time": "2025-02-24T19:29:27.713Z"
   },
   {
    "duration": 539,
    "start_time": "2025-02-24T19:29:27.766Z"
   },
   {
    "duration": 14,
    "start_time": "2025-02-24T19:29:28.306Z"
   },
   {
    "duration": 418,
    "start_time": "2025-02-24T19:29:28.321Z"
   },
   {
    "duration": 24,
    "start_time": "2025-02-24T19:29:28.740Z"
   },
   {
    "duration": 582,
    "start_time": "2025-02-24T19:29:28.765Z"
   },
   {
    "duration": 20,
    "start_time": "2025-02-24T19:29:29.349Z"
   },
   {
    "duration": 429,
    "start_time": "2025-02-24T19:29:29.371Z"
   },
   {
    "duration": 10,
    "start_time": "2025-02-24T19:29:29.802Z"
   },
   {
    "duration": 46,
    "start_time": "2025-02-24T19:29:29.815Z"
   },
   {
    "duration": 82,
    "start_time": "2025-02-24T19:29:29.863Z"
   },
   {
    "duration": 80,
    "start_time": "2025-02-24T19:29:29.947Z"
   },
   {
    "duration": 29,
    "start_time": "2025-02-24T19:29:30.028Z"
   },
   {
    "duration": 101,
    "start_time": "2025-02-24T19:29:30.059Z"
   },
   {
    "duration": 8089,
    "start_time": "2025-02-24T19:29:30.161Z"
   },
   {
    "duration": 1005,
    "start_time": "2025-02-24T19:29:38.255Z"
   },
   {
    "duration": 104,
    "start_time": "2025-02-24T19:29:39.263Z"
   },
   {
    "duration": 14,
    "start_time": "2025-02-24T19:29:39.368Z"
   },
   {
    "duration": 1621,
    "start_time": "2025-02-24T19:33:25.871Z"
   },
   {
    "duration": 80,
    "start_time": "2025-02-24T19:33:27.495Z"
   },
   {
    "duration": 14,
    "start_time": "2025-02-24T19:33:27.577Z"
   },
   {
    "duration": 11,
    "start_time": "2025-02-24T19:33:27.594Z"
   },
   {
    "duration": 14,
    "start_time": "2025-02-24T19:33:27.607Z"
   },
   {
    "duration": 41,
    "start_time": "2025-02-24T19:33:27.623Z"
   },
   {
    "duration": 89,
    "start_time": "2025-02-24T19:33:27.666Z"
   },
   {
    "duration": 33,
    "start_time": "2025-02-24T19:33:27.757Z"
   },
   {
    "duration": 13,
    "start_time": "2025-02-24T19:33:27.792Z"
   },
   {
    "duration": 304,
    "start_time": "2025-02-24T19:33:27.808Z"
   },
   {
    "duration": 11,
    "start_time": "2025-02-24T19:33:28.114Z"
   },
   {
    "duration": 29,
    "start_time": "2025-02-24T19:33:28.128Z"
   },
   {
    "duration": 20,
    "start_time": "2025-02-24T19:33:28.159Z"
   },
   {
    "duration": 1064,
    "start_time": "2025-02-24T19:33:28.180Z"
   },
   {
    "duration": 1186,
    "start_time": "2025-02-24T19:33:29.246Z"
   },
   {
    "duration": 30,
    "start_time": "2025-02-24T19:33:30.433Z"
   },
   {
    "duration": 72,
    "start_time": "2025-02-24T19:33:30.465Z"
   },
   {
    "duration": 1518,
    "start_time": "2025-02-24T19:33:30.539Z"
   },
   {
    "duration": 25,
    "start_time": "2025-02-24T19:33:32.059Z"
   },
   {
    "duration": 497,
    "start_time": "2025-02-24T19:33:32.085Z"
   },
   {
    "duration": 14,
    "start_time": "2025-02-24T19:33:32.584Z"
   },
   {
    "duration": 428,
    "start_time": "2025-02-24T19:33:32.600Z"
   },
   {
    "duration": 26,
    "start_time": "2025-02-24T19:33:33.030Z"
   },
   {
    "duration": 542,
    "start_time": "2025-02-24T19:33:33.058Z"
   },
   {
    "duration": 14,
    "start_time": "2025-02-24T19:33:33.602Z"
   },
   {
    "duration": 412,
    "start_time": "2025-02-24T19:33:33.618Z"
   },
   {
    "duration": 9,
    "start_time": "2025-02-24T19:33:34.032Z"
   },
   {
    "duration": 26,
    "start_time": "2025-02-24T19:33:34.057Z"
   },
   {
    "duration": 5,
    "start_time": "2025-02-24T19:33:34.085Z"
   },
   {
    "duration": 33,
    "start_time": "2025-02-24T19:33:34.092Z"
   },
   {
    "duration": 31,
    "start_time": "2025-02-24T19:33:34.126Z"
   },
   {
    "duration": 25,
    "start_time": "2025-02-24T19:33:34.159Z"
   },
   {
    "duration": 8859,
    "start_time": "2025-02-24T19:33:34.186Z"
   },
   {
    "duration": 1008,
    "start_time": "2025-02-24T19:33:43.047Z"
   },
   {
    "duration": 16,
    "start_time": "2025-02-24T19:33:44.057Z"
   },
   {
    "duration": 16,
    "start_time": "2025-02-24T19:33:44.075Z"
   },
   {
    "duration": 1574,
    "start_time": "2025-02-25T07:02:59.733Z"
   },
   {
    "duration": 96,
    "start_time": "2025-02-25T07:03:01.309Z"
   },
   {
    "duration": 13,
    "start_time": "2025-02-25T07:03:01.407Z"
   },
   {
    "duration": 30,
    "start_time": "2025-02-25T07:03:01.422Z"
   },
   {
    "duration": 17,
    "start_time": "2025-02-25T07:03:01.453Z"
   },
   {
    "duration": 10,
    "start_time": "2025-02-25T07:03:01.471Z"
   },
   {
    "duration": 12,
    "start_time": "2025-02-25T07:03:01.482Z"
   },
   {
    "duration": 47,
    "start_time": "2025-02-25T07:03:01.495Z"
   },
   {
    "duration": 10,
    "start_time": "2025-02-25T07:03:01.544Z"
   },
   {
    "duration": 288,
    "start_time": "2025-02-25T07:03:01.557Z"
   },
   {
    "duration": 9,
    "start_time": "2025-02-25T07:03:01.846Z"
   },
   {
    "duration": 11,
    "start_time": "2025-02-25T07:03:01.857Z"
   },
   {
    "duration": 31,
    "start_time": "2025-02-25T07:03:01.870Z"
   },
   {
    "duration": 1066,
    "start_time": "2025-02-25T07:03:01.904Z"
   },
   {
    "duration": 1049,
    "start_time": "2025-02-25T07:03:02.971Z"
   },
   {
    "duration": 17,
    "start_time": "2025-02-25T07:03:04.022Z"
   },
   {
    "duration": 9,
    "start_time": "2025-02-25T07:03:04.041Z"
   },
   {
    "duration": 1446,
    "start_time": "2025-02-25T07:03:04.051Z"
   },
   {
    "duration": 32,
    "start_time": "2025-02-25T07:03:05.498Z"
   },
   {
    "duration": 451,
    "start_time": "2025-02-25T07:03:05.532Z"
   },
   {
    "duration": 13,
    "start_time": "2025-02-25T07:03:05.984Z"
   },
   {
    "duration": 371,
    "start_time": "2025-02-25T07:03:05.998Z"
   },
   {
    "duration": 12,
    "start_time": "2025-02-25T07:03:06.371Z"
   },
   {
    "duration": 469,
    "start_time": "2025-02-25T07:03:06.384Z"
   },
   {
    "duration": 13,
    "start_time": "2025-02-25T07:03:06.854Z"
   },
   {
    "duration": 378,
    "start_time": "2025-02-25T07:03:06.869Z"
   },
   {
    "duration": 8,
    "start_time": "2025-02-25T07:03:07.249Z"
   },
   {
    "duration": 23,
    "start_time": "2025-02-25T07:03:07.260Z"
   },
   {
    "duration": 26,
    "start_time": "2025-02-25T07:03:07.284Z"
   },
   {
    "duration": 21,
    "start_time": "2025-02-25T07:03:07.312Z"
   },
   {
    "duration": 5,
    "start_time": "2025-02-25T07:03:07.335Z"
   },
   {
    "duration": 18,
    "start_time": "2025-02-25T07:03:07.341Z"
   },
   {
    "duration": 7825,
    "start_time": "2025-02-25T07:03:07.360Z"
   },
   {
    "duration": 1027,
    "start_time": "2025-02-25T07:03:15.187Z"
   },
   {
    "duration": 104,
    "start_time": "2025-02-25T07:03:16.216Z"
   },
   {
    "duration": 10,
    "start_time": "2025-02-25T07:03:16.322Z"
   },
   {
    "duration": 1628,
    "start_time": "2025-02-26T17:11:05.788Z"
   },
   {
    "duration": 160,
    "start_time": "2025-02-26T17:11:07.418Z"
   },
   {
    "duration": 14,
    "start_time": "2025-02-26T17:11:07.580Z"
   },
   {
    "duration": 22,
    "start_time": "2025-02-26T17:11:07.597Z"
   },
   {
    "duration": 24,
    "start_time": "2025-02-26T17:11:07.621Z"
   },
   {
    "duration": 17,
    "start_time": "2025-02-26T17:11:07.647Z"
   },
   {
    "duration": 25,
    "start_time": "2025-02-26T17:11:07.666Z"
   },
   {
    "duration": 36,
    "start_time": "2025-02-26T17:11:07.693Z"
   },
   {
    "duration": 43,
    "start_time": "2025-02-26T17:11:07.731Z"
   },
   {
    "duration": 21,
    "start_time": "2025-02-26T17:11:07.776Z"
   },
   {
    "duration": 24,
    "start_time": "2025-02-26T17:11:07.799Z"
   },
   {
    "duration": 126,
    "start_time": "2025-02-26T17:13:53.872Z"
   },
   {
    "duration": 14,
    "start_time": "2025-02-26T17:14:14.675Z"
   },
   {
    "duration": 14,
    "start_time": "2025-02-26T17:14:40.935Z"
   },
   {
    "duration": 16,
    "start_time": "2025-02-26T17:15:40.766Z"
   },
   {
    "duration": 1427,
    "start_time": "2025-02-26T17:24:36.154Z"
   },
   {
    "duration": 78,
    "start_time": "2025-02-26T17:24:37.583Z"
   },
   {
    "duration": 12,
    "start_time": "2025-02-26T17:24:37.663Z"
   },
   {
    "duration": 20,
    "start_time": "2025-02-26T17:24:37.677Z"
   },
   {
    "duration": 21,
    "start_time": "2025-02-26T17:24:37.699Z"
   },
   {
    "duration": 10,
    "start_time": "2025-02-26T17:24:37.722Z"
   },
   {
    "duration": 47,
    "start_time": "2025-02-26T17:24:37.734Z"
   },
   {
    "duration": 14,
    "start_time": "2025-02-26T17:24:37.783Z"
   },
   {
    "duration": 33,
    "start_time": "2025-02-26T17:24:37.799Z"
   },
   {
    "duration": 16,
    "start_time": "2025-02-26T17:24:37.834Z"
   },
   {
    "duration": 32,
    "start_time": "2025-02-26T17:24:37.851Z"
   },
   {
    "duration": 10,
    "start_time": "2025-02-26T17:24:37.885Z"
   },
   {
    "duration": 82,
    "start_time": "2025-02-26T17:24:37.897Z"
   },
   {
    "duration": 261,
    "start_time": "2025-02-26T17:24:37.980Z"
   },
   {
    "duration": 9,
    "start_time": "2025-02-26T17:24:38.243Z"
   },
   {
    "duration": 21,
    "start_time": "2025-02-26T17:24:38.254Z"
   },
   {
    "duration": 49,
    "start_time": "2025-02-26T17:24:38.277Z"
   },
   {
    "duration": 969,
    "start_time": "2025-02-26T17:24:38.328Z"
   },
   {
    "duration": 234,
    "start_time": "2025-02-26T17:24:39.299Z"
   },
   {
    "duration": 0,
    "start_time": "2025-02-26T17:24:39.535Z"
   },
   {
    "duration": 0,
    "start_time": "2025-02-26T17:24:39.536Z"
   },
   {
    "duration": 0,
    "start_time": "2025-02-26T17:24:39.537Z"
   },
   {
    "duration": 0,
    "start_time": "2025-02-26T17:24:39.538Z"
   },
   {
    "duration": 0,
    "start_time": "2025-02-26T17:24:39.539Z"
   },
   {
    "duration": 0,
    "start_time": "2025-02-26T17:24:39.540Z"
   },
   {
    "duration": 0,
    "start_time": "2025-02-26T17:24:39.541Z"
   },
   {
    "duration": 0,
    "start_time": "2025-02-26T17:24:39.542Z"
   },
   {
    "duration": 0,
    "start_time": "2025-02-26T17:24:39.543Z"
   },
   {
    "duration": 0,
    "start_time": "2025-02-26T17:24:39.544Z"
   },
   {
    "duration": 0,
    "start_time": "2025-02-26T17:24:39.545Z"
   },
   {
    "duration": 0,
    "start_time": "2025-02-26T17:24:39.546Z"
   },
   {
    "duration": 0,
    "start_time": "2025-02-26T17:24:39.547Z"
   },
   {
    "duration": 0,
    "start_time": "2025-02-26T17:24:39.548Z"
   },
   {
    "duration": 0,
    "start_time": "2025-02-26T17:24:39.548Z"
   },
   {
    "duration": 0,
    "start_time": "2025-02-26T17:24:39.549Z"
   },
   {
    "duration": 0,
    "start_time": "2025-02-26T17:24:39.549Z"
   },
   {
    "duration": 0,
    "start_time": "2025-02-26T17:24:39.550Z"
   },
   {
    "duration": 0,
    "start_time": "2025-02-26T17:24:39.551Z"
   },
   {
    "duration": 0,
    "start_time": "2025-02-26T17:24:39.572Z"
   },
   {
    "duration": 0,
    "start_time": "2025-02-26T17:24:39.573Z"
   },
   {
    "duration": 0,
    "start_time": "2025-02-26T17:24:39.574Z"
   },
   {
    "duration": 1102,
    "start_time": "2025-02-26T17:25:01.382Z"
   },
   {
    "duration": 1427,
    "start_time": "2025-02-26T17:25:15.836Z"
   },
   {
    "duration": 68,
    "start_time": "2025-02-26T17:25:17.265Z"
   },
   {
    "duration": 13,
    "start_time": "2025-02-26T17:25:17.335Z"
   },
   {
    "duration": 11,
    "start_time": "2025-02-26T17:25:17.350Z"
   },
   {
    "duration": 13,
    "start_time": "2025-02-26T17:25:17.362Z"
   },
   {
    "duration": 42,
    "start_time": "2025-02-26T17:25:17.377Z"
   },
   {
    "duration": 12,
    "start_time": "2025-02-26T17:25:17.420Z"
   },
   {
    "duration": 8,
    "start_time": "2025-02-26T17:25:17.434Z"
   },
   {
    "duration": 25,
    "start_time": "2025-02-26T17:25:17.443Z"
   },
   {
    "duration": 14,
    "start_time": "2025-02-26T17:25:17.471Z"
   },
   {
    "duration": 13,
    "start_time": "2025-02-26T17:25:17.486Z"
   },
   {
    "duration": 9,
    "start_time": "2025-02-26T17:25:17.501Z"
   },
   {
    "duration": 21,
    "start_time": "2025-02-26T17:25:17.512Z"
   },
   {
    "duration": 284,
    "start_time": "2025-02-26T17:25:17.534Z"
   },
   {
    "duration": 8,
    "start_time": "2025-02-26T17:25:17.820Z"
   },
   {
    "duration": 5,
    "start_time": "2025-02-26T17:25:17.830Z"
   },
   {
    "duration": 41,
    "start_time": "2025-02-26T17:25:17.836Z"
   },
   {
    "duration": 995,
    "start_time": "2025-02-26T17:25:17.878Z"
   },
   {
    "duration": 1150,
    "start_time": "2025-02-26T17:25:18.874Z"
   },
   {
    "duration": 22,
    "start_time": "2025-02-26T17:25:20.027Z"
   },
   {
    "duration": 30,
    "start_time": "2025-02-26T17:25:20.051Z"
   },
   {
    "duration": 1590,
    "start_time": "2025-02-26T17:25:20.082Z"
   },
   {
    "duration": 1109,
    "start_time": "2025-02-26T17:25:21.674Z"
   },
   {
    "duration": 0,
    "start_time": "2025-02-26T17:25:22.785Z"
   },
   {
    "duration": 0,
    "start_time": "2025-02-26T17:25:22.786Z"
   },
   {
    "duration": 0,
    "start_time": "2025-02-26T17:25:22.788Z"
   },
   {
    "duration": 0,
    "start_time": "2025-02-26T17:25:22.789Z"
   },
   {
    "duration": 0,
    "start_time": "2025-02-26T17:25:22.790Z"
   },
   {
    "duration": 0,
    "start_time": "2025-02-26T17:25:22.791Z"
   },
   {
    "duration": 0,
    "start_time": "2025-02-26T17:25:22.792Z"
   },
   {
    "duration": 0,
    "start_time": "2025-02-26T17:25:22.794Z"
   },
   {
    "duration": 0,
    "start_time": "2025-02-26T17:25:22.795Z"
   },
   {
    "duration": 0,
    "start_time": "2025-02-26T17:25:22.796Z"
   },
   {
    "duration": 0,
    "start_time": "2025-02-26T17:25:22.798Z"
   },
   {
    "duration": 0,
    "start_time": "2025-02-26T17:25:22.799Z"
   },
   {
    "duration": 0,
    "start_time": "2025-02-26T17:25:22.801Z"
   },
   {
    "duration": 0,
    "start_time": "2025-02-26T17:25:22.802Z"
   },
   {
    "duration": 0,
    "start_time": "2025-02-26T17:25:22.803Z"
   },
   {
    "duration": 0,
    "start_time": "2025-02-26T17:25:22.805Z"
   },
   {
    "duration": 0,
    "start_time": "2025-02-26T17:25:22.807Z"
   },
   {
    "duration": 0,
    "start_time": "2025-02-26T17:25:22.808Z"
   },
   {
    "duration": 22,
    "start_time": "2025-02-26T17:25:49.480Z"
   },
   {
    "duration": 1463,
    "start_time": "2025-02-26T17:27:38.441Z"
   },
   {
    "duration": 83,
    "start_time": "2025-02-26T17:27:39.906Z"
   },
   {
    "duration": 62,
    "start_time": "2025-02-26T17:27:39.990Z"
   },
   {
    "duration": 11,
    "start_time": "2025-02-26T17:27:40.054Z"
   },
   {
    "duration": 13,
    "start_time": "2025-02-26T17:27:40.066Z"
   },
   {
    "duration": 11,
    "start_time": "2025-02-26T17:27:40.081Z"
   },
   {
    "duration": 18,
    "start_time": "2025-02-26T17:27:40.093Z"
   },
   {
    "duration": 8,
    "start_time": "2025-02-26T17:27:40.113Z"
   },
   {
    "duration": 29,
    "start_time": "2025-02-26T17:27:40.123Z"
   },
   {
    "duration": 30,
    "start_time": "2025-02-26T17:27:40.155Z"
   },
   {
    "duration": 51,
    "start_time": "2025-02-26T17:27:40.187Z"
   },
   {
    "duration": 12,
    "start_time": "2025-02-26T17:27:40.239Z"
   },
   {
    "duration": 16,
    "start_time": "2025-02-26T17:27:40.252Z"
   },
   {
    "duration": 273,
    "start_time": "2025-02-26T17:27:40.269Z"
   },
   {
    "duration": 10,
    "start_time": "2025-02-26T17:27:40.543Z"
   },
   {
    "duration": 79,
    "start_time": "2025-02-26T17:27:40.554Z"
   },
   {
    "duration": 31,
    "start_time": "2025-02-26T17:27:40.635Z"
   },
   {
    "duration": 1025,
    "start_time": "2025-02-26T17:27:40.668Z"
   },
   {
    "duration": 1081,
    "start_time": "2025-02-26T17:27:41.695Z"
   },
   {
    "duration": 18,
    "start_time": "2025-02-26T17:27:42.777Z"
   },
   {
    "duration": 10,
    "start_time": "2025-02-26T17:27:42.797Z"
   },
   {
    "duration": 1595,
    "start_time": "2025-02-26T17:27:42.808Z"
   },
   {
    "duration": 21,
    "start_time": "2025-02-26T17:27:44.405Z"
   },
   {
    "duration": 427,
    "start_time": "2025-02-26T17:27:44.427Z"
   },
   {
    "duration": 20,
    "start_time": "2025-02-26T17:27:44.856Z"
   },
   {
    "duration": 381,
    "start_time": "2025-02-26T17:27:44.878Z"
   },
   {
    "duration": 17,
    "start_time": "2025-02-26T17:27:45.260Z"
   },
   {
    "duration": 482,
    "start_time": "2025-02-26T17:27:45.280Z"
   },
   {
    "duration": 19,
    "start_time": "2025-02-26T17:27:45.763Z"
   },
   {
    "duration": 408,
    "start_time": "2025-02-26T17:27:45.783Z"
   },
   {
    "duration": 9,
    "start_time": "2025-02-26T17:27:46.193Z"
   },
   {
    "duration": 1094,
    "start_time": "2025-02-26T17:27:46.203Z"
   },
   {
    "duration": 0,
    "start_time": "2025-02-26T17:27:47.299Z"
   },
   {
    "duration": 0,
    "start_time": "2025-02-26T17:27:47.300Z"
   },
   {
    "duration": 0,
    "start_time": "2025-02-26T17:27:47.301Z"
   },
   {
    "duration": 0,
    "start_time": "2025-02-26T17:27:47.302Z"
   },
   {
    "duration": 0,
    "start_time": "2025-02-26T17:27:47.304Z"
   },
   {
    "duration": 0,
    "start_time": "2025-02-26T17:27:47.305Z"
   },
   {
    "duration": 0,
    "start_time": "2025-02-26T17:27:47.306Z"
   },
   {
    "duration": 0,
    "start_time": "2025-02-26T17:27:47.307Z"
   },
   {
    "duration": 0,
    "start_time": "2025-02-26T17:27:47.308Z"
   },
   {
    "duration": 23,
    "start_time": "2025-02-26T17:27:56.504Z"
   },
   {
    "duration": 6,
    "start_time": "2025-02-26T17:28:43.160Z"
   },
   {
    "duration": 24,
    "start_time": "2025-02-26T17:28:49.712Z"
   },
   {
    "duration": 5,
    "start_time": "2025-02-26T17:28:51.430Z"
   },
   {
    "duration": 15,
    "start_time": "2025-02-26T17:28:54.292Z"
   },
   {
    "duration": 16,
    "start_time": "2025-02-26T17:29:03.177Z"
   },
   {
    "duration": 7620,
    "start_time": "2025-02-26T17:29:05.843Z"
   },
   {
    "duration": 994,
    "start_time": "2025-02-26T17:29:17.581Z"
   },
   {
    "duration": 13,
    "start_time": "2025-02-26T17:29:21.567Z"
   },
   {
    "duration": 25,
    "start_time": "2025-02-26T17:29:27.143Z"
   },
   {
    "duration": 4,
    "start_time": "2025-02-26T17:29:39.063Z"
   },
   {
    "duration": 14,
    "start_time": "2025-02-26T17:29:41.051Z"
   },
   {
    "duration": 714,
    "start_time": "2025-02-26T17:31:35.247Z"
   },
   {
    "duration": 2084,
    "start_time": "2025-02-26T17:32:01.435Z"
   },
   {
    "duration": 211,
    "start_time": "2025-02-26T17:32:15.286Z"
   },
   {
    "duration": 1462,
    "start_time": "2025-02-26T17:35:24.357Z"
   },
   {
    "duration": 1415,
    "start_time": "2025-02-26T17:35:59.926Z"
   },
   {
    "duration": 1433,
    "start_time": "2025-02-26T17:36:15.790Z"
   },
   {
    "duration": 19,
    "start_time": "2025-02-26T17:37:01.234Z"
   },
   {
    "duration": 10,
    "start_time": "2025-02-26T17:37:03.806Z"
   },
   {
    "duration": 1462,
    "start_time": "2025-02-26T17:42:19.902Z"
   },
   {
    "duration": 105,
    "start_time": "2025-02-26T17:42:21.366Z"
   },
   {
    "duration": 13,
    "start_time": "2025-02-26T17:42:21.473Z"
   },
   {
    "duration": 17,
    "start_time": "2025-02-26T17:42:21.488Z"
   },
   {
    "duration": 14,
    "start_time": "2025-02-26T17:42:21.506Z"
   },
   {
    "duration": 10,
    "start_time": "2025-02-26T17:42:21.521Z"
   },
   {
    "duration": 11,
    "start_time": "2025-02-26T17:42:21.533Z"
   },
   {
    "duration": 33,
    "start_time": "2025-02-26T17:42:21.546Z"
   },
   {
    "duration": 32,
    "start_time": "2025-02-26T17:42:21.581Z"
   },
   {
    "duration": 15,
    "start_time": "2025-02-26T17:42:21.616Z"
   },
   {
    "duration": 39,
    "start_time": "2025-02-26T17:42:21.633Z"
   },
   {
    "duration": 11,
    "start_time": "2025-02-26T17:42:21.674Z"
   },
   {
    "duration": 24,
    "start_time": "2025-02-26T17:42:21.687Z"
   },
   {
    "duration": 275,
    "start_time": "2025-02-26T17:42:21.713Z"
   },
   {
    "duration": 8,
    "start_time": "2025-02-26T17:42:21.990Z"
   },
   {
    "duration": 46,
    "start_time": "2025-02-26T17:42:22.000Z"
   },
   {
    "duration": 17,
    "start_time": "2025-02-26T17:42:22.048Z"
   },
   {
    "duration": 1919,
    "start_time": "2025-02-26T17:42:22.066Z"
   },
   {
    "duration": 185,
    "start_time": "2025-02-26T17:42:23.987Z"
   },
   {
    "duration": 1658,
    "start_time": "2025-02-26T17:42:24.173Z"
   },
   {
    "duration": 19,
    "start_time": "2025-02-26T17:42:25.832Z"
   },
   {
    "duration": 22,
    "start_time": "2025-02-26T17:42:25.852Z"
   },
   {
    "duration": 1404,
    "start_time": "2025-02-26T17:43:31.966Z"
   },
   {
    "duration": 349,
    "start_time": "2025-02-26T17:45:06.363Z"
   },
   {
    "duration": 145,
    "start_time": "2025-02-26T17:48:17.927Z"
   },
   {
    "duration": 426,
    "start_time": "2025-02-26T17:55:11.791Z"
   },
   {
    "duration": 1551,
    "start_time": "2025-02-26T17:55:29.250Z"
   },
   {
    "duration": 103,
    "start_time": "2025-02-26T17:55:30.803Z"
   },
   {
    "duration": 15,
    "start_time": "2025-02-26T17:55:30.907Z"
   },
   {
    "duration": 13,
    "start_time": "2025-02-26T17:55:30.924Z"
   },
   {
    "duration": 34,
    "start_time": "2025-02-26T17:55:30.939Z"
   },
   {
    "duration": 12,
    "start_time": "2025-02-26T17:55:30.974Z"
   },
   {
    "duration": 46,
    "start_time": "2025-02-26T17:55:30.988Z"
   },
   {
    "duration": 22,
    "start_time": "2025-02-26T17:55:31.036Z"
   },
   {
    "duration": 33,
    "start_time": "2025-02-26T17:55:31.060Z"
   },
   {
    "duration": 15,
    "start_time": "2025-02-26T17:55:31.095Z"
   },
   {
    "duration": 14,
    "start_time": "2025-02-26T17:55:31.112Z"
   },
   {
    "duration": 11,
    "start_time": "2025-02-26T17:55:31.129Z"
   },
   {
    "duration": 39,
    "start_time": "2025-02-26T17:55:31.142Z"
   },
   {
    "duration": 311,
    "start_time": "2025-02-26T17:55:31.183Z"
   },
   {
    "duration": 11,
    "start_time": "2025-02-26T17:55:31.496Z"
   },
   {
    "duration": 63,
    "start_time": "2025-02-26T17:55:31.509Z"
   },
   {
    "duration": 35,
    "start_time": "2025-02-26T17:55:31.574Z"
   },
   {
    "duration": 2018,
    "start_time": "2025-02-26T17:55:31.611Z"
   },
   {
    "duration": 191,
    "start_time": "2025-02-26T17:55:33.631Z"
   },
   {
    "duration": 1556,
    "start_time": "2025-02-26T17:55:33.823Z"
   },
   {
    "duration": 20,
    "start_time": "2025-02-26T17:55:35.381Z"
   },
   {
    "duration": 14,
    "start_time": "2025-02-26T17:55:35.403Z"
   },
   {
    "duration": 1475,
    "start_time": "2025-02-26T17:55:35.420Z"
   },
   {
    "duration": 345,
    "start_time": "2025-02-26T17:55:36.897Z"
   },
   {
    "duration": 158,
    "start_time": "2025-02-26T17:55:37.243Z"
   },
   {
    "duration": 491,
    "start_time": "2025-02-26T17:55:37.404Z"
   },
   {
    "duration": 126,
    "start_time": "2025-02-26T18:02:08.567Z"
   },
   {
    "duration": 5,
    "start_time": "2025-02-26T18:02:20.796Z"
   },
   {
    "duration": 353,
    "start_time": "2025-02-26T18:02:28.765Z"
   },
   {
    "duration": 378,
    "start_time": "2025-02-26T18:05:03.636Z"
   },
   {
    "duration": 6,
    "start_time": "2025-02-26T18:05:21.070Z"
   },
   {
    "duration": 13,
    "start_time": "2025-02-26T18:05:32.147Z"
   },
   {
    "duration": 380,
    "start_time": "2025-02-26T18:07:36.498Z"
   },
   {
    "duration": 342,
    "start_time": "2025-02-26T18:09:39.093Z"
   },
   {
    "duration": 1473,
    "start_time": "2025-02-26T18:11:48.808Z"
   },
   {
    "duration": 107,
    "start_time": "2025-02-26T18:11:50.282Z"
   },
   {
    "duration": 13,
    "start_time": "2025-02-26T18:11:50.391Z"
   },
   {
    "duration": 12,
    "start_time": "2025-02-26T18:11:50.406Z"
   },
   {
    "duration": 39,
    "start_time": "2025-02-26T18:11:50.419Z"
   },
   {
    "duration": 10,
    "start_time": "2025-02-26T18:11:50.460Z"
   },
   {
    "duration": 15,
    "start_time": "2025-02-26T18:11:50.472Z"
   },
   {
    "duration": 30,
    "start_time": "2025-02-26T18:11:50.489Z"
   },
   {
    "duration": 28,
    "start_time": "2025-02-26T18:11:50.521Z"
   },
   {
    "duration": 15,
    "start_time": "2025-02-26T18:11:50.552Z"
   },
   {
    "duration": 15,
    "start_time": "2025-02-26T18:11:50.568Z"
   },
   {
    "duration": 11,
    "start_time": "2025-02-26T18:11:50.584Z"
   },
   {
    "duration": 21,
    "start_time": "2025-02-26T18:11:50.596Z"
   },
   {
    "duration": 286,
    "start_time": "2025-02-26T18:11:50.619Z"
   },
   {
    "duration": 9,
    "start_time": "2025-02-26T18:11:50.907Z"
   },
   {
    "duration": 25,
    "start_time": "2025-02-26T18:11:50.918Z"
   },
   {
    "duration": 21,
    "start_time": "2025-02-26T18:11:50.944Z"
   },
   {
    "duration": 1970,
    "start_time": "2025-02-26T18:11:50.967Z"
   },
   {
    "duration": 192,
    "start_time": "2025-02-26T18:11:52.938Z"
   },
   {
    "duration": 1501,
    "start_time": "2025-02-26T18:11:53.132Z"
   },
   {
    "duration": 17,
    "start_time": "2025-02-26T18:11:54.635Z"
   },
   {
    "duration": 23,
    "start_time": "2025-02-26T18:11:54.654Z"
   },
   {
    "duration": 1437,
    "start_time": "2025-02-26T18:11:54.678Z"
   },
   {
    "duration": 386,
    "start_time": "2025-02-26T18:11:56.118Z"
   },
   {
    "duration": 157,
    "start_time": "2025-02-26T18:11:56.507Z"
   },
   {
    "duration": 426,
    "start_time": "2025-02-26T18:11:56.665Z"
   },
   {
    "duration": 344,
    "start_time": "2025-02-26T18:11:57.093Z"
   },
   {
    "duration": 395,
    "start_time": "2025-02-26T18:11:57.441Z"
   },
   {
    "duration": 14,
    "start_time": "2025-02-26T18:11:57.839Z"
   },
   {
    "duration": 383,
    "start_time": "2025-02-26T18:11:57.855Z"
   },
   {
    "duration": 15,
    "start_time": "2025-02-26T18:11:58.240Z"
   },
   {
    "duration": 405,
    "start_time": "2025-02-26T18:11:58.257Z"
   },
   {
    "duration": 353,
    "start_time": "2025-02-26T18:11:58.664Z"
   },
   {
    "duration": 26,
    "start_time": "2025-02-26T18:11:59.019Z"
   },
   {
    "duration": 27,
    "start_time": "2025-02-26T18:11:59.047Z"
   },
   {
    "duration": 29,
    "start_time": "2025-02-26T18:11:59.077Z"
   },
   {
    "duration": 22,
    "start_time": "2025-02-26T18:11:59.108Z"
   },
   {
    "duration": 25,
    "start_time": "2025-02-26T18:11:59.132Z"
   },
   {
    "duration": 8295,
    "start_time": "2025-02-26T18:11:59.159Z"
   },
   {
    "duration": 1018,
    "start_time": "2025-02-26T18:12:07.456Z"
   },
   {
    "duration": 16,
    "start_time": "2025-02-26T18:12:08.476Z"
   },
   {
    "duration": 4,
    "start_time": "2025-02-26T18:12:08.493Z"
   },
   {
    "duration": 12,
    "start_time": "2025-02-26T18:12:08.498Z"
   },
   {
    "duration": 938,
    "start_time": "2025-02-26T18:16:03.043Z"
   },
   {
    "duration": 14,
    "start_time": "2025-02-26T18:16:06.997Z"
   },
   {
    "duration": 603,
    "start_time": "2025-02-26T18:16:15.773Z"
   },
   {
    "duration": 14,
    "start_time": "2025-02-26T18:16:18.205Z"
   },
   {
    "duration": 1079,
    "start_time": "2025-02-26T18:16:28.594Z"
   },
   {
    "duration": 15,
    "start_time": "2025-02-26T18:16:32.080Z"
   },
   {
    "duration": 111,
    "start_time": "2025-02-26T18:17:38.918Z"
   },
   {
    "duration": 15,
    "start_time": "2025-02-26T18:17:46.378Z"
   },
   {
    "duration": 8564,
    "start_time": "2025-02-26T18:17:48.168Z"
   },
   {
    "duration": 8392,
    "start_time": "2025-02-26T18:18:00.257Z"
   },
   {
    "duration": 842,
    "start_time": "2025-02-26T18:20:41.637Z"
   },
   {
    "duration": 16,
    "start_time": "2025-02-26T18:20:45.133Z"
   },
   {
    "duration": 1280,
    "start_time": "2025-02-26T18:21:02.199Z"
   },
   {
    "duration": 15,
    "start_time": "2025-02-26T18:21:05.616Z"
   },
   {
    "duration": 17,
    "start_time": "2025-02-26T18:22:31.854Z"
   },
   {
    "duration": 6726,
    "start_time": "2025-02-26T18:22:36.075Z"
   },
   {
    "duration": 1268,
    "start_time": "2025-02-26T18:22:45.110Z"
   },
   {
    "duration": 24,
    "start_time": "2025-02-26T18:22:48.568Z"
   },
   {
    "duration": 9,
    "start_time": "2025-02-26T18:32:54.643Z"
   },
   {
    "duration": 2805,
    "start_time": "2025-02-26T18:33:30.237Z"
   },
   {
    "duration": 5,
    "start_time": "2025-02-26T18:35:24.834Z"
   },
   {
    "duration": 19,
    "start_time": "2025-02-26T18:36:35.465Z"
   },
   {
    "duration": 39,
    "start_time": "2025-02-26T18:37:27.625Z"
   },
   {
    "duration": 39,
    "start_time": "2025-02-26T18:38:16.930Z"
   },
   {
    "duration": 4,
    "start_time": "2025-02-26T18:39:59.270Z"
   },
   {
    "duration": 40,
    "start_time": "2025-02-26T18:40:46.505Z"
   },
   {
    "duration": 46,
    "start_time": "2025-02-26T18:41:23.862Z"
   },
   {
    "duration": 40,
    "start_time": "2025-02-26T18:42:38.715Z"
   },
   {
    "duration": 1440,
    "start_time": "2025-02-26T18:53:03.963Z"
   },
   {
    "duration": 152,
    "start_time": "2025-02-26T18:53:05.405Z"
   },
   {
    "duration": 13,
    "start_time": "2025-02-26T18:53:05.558Z"
   },
   {
    "duration": 11,
    "start_time": "2025-02-26T18:53:05.573Z"
   },
   {
    "duration": 28,
    "start_time": "2025-02-26T18:53:05.585Z"
   },
   {
    "duration": 11,
    "start_time": "2025-02-26T18:53:05.614Z"
   },
   {
    "duration": 36,
    "start_time": "2025-02-26T18:53:05.626Z"
   },
   {
    "duration": 59,
    "start_time": "2025-02-26T18:53:05.663Z"
   },
   {
    "duration": 53,
    "start_time": "2025-02-26T18:53:05.723Z"
   },
   {
    "duration": 20,
    "start_time": "2025-02-26T18:53:05.779Z"
   },
   {
    "duration": 30,
    "start_time": "2025-02-26T18:53:05.800Z"
   },
   {
    "duration": 18,
    "start_time": "2025-02-26T18:53:05.832Z"
   },
   {
    "duration": 18,
    "start_time": "2025-02-26T18:53:05.852Z"
   },
   {
    "duration": 257,
    "start_time": "2025-02-26T18:53:05.872Z"
   },
   {
    "duration": 8,
    "start_time": "2025-02-26T18:53:06.131Z"
   },
   {
    "duration": 33,
    "start_time": "2025-02-26T18:53:06.141Z"
   },
   {
    "duration": 34,
    "start_time": "2025-02-26T18:53:06.176Z"
   },
   {
    "duration": 1921,
    "start_time": "2025-02-26T18:53:06.212Z"
   },
   {
    "duration": 189,
    "start_time": "2025-02-26T18:53:08.135Z"
   },
   {
    "duration": 1439,
    "start_time": "2025-02-26T18:53:08.325Z"
   },
   {
    "duration": 19,
    "start_time": "2025-02-26T18:53:09.765Z"
   },
   {
    "duration": 9,
    "start_time": "2025-02-26T18:53:09.785Z"
   },
   {
    "duration": 1418,
    "start_time": "2025-02-26T18:53:09.796Z"
   },
   {
    "duration": 370,
    "start_time": "2025-02-26T18:53:11.216Z"
   },
   {
    "duration": 142,
    "start_time": "2025-02-26T18:53:11.587Z"
   },
   {
    "duration": 408,
    "start_time": "2025-02-26T18:53:11.730Z"
   },
   {
    "duration": 329,
    "start_time": "2025-02-26T18:53:12.140Z"
   },
   {
    "duration": 354,
    "start_time": "2025-02-26T18:53:12.474Z"
   },
   {
    "duration": 12,
    "start_time": "2025-02-26T18:53:12.830Z"
   },
   {
    "duration": 366,
    "start_time": "2025-02-26T18:53:12.843Z"
   },
   {
    "duration": 15,
    "start_time": "2025-02-26T18:53:13.211Z"
   },
   {
    "duration": 387,
    "start_time": "2025-02-26T18:53:13.228Z"
   },
   {
    "duration": 339,
    "start_time": "2025-02-26T18:53:13.616Z"
   },
   {
    "duration": 34,
    "start_time": "2025-02-26T18:53:13.957Z"
   },
   {
    "duration": 5,
    "start_time": "2025-02-26T18:53:13.993Z"
   },
   {
    "duration": 24,
    "start_time": "2025-02-26T18:53:14.000Z"
   },
   {
    "duration": 6,
    "start_time": "2025-02-26T18:53:14.025Z"
   },
   {
    "duration": 51,
    "start_time": "2025-02-26T18:53:14.033Z"
   },
   {
    "duration": 8144,
    "start_time": "2025-02-26T18:53:14.086Z"
   },
   {
    "duration": 1147,
    "start_time": "2025-02-26T18:53:22.232Z"
   },
   {
    "duration": 2975,
    "start_time": "2025-02-26T18:53:23.381Z"
   },
   {
    "duration": 23,
    "start_time": "2025-02-26T18:53:26.358Z"
   },
   {
    "duration": 145,
    "start_time": "2025-02-26T18:53:26.383Z"
   },
   {
    "duration": 1525,
    "start_time": "2025-02-26T20:22:48.554Z"
   },
   {
    "duration": 72,
    "start_time": "2025-02-26T20:22:50.081Z"
   },
   {
    "duration": 12,
    "start_time": "2025-02-26T20:22:50.155Z"
   },
   {
    "duration": 11,
    "start_time": "2025-02-26T20:22:50.169Z"
   },
   {
    "duration": 13,
    "start_time": "2025-02-26T20:22:50.181Z"
   },
   {
    "duration": 11,
    "start_time": "2025-02-26T20:22:50.195Z"
   },
   {
    "duration": 29,
    "start_time": "2025-02-26T20:22:50.208Z"
   },
   {
    "duration": 10,
    "start_time": "2025-02-26T20:22:50.239Z"
   },
   {
    "duration": 34,
    "start_time": "2025-02-26T20:22:50.250Z"
   },
   {
    "duration": 15,
    "start_time": "2025-02-26T20:22:50.286Z"
   },
   {
    "duration": 14,
    "start_time": "2025-02-26T20:22:50.303Z"
   },
   {
    "duration": 11,
    "start_time": "2025-02-26T20:22:50.318Z"
   },
   {
    "duration": 48,
    "start_time": "2025-02-26T20:22:50.331Z"
   },
   {
    "duration": 268,
    "start_time": "2025-02-26T20:22:50.381Z"
   },
   {
    "duration": 22,
    "start_time": "2025-02-26T20:22:50.650Z"
   },
   {
    "duration": 5,
    "start_time": "2025-02-26T20:22:50.673Z"
   },
   {
    "duration": 21,
    "start_time": "2025-02-26T20:22:50.680Z"
   },
   {
    "duration": 1899,
    "start_time": "2025-02-26T20:22:50.702Z"
   },
   {
    "duration": 182,
    "start_time": "2025-02-26T20:22:52.603Z"
   },
   {
    "duration": 1509,
    "start_time": "2025-02-26T20:22:52.787Z"
   },
   {
    "duration": 19,
    "start_time": "2025-02-26T20:22:54.298Z"
   },
   {
    "duration": 10,
    "start_time": "2025-02-26T20:22:54.319Z"
   },
   {
    "duration": 1443,
    "start_time": "2025-02-26T20:22:54.330Z"
   },
   {
    "duration": 351,
    "start_time": "2025-02-26T20:22:55.775Z"
   },
   {
    "duration": 137,
    "start_time": "2025-02-26T20:22:56.128Z"
   },
   {
    "duration": 412,
    "start_time": "2025-02-26T20:22:56.266Z"
   },
   {
    "duration": 324,
    "start_time": "2025-02-26T20:22:56.679Z"
   },
   {
    "duration": 379,
    "start_time": "2025-02-26T20:22:57.006Z"
   },
   {
    "duration": 13,
    "start_time": "2025-02-26T20:22:57.386Z"
   },
   {
    "duration": 364,
    "start_time": "2025-02-26T20:22:57.401Z"
   },
   {
    "duration": 13,
    "start_time": "2025-02-26T20:22:57.771Z"
   },
   {
    "duration": 380,
    "start_time": "2025-02-26T20:22:57.786Z"
   },
   {
    "duration": 338,
    "start_time": "2025-02-26T20:22:58.168Z"
   },
   {
    "duration": 24,
    "start_time": "2025-02-26T20:22:58.508Z"
   },
   {
    "duration": 5,
    "start_time": "2025-02-26T20:22:58.534Z"
   },
   {
    "duration": 51,
    "start_time": "2025-02-26T20:22:58.540Z"
   },
   {
    "duration": 4,
    "start_time": "2025-02-26T20:22:58.593Z"
   },
   {
    "duration": 20,
    "start_time": "2025-02-26T20:22:58.599Z"
   },
   {
    "duration": 8728,
    "start_time": "2025-02-26T20:22:58.620Z"
   },
   {
    "duration": 1323,
    "start_time": "2025-02-26T20:23:07.350Z"
   },
   {
    "duration": 2873,
    "start_time": "2025-02-26T20:23:08.675Z"
   },
   {
    "duration": 23,
    "start_time": "2025-02-26T20:23:11.550Z"
   },
   {
    "duration": 136,
    "start_time": "2025-02-26T20:23:11.575Z"
   },
   {
    "duration": 1508,
    "start_time": "2025-02-26T20:38:15.554Z"
   },
   {
    "duration": 139,
    "start_time": "2025-02-26T20:38:17.064Z"
   },
   {
    "duration": 14,
    "start_time": "2025-02-26T20:38:17.204Z"
   },
   {
    "duration": 12,
    "start_time": "2025-02-26T20:38:17.220Z"
   },
   {
    "duration": 14,
    "start_time": "2025-02-26T20:38:17.234Z"
   },
   {
    "duration": 13,
    "start_time": "2025-02-26T20:38:17.271Z"
   },
   {
    "duration": 14,
    "start_time": "2025-02-26T20:38:17.286Z"
   },
   {
    "duration": 10,
    "start_time": "2025-02-26T20:38:17.302Z"
   },
   {
    "duration": 133,
    "start_time": "2025-02-26T20:38:17.313Z"
   },
   {
    "duration": 16,
    "start_time": "2025-02-26T20:38:17.450Z"
   },
   {
    "duration": 18,
    "start_time": "2025-02-26T20:38:17.468Z"
   },
   {
    "duration": 13,
    "start_time": "2025-02-26T20:38:17.489Z"
   },
   {
    "duration": 17,
    "start_time": "2025-02-26T20:38:17.504Z"
   },
   {
    "duration": 303,
    "start_time": "2025-02-26T20:38:17.522Z"
   },
   {
    "duration": 10,
    "start_time": "2025-02-26T20:38:17.826Z"
   },
   {
    "duration": 6,
    "start_time": "2025-02-26T20:38:17.837Z"
   },
   {
    "duration": 40,
    "start_time": "2025-02-26T20:38:17.844Z"
   },
   {
    "duration": 2104,
    "start_time": "2025-02-26T20:38:17.885Z"
   },
   {
    "duration": 198,
    "start_time": "2025-02-26T20:38:19.990Z"
   },
   {
    "duration": 1603,
    "start_time": "2025-02-26T20:38:20.189Z"
   },
   {
    "duration": 17,
    "start_time": "2025-02-26T20:38:21.794Z"
   },
   {
    "duration": 10,
    "start_time": "2025-02-26T20:38:21.813Z"
   },
   {
    "duration": 1687,
    "start_time": "2025-02-26T20:38:21.825Z"
   },
   {
    "duration": 387,
    "start_time": "2025-02-26T20:38:23.513Z"
   },
   {
    "duration": 164,
    "start_time": "2025-02-26T20:38:23.902Z"
   },
   {
    "duration": 491,
    "start_time": "2025-02-26T20:38:24.073Z"
   },
   {
    "duration": 370,
    "start_time": "2025-02-26T20:38:24.566Z"
   },
   {
    "duration": 403,
    "start_time": "2025-02-26T20:38:24.939Z"
   },
   {
    "duration": 12,
    "start_time": "2025-02-26T20:38:25.344Z"
   },
   {
    "duration": 459,
    "start_time": "2025-02-26T20:38:25.358Z"
   },
   {
    "duration": 13,
    "start_time": "2025-02-26T20:38:25.819Z"
   },
   {
    "duration": 431,
    "start_time": "2025-02-26T20:38:25.833Z"
   },
   {
    "duration": 378,
    "start_time": "2025-02-26T20:38:26.265Z"
   },
   {
    "duration": 48,
    "start_time": "2025-02-26T20:38:26.645Z"
   },
   {
    "duration": 4,
    "start_time": "2025-02-26T20:38:26.695Z"
   },
   {
    "duration": 26,
    "start_time": "2025-02-26T20:38:26.701Z"
   },
   {
    "duration": 5,
    "start_time": "2025-02-26T20:38:26.729Z"
   },
   {
    "duration": 53,
    "start_time": "2025-02-26T20:38:26.735Z"
   },
   {
    "duration": 6967,
    "start_time": "2025-02-26T20:38:26.789Z"
   },
   {
    "duration": 917,
    "start_time": "2025-02-26T20:38:33.757Z"
   },
   {
    "duration": 2638,
    "start_time": "2025-02-26T20:38:34.683Z"
   },
   {
    "duration": 14,
    "start_time": "2025-02-26T20:38:37.323Z"
   },
   {
    "duration": 165,
    "start_time": "2025-02-26T20:38:37.338Z"
   },
   {
    "duration": 1627,
    "start_time": "2025-03-01T13:29:41.236Z"
   },
   {
    "duration": 79,
    "start_time": "2025-03-01T13:29:42.865Z"
   },
   {
    "duration": 14,
    "start_time": "2025-03-01T13:29:42.945Z"
   },
   {
    "duration": 13,
    "start_time": "2025-03-01T13:29:42.962Z"
   },
   {
    "duration": 16,
    "start_time": "2025-03-01T13:29:42.977Z"
   },
   {
    "duration": 11,
    "start_time": "2025-03-01T13:29:42.994Z"
   },
   {
    "duration": 11,
    "start_time": "2025-03-01T13:29:43.007Z"
   },
   {
    "duration": 14,
    "start_time": "2025-03-01T13:29:44.757Z"
   },
   {
    "duration": 24,
    "start_time": "2025-03-01T13:29:54.136Z"
   },
   {
    "duration": 22,
    "start_time": "2025-03-01T13:30:10.664Z"
   },
   {
    "duration": 24,
    "start_time": "2025-03-01T13:31:43.862Z"
   },
   {
    "duration": 21,
    "start_time": "2025-03-01T13:31:48.268Z"
   },
   {
    "duration": 20,
    "start_time": "2025-03-01T13:35:42.122Z"
   },
   {
    "duration": 2229,
    "start_time": "2025-03-01T13:45:26.994Z"
   },
   {
    "duration": 26,
    "start_time": "2025-03-01T13:48:35.675Z"
   },
   {
    "duration": 1350,
    "start_time": "2025-03-01T13:48:58.074Z"
   },
   {
    "duration": 77,
    "start_time": "2025-03-01T13:48:59.426Z"
   },
   {
    "duration": 13,
    "start_time": "2025-03-01T13:48:59.504Z"
   },
   {
    "duration": 13,
    "start_time": "2025-03-01T13:48:59.519Z"
   },
   {
    "duration": 12,
    "start_time": "2025-03-01T13:48:59.534Z"
   },
   {
    "duration": 27,
    "start_time": "2025-03-01T13:48:59.548Z"
   },
   {
    "duration": 11,
    "start_time": "2025-03-01T13:48:59.577Z"
   },
   {
    "duration": 16,
    "start_time": "2025-03-01T13:48:59.589Z"
   },
   {
    "duration": 33,
    "start_time": "2025-03-01T13:48:59.607Z"
   },
   {
    "duration": 32,
    "start_time": "2025-03-01T13:48:59.642Z"
   },
   {
    "duration": 121,
    "start_time": "2025-03-01T13:48:59.676Z"
   },
   {
    "duration": 0,
    "start_time": "2025-03-01T13:48:59.799Z"
   },
   {
    "duration": 0,
    "start_time": "2025-03-01T13:48:59.800Z"
   },
   {
    "duration": 0,
    "start_time": "2025-03-01T13:48:59.801Z"
   },
   {
    "duration": 0,
    "start_time": "2025-03-01T13:48:59.802Z"
   },
   {
    "duration": 0,
    "start_time": "2025-03-01T13:48:59.803Z"
   },
   {
    "duration": 0,
    "start_time": "2025-03-01T13:48:59.803Z"
   },
   {
    "duration": 0,
    "start_time": "2025-03-01T13:48:59.804Z"
   },
   {
    "duration": 0,
    "start_time": "2025-03-01T13:48:59.805Z"
   },
   {
    "duration": 0,
    "start_time": "2025-03-01T13:48:59.806Z"
   },
   {
    "duration": 0,
    "start_time": "2025-03-01T13:48:59.807Z"
   },
   {
    "duration": 0,
    "start_time": "2025-03-01T13:48:59.808Z"
   },
   {
    "duration": 0,
    "start_time": "2025-03-01T13:48:59.809Z"
   },
   {
    "duration": 0,
    "start_time": "2025-03-01T13:48:59.810Z"
   },
   {
    "duration": 12,
    "start_time": "2025-03-01T13:49:52.030Z"
   },
   {
    "duration": 10,
    "start_time": "2025-03-01T13:49:56.046Z"
   },
   {
    "duration": 20,
    "start_time": "2025-03-01T13:49:58.483Z"
   },
   {
    "duration": 237,
    "start_time": "2025-03-01T13:49:59.993Z"
   },
   {
    "duration": 1387,
    "start_time": "2025-03-01T13:50:14.300Z"
   },
   {
    "duration": 75,
    "start_time": "2025-03-01T13:50:15.689Z"
   },
   {
    "duration": 14,
    "start_time": "2025-03-01T13:50:15.765Z"
   },
   {
    "duration": 81,
    "start_time": "2025-03-01T13:50:15.781Z"
   },
   {
    "duration": 52,
    "start_time": "2025-03-01T13:50:15.864Z"
   },
   {
    "duration": 31,
    "start_time": "2025-03-01T13:50:15.918Z"
   },
   {
    "duration": 11,
    "start_time": "2025-03-01T13:50:15.951Z"
   },
   {
    "duration": 16,
    "start_time": "2025-03-01T13:50:15.963Z"
   },
   {
    "duration": 22,
    "start_time": "2025-03-01T13:50:15.981Z"
   },
   {
    "duration": 19,
    "start_time": "2025-03-01T13:50:16.005Z"
   },
   {
    "duration": 12,
    "start_time": "2025-03-01T13:50:16.026Z"
   },
   {
    "duration": 36,
    "start_time": "2025-03-01T13:50:16.039Z"
   },
   {
    "duration": 46,
    "start_time": "2025-03-01T13:50:16.077Z"
   },
   {
    "duration": 246,
    "start_time": "2025-03-01T13:50:16.124Z"
   },
   {
    "duration": 8,
    "start_time": "2025-03-01T13:50:16.372Z"
   },
   {
    "duration": 12,
    "start_time": "2025-03-01T13:50:16.382Z"
   },
   {
    "duration": 44,
    "start_time": "2025-03-01T13:50:16.396Z"
   },
   {
    "duration": 1822,
    "start_time": "2025-03-01T13:50:16.441Z"
   },
   {
    "duration": 1772,
    "start_time": "2025-03-01T13:50:18.265Z"
   },
   {
    "duration": 19,
    "start_time": "2025-03-01T13:50:20.038Z"
   },
   {
    "duration": 10,
    "start_time": "2025-03-01T13:50:20.071Z"
   },
   {
    "duration": 1338,
    "start_time": "2025-03-01T13:50:20.082Z"
   },
   {
    "duration": 370,
    "start_time": "2025-03-01T13:50:21.422Z"
   },
   {
    "duration": 138,
    "start_time": "2025-03-01T13:50:21.794Z"
   },
   {
    "duration": 382,
    "start_time": "2025-03-01T13:50:35.571Z"
   },
   {
    "duration": 410,
    "start_time": "2025-03-01T14:00:12.695Z"
   },
   {
    "duration": 15,
    "start_time": "2025-03-01T14:00:16.010Z"
   },
   {
    "duration": 10,
    "start_time": "2025-03-01T14:04:32.461Z"
   },
   {
    "duration": 1316,
    "start_time": "2025-03-01T14:05:51.913Z"
   },
   {
    "duration": 96,
    "start_time": "2025-03-01T14:05:53.231Z"
   },
   {
    "duration": 13,
    "start_time": "2025-03-01T14:05:53.328Z"
   },
   {
    "duration": 22,
    "start_time": "2025-03-01T14:05:53.343Z"
   },
   {
    "duration": 35,
    "start_time": "2025-03-01T14:05:53.367Z"
   },
   {
    "duration": 21,
    "start_time": "2025-03-01T14:05:53.403Z"
   },
   {
    "duration": 22,
    "start_time": "2025-03-01T14:05:53.425Z"
   },
   {
    "duration": 13,
    "start_time": "2025-03-01T14:05:53.449Z"
   },
   {
    "duration": 23,
    "start_time": "2025-03-01T14:05:53.463Z"
   },
   {
    "duration": 18,
    "start_time": "2025-03-01T14:05:53.489Z"
   },
   {
    "duration": 12,
    "start_time": "2025-03-01T14:05:53.509Z"
   },
   {
    "duration": 19,
    "start_time": "2025-03-01T14:05:53.522Z"
   },
   {
    "duration": 33,
    "start_time": "2025-03-01T14:05:53.542Z"
   },
   {
    "duration": 243,
    "start_time": "2025-03-01T14:05:53.576Z"
   },
   {
    "duration": 8,
    "start_time": "2025-03-01T14:05:53.821Z"
   },
   {
    "duration": 5,
    "start_time": "2025-03-01T14:05:53.830Z"
   },
   {
    "duration": 41,
    "start_time": "2025-03-01T14:05:53.836Z"
   },
   {
    "duration": 1773,
    "start_time": "2025-03-01T14:05:53.878Z"
   },
   {
    "duration": 1755,
    "start_time": "2025-03-01T14:05:55.652Z"
   },
   {
    "duration": 20,
    "start_time": "2025-03-01T14:05:57.408Z"
   },
   {
    "duration": 9,
    "start_time": "2025-03-01T14:05:57.429Z"
   },
   {
    "duration": 1388,
    "start_time": "2025-03-01T14:05:57.440Z"
   },
   {
    "duration": 366,
    "start_time": "2025-03-01T14:05:58.830Z"
   },
   {
    "duration": 146,
    "start_time": "2025-03-01T14:05:59.198Z"
   },
   {
    "duration": 402,
    "start_time": "2025-03-01T14:05:59.345Z"
   },
   {
    "duration": 14,
    "start_time": "2025-03-01T14:05:59.749Z"
   },
   {
    "duration": 343,
    "start_time": "2025-03-01T14:05:59.771Z"
   },
   {
    "duration": 13,
    "start_time": "2025-03-01T14:06:00.117Z"
   },
   {
    "duration": 366,
    "start_time": "2025-03-01T14:06:00.131Z"
   },
   {
    "duration": 12,
    "start_time": "2025-03-01T14:06:00.499Z"
   },
   {
    "duration": 414,
    "start_time": "2025-03-01T14:06:00.512Z"
   },
   {
    "duration": 8,
    "start_time": "2025-03-01T14:06:00.928Z"
   },
   {
    "duration": 44,
    "start_time": "2025-03-01T14:06:00.937Z"
   },
   {
    "duration": 5,
    "start_time": "2025-03-01T14:06:00.983Z"
   },
   {
    "duration": 24,
    "start_time": "2025-03-01T14:06:00.990Z"
   },
   {
    "duration": 5,
    "start_time": "2025-03-01T14:06:01.015Z"
   },
   {
    "duration": 52,
    "start_time": "2025-03-01T14:06:01.022Z"
   },
   {
    "duration": 7361,
    "start_time": "2025-03-01T14:06:01.076Z"
   },
   {
    "duration": 1237,
    "start_time": "2025-03-01T14:06:08.439Z"
   },
   {
    "duration": 2866,
    "start_time": "2025-03-01T14:06:09.678Z"
   },
   {
    "duration": 13,
    "start_time": "2025-03-01T14:06:12.546Z"
   },
   {
    "duration": 47,
    "start_time": "2025-03-01T14:06:12.560Z"
   },
   {
    "duration": 3785,
    "start_time": "2025-03-01T14:32:55.929Z"
   },
   {
    "duration": 996,
    "start_time": "2025-03-01T14:33:21.407Z"
   },
   {
    "duration": 957,
    "start_time": "2025-03-01T14:34:26.882Z"
   },
   {
    "duration": 442,
    "start_time": "2025-03-01T14:35:45.387Z"
   },
   {
    "duration": 2584,
    "start_time": "2025-03-01T16:23:57.211Z"
   },
   {
    "duration": 219,
    "start_time": "2025-03-01T16:23:59.803Z"
   },
   {
    "duration": 28,
    "start_time": "2025-03-01T16:24:00.077Z"
   },
   {
    "duration": 14,
    "start_time": "2025-03-01T16:24:00.108Z"
   },
   {
    "duration": 37,
    "start_time": "2025-03-01T16:24:00.178Z"
   },
   {
    "duration": 68,
    "start_time": "2025-03-01T16:24:00.216Z"
   },
   {
    "duration": 19,
    "start_time": "2025-03-01T16:24:00.292Z"
   },
   {
    "duration": 80,
    "start_time": "2025-03-01T16:24:00.313Z"
   },
   {
    "duration": 95,
    "start_time": "2025-03-01T16:24:00.395Z"
   },
   {
    "duration": 31,
    "start_time": "2025-03-01T16:24:00.493Z"
   },
   {
    "duration": 18,
    "start_time": "2025-03-01T16:24:00.569Z"
   },
   {
    "duration": 96,
    "start_time": "2025-03-01T16:24:00.589Z"
   },
   {
    "duration": 31,
    "start_time": "2025-03-01T16:24:00.689Z"
   },
   {
    "duration": 310,
    "start_time": "2025-03-01T16:24:00.721Z"
   },
   {
    "duration": 10,
    "start_time": "2025-03-01T16:24:01.033Z"
   },
   {
    "duration": 43,
    "start_time": "2025-03-01T16:24:01.044Z"
   },
   {
    "duration": 19,
    "start_time": "2025-03-01T16:24:01.096Z"
   },
   {
    "duration": 1995,
    "start_time": "2025-03-01T16:24:01.116Z"
   },
   {
    "duration": 492,
    "start_time": "2025-03-01T16:24:03.112Z"
   },
   {
    "duration": 2131,
    "start_time": "2025-03-01T16:24:03.606Z"
   },
   {
    "duration": 19,
    "start_time": "2025-03-01T16:24:05.738Z"
   },
   {
    "duration": 82,
    "start_time": "2025-03-01T16:24:05.776Z"
   },
   {
    "duration": 1685,
    "start_time": "2025-03-01T16:24:05.859Z"
   },
   {
    "duration": 370,
    "start_time": "2025-03-01T16:24:07.546Z"
   },
   {
    "duration": 26,
    "start_time": "2025-03-01T16:24:07.918Z"
   },
   {
    "duration": 442,
    "start_time": "2025-03-01T16:24:07.945Z"
   },
   {
    "duration": 14,
    "start_time": "2025-03-01T16:24:08.399Z"
   },
   {
    "duration": 408,
    "start_time": "2025-03-01T16:24:08.416Z"
   },
   {
    "duration": 13,
    "start_time": "2025-03-01T16:24:08.826Z"
   },
   {
    "duration": 382,
    "start_time": "2025-03-01T16:24:08.841Z"
   },
   {
    "duration": 14,
    "start_time": "2025-03-01T16:24:09.225Z"
   },
   {
    "duration": 418,
    "start_time": "2025-03-01T16:24:09.241Z"
   },
   {
    "duration": 15,
    "start_time": "2025-03-01T16:24:09.663Z"
   },
   {
    "duration": 29,
    "start_time": "2025-03-01T16:24:09.684Z"
   },
   {
    "duration": 5,
    "start_time": "2025-03-01T16:24:09.715Z"
   },
   {
    "duration": 21,
    "start_time": "2025-03-01T16:24:09.721Z"
   },
   {
    "duration": 5,
    "start_time": "2025-03-01T16:24:09.743Z"
   },
   {
    "duration": 52,
    "start_time": "2025-03-01T16:24:09.749Z"
   },
   {
    "duration": 6524,
    "start_time": "2025-03-01T16:24:09.803Z"
   },
   {
    "duration": 960,
    "start_time": "2025-03-01T16:24:16.329Z"
   },
   {
    "duration": 2336,
    "start_time": "2025-03-01T16:24:17.293Z"
   },
   {
    "duration": 16,
    "start_time": "2025-03-01T16:24:19.631Z"
   },
   {
    "duration": 64,
    "start_time": "2025-03-01T16:24:19.649Z"
   },
   {
    "duration": 1473,
    "start_time": "2025-03-01T16:27:21.951Z"
   },
   {
    "duration": 88,
    "start_time": "2025-03-01T16:27:23.426Z"
   },
   {
    "duration": 14,
    "start_time": "2025-03-01T16:27:23.515Z"
   },
   {
    "duration": 31,
    "start_time": "2025-03-01T16:27:23.531Z"
   },
   {
    "duration": 52,
    "start_time": "2025-03-01T16:27:23.563Z"
   },
   {
    "duration": 24,
    "start_time": "2025-03-01T16:27:23.617Z"
   },
   {
    "duration": 26,
    "start_time": "2025-03-01T16:27:23.642Z"
   },
   {
    "duration": 31,
    "start_time": "2025-03-01T16:27:23.669Z"
   },
   {
    "duration": 22,
    "start_time": "2025-03-01T16:27:23.701Z"
   },
   {
    "duration": 41,
    "start_time": "2025-03-01T16:27:23.726Z"
   },
   {
    "duration": 19,
    "start_time": "2025-03-01T16:27:23.769Z"
   },
   {
    "duration": 10,
    "start_time": "2025-03-01T16:27:23.789Z"
   },
   {
    "duration": 25,
    "start_time": "2025-03-01T16:27:23.801Z"
   },
   {
    "duration": 284,
    "start_time": "2025-03-01T16:27:23.827Z"
   },
   {
    "duration": 10,
    "start_time": "2025-03-01T16:27:24.112Z"
   },
   {
    "duration": 34,
    "start_time": "2025-03-01T16:27:24.123Z"
   },
   {
    "duration": 30,
    "start_time": "2025-03-01T16:27:24.159Z"
   },
   {
    "duration": 1953,
    "start_time": "2025-03-01T16:27:24.190Z"
   },
   {
    "duration": 2019,
    "start_time": "2025-03-01T16:27:26.145Z"
   },
   {
    "duration": 31,
    "start_time": "2025-03-01T16:27:28.166Z"
   },
   {
    "duration": 15,
    "start_time": "2025-03-01T16:27:28.199Z"
   },
   {
    "duration": 1488,
    "start_time": "2025-03-01T16:27:28.216Z"
   },
   {
    "duration": 380,
    "start_time": "2025-03-01T16:27:29.705Z"
   },
   {
    "duration": 153,
    "start_time": "2025-03-01T16:27:30.087Z"
   },
   {
    "duration": 435,
    "start_time": "2025-03-01T16:27:30.241Z"
   },
   {
    "duration": 14,
    "start_time": "2025-03-01T16:27:30.683Z"
   },
   {
    "duration": 381,
    "start_time": "2025-03-01T16:27:30.698Z"
   },
   {
    "duration": 13,
    "start_time": "2025-03-01T16:27:31.083Z"
   },
   {
    "duration": 385,
    "start_time": "2025-03-01T16:27:31.098Z"
   },
   {
    "duration": 14,
    "start_time": "2025-03-01T16:27:31.485Z"
   },
   {
    "duration": 400,
    "start_time": "2025-03-01T16:27:31.500Z"
   },
   {
    "duration": 10,
    "start_time": "2025-03-01T16:27:31.902Z"
   },
   {
    "duration": 37,
    "start_time": "2025-03-01T16:27:31.914Z"
   },
   {
    "duration": 22,
    "start_time": "2025-03-01T16:27:31.954Z"
   },
   {
    "duration": 22,
    "start_time": "2025-03-01T16:27:31.985Z"
   },
   {
    "duration": 4,
    "start_time": "2025-03-01T16:27:32.008Z"
   },
   {
    "duration": 38,
    "start_time": "2025-03-01T16:27:32.014Z"
   },
   {
    "duration": 6184,
    "start_time": "2025-03-01T16:27:32.054Z"
   },
   {
    "duration": 951,
    "start_time": "2025-03-01T16:27:38.239Z"
   },
   {
    "duration": 2436,
    "start_time": "2025-03-01T16:27:39.277Z"
   },
   {
    "duration": 14,
    "start_time": "2025-03-01T16:27:41.715Z"
   },
   {
    "duration": 58,
    "start_time": "2025-03-01T16:27:41.731Z"
   }
  ],
  "kernelspec": {
   "display_name": "Python 3 (ipykernel)",
   "language": "python",
   "name": "python3"
  },
  "language_info": {
   "codemirror_mode": {
    "name": "ipython",
    "version": 3
   },
   "file_extension": ".py",
   "mimetype": "text/x-python",
   "name": "python",
   "nbconvert_exporter": "python",
   "pygments_lexer": "ipython3",
   "version": "3.9.18"
  },
  "toc": {
   "base_numbering": 1,
   "nav_menu": {},
   "number_sections": true,
   "sideBar": true,
   "skip_h1_title": true,
   "title_cell": "Table of Contents",
   "title_sidebar": "Contents",
   "toc_cell": false,
   "toc_position": {
    "height": "calc(100% - 180px)",
    "left": "10px",
    "top": "150px",
    "width": "237.983px"
   },
   "toc_section_display": true,
   "toc_window_display": true
  }
 },
 "nbformat": 4,
 "nbformat_minor": 2
}
